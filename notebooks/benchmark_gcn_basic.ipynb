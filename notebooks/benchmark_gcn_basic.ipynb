{
 "cells": [
  {
   "cell_type": "markdown",
   "id": "fc841c5f",
   "metadata": {},
   "source": [
    "## Our GCN on test data\n",
    "We here test the previously GCNs, ancestor and classic, trained on large (unbalanced, 45 000 individuals) and small (balanced, 20 000 individuals) data. \n",
    "\n",
    "## Enforcing causal paths in tabular GNN - Full data-graph (x, edge_index) child knowledge\n",
    "\n",
    "To train a GNN while respecting a minimal set of causal paths, we pass to the GNN 2 types of graph-data:\n",
    "- ancestor: with only the ancestor nodes\n",
    "- child: ancestor + child nodes, adding as an edge \"ancestor -> child\"\n",
    "\n",
    "-> s.t. child(n) becomes the ancestor of child(n+1)\n",
    "\n",
    "Constitute 2 graph-data parent/child, suggesting causality by adding child nodes (and also edge: parent -> child) in the child data.\n",
    "\n",
    "For the moment, we specify only 1 parent per edge, on 2 layers:\n",
    "- ancestor layer: age -> occupation\n",
    "- child layer: occupation -> hours of work per week\n",
    "\n",
    "For the moment, to avoid spurious correlations we also keep only the ancestor features (age, sex, race, native country) as node features for all graph-data. Based on this ancestor \"blind knowledge\", add the child as node features (and also edge: parent -> child) in the child graph-data?"
   ]
  },
  {
   "cell_type": "markdown",
   "id": "9d9b488d",
   "metadata": {},
   "source": [
    "# Results on test set\n",
    "\n",
    "We observe a stability in the results of the model trained with full features (even if only 1 edge) - approximately 75% accuracy and 75% ROC-AUC. \n",
    "\n",
    "By contrast, the model trained with 2 edges generalizes less well on unbalanced data it has never seen. The change of indexes across layers may perturbate the straightforward GCN more than \"improve its knowledge\", thus we have to seek for a **new progressive causal architecture**. \n",
    "\n",
    "## Models trained on balanced data\n",
    "### Unbalanced (7000 individuals)"
   ]
  },
  {
   "cell_type": "code",
   "execution_count": null,
   "id": "f019dd38",
   "metadata": {},
   "outputs": [],
   "source": [
    "%load_ext autoreload\n",
    "%autoreload 2\n",
    "\n",
    "# load already formed graph-data, to gain time\n",
    "from classif_basic.model import pickle_load_model\n",
    "from classif_basic.graph.plot import plot_perfs_gnn\n",
    "\n",
    "dict_test = pickle_load_model(\"/work/data/graph_data/unbalanced/test/dict_all_edges.pkl\")\n",
    "\n",
    "data_full_test = pickle_load_model(\"/work/data/graph_data/unbalanced/test/data_full_features_education_relationship.pkl\")"
   ]
  },
  {
   "cell_type": "code",
   "execution_count": null,
   "id": "fe4b5848",
   "metadata": {},
   "outputs": [],
   "source": [
    "# also load the model, to gain time \n",
    "gcn_classic_small = pickle_load_model(\"/work/data/models/gcn_classic_education_relationship.pkl\")\n",
    "\n",
    "gcn_ancestor_small = pickle_load_model(\"/work/data/models/gcn_ancestor_education_relationship_job.pkl\")"
   ]
  },
  {
   "cell_type": "code",
   "execution_count": null,
   "id": "d0a83f1d",
   "metadata": {
    "scrolled": true
   },
   "outputs": [],
   "source": [
    "# \"classic\" GNN - trained with all features as nodes, only 1 edge\n",
    "plot_perfs_gnn(classifier=gcn_classic_small,\n",
    "               list_data_test=[data_full_test])"
   ]
  },
  {
   "cell_type": "code",
   "execution_count": null,
   "id": "a949dc0a",
   "metadata": {
    "scrolled": true
   },
   "outputs": [],
   "source": [
    "# \"ancestor\" GNN - trained with only ancestor features as nodes, 2 edges\n",
    "plot_perfs_gnn(classifier=gcn_ancestor_small,\n",
    "               list_data_test=[dict_test[link] for link in dict_test.keys()])"
   ]
  },
  {
   "cell_type": "markdown",
   "id": "b0e7ccf6",
   "metadata": {},
   "source": [
    "### Balanced (3500 individuals)"
   ]
  },
  {
   "cell_type": "code",
   "execution_count": null,
   "id": "5941aa49",
   "metadata": {
    "scrolled": true
   },
   "outputs": [],
   "source": [
    "dict_test_balanced = pickle_load_model(\"/work/data/graph_data/balanced/test/dict_all_edges.pkl\")\n",
    "\n",
    "data_full_test_balanced = pickle_load_model(\"/work/data/graph_data/balanced/test/data_full_features_education_relationship.pkl\")\n",
    "\n",
    "# \"classic\" GNN - trained with all features as nodes, only 1 edge\n",
    "plot_perfs_gnn(classifier=gcn_classic_small,\n",
    "               list_data_test=[data_full_test_balanced])"
   ]
  },
  {
   "cell_type": "code",
   "execution_count": null,
   "id": "e4d042fb",
   "metadata": {
    "scrolled": true
   },
   "outputs": [],
   "source": [
    "# \"ancestor\" GNN - trained with only ancestor features as nodes, 2 edges\n",
    "plot_perfs_gnn(classifier=gcn_ancestor_small,\n",
    "               list_data_test=[dict_test_balanced[link] for link in dict_test_balanced.keys()])"
   ]
  },
  {
   "cell_type": "markdown",
   "id": "9496c9a1",
   "metadata": {},
   "source": [
    "## Model trained on full (unbalanced) data \n",
    "\n",
    "For comparison, we show here the results of the \"classic\" model, hence expected more performant (as the index information is not perturbated across layers), on test data.\n",
    "\n",
    "Even if the accuracy is low on balanced data, it show almost equal (but **a bit lower**) performances than the classic model trained on balanced data. This encourages us to **continue with these (series of?) 1-edge classifiers**...\n",
    "\n",
    "### Unbalanced (7000 individuals)"
   ]
  },
  {
   "cell_type": "code",
   "execution_count": null,
   "id": "a4851d03",
   "metadata": {},
   "outputs": [],
   "source": [
    "# load the model, to gain time \n",
    "gcn_classic_large = pickle_load_model(\"/work/data/models/gcn_classic_education_relationship_45_000_indivs.pkl\")\n",
    "\n",
    "plot_perfs_gnn(classifier=gcn_classic_large,\n",
    "               list_data_test=[data_full_test])"
   ]
  },
  {
   "cell_type": "markdown",
   "id": "0768cb39",
   "metadata": {},
   "source": [
    "### Balanced (3500 individuals)"
   ]
  },
  {
   "cell_type": "code",
   "execution_count": null,
   "id": "8e6095fe",
   "metadata": {
    "scrolled": true
   },
   "outputs": [],
   "source": [
    "plot_perfs_gnn(classifier=gcn_classic_large,\n",
    "               list_data_test=[data_full_test_balanced])"
   ]
  },
  {
   "cell_type": "markdown",
   "id": "30a8c380",
   "metadata": {},
   "source": [
    "# Basic XGB for comparison - excellent results\n",
    "With the same unified features 92% ROC-AUC, 81-84% PR-AUC, 85% accuracy on train&valid sets.\n",
    "\n",
    "**Conclusion** between at least **10-18% less than optimized XGB on all metrics** - respectable for non-optimized structures (basic edges, , basic GCN), our GNN (causal as non causal) have to be optimized..."
   ]
  },
  {
   "cell_type": "code",
   "execution_count": null,
   "id": "9c74310b",
   "metadata": {},
   "outputs": [],
   "source": [
    "# quick data preparation\n",
    "from sklearn.datasets import fetch_openml\n",
    "from sklearn.model_selection import train_test_split\n",
    "from classif_basic.data_preparation import handle_cat_features\n",
    "\n",
    "# preparing the dataset on clients for binary classification\n",
    "data = fetch_openml(data_id=1590, as_frame=True)\n",
    "\n",
    "X = data.data\n",
    "Y = (data.target == '>50K') * 1\n",
    "\n",
    "SEED = 7\n",
    "VALID_SIZE = 0.15\n",
    "preprocessing_cat_features = \"label_encoding\"\n",
    "\n",
    "X = handle_cat_features(X=X, preprocessing_cat_features=preprocessing_cat_features)\n",
    "\n",
    "# first of all, unify features with \"redundant\" causal information\n",
    "from classif_basic.graph.utils import get_unified_col\n",
    "\n",
    "X = get_unified_col(X=X, list_cols_to_join = [\"education\",\"education-num\"], new_col_name = \"education\")\n",
    "X = get_unified_col(X=X, list_cols_to_join = [\"relationship\",\"marital-status\"], new_col_name = \"relationship\")\n",
    "X = get_unified_col(X=X, list_cols_to_join = [\"occupation\",\"workclass\"], new_col_name = \"job\")\n",
    "X = get_unified_col(X=X, list_cols_to_join = [\"capital-gain\",\"capital-loss\"], new_col_name = \"capital\")\n",
    "\n",
    "# then, normalize the df categories for better neural-network computation\n",
    "from classif_basic.graph.utils import normalize_df\n",
    "\n",
    "X=normalize_df(df=X, normalization='min_max')\n",
    "\n",
    "# Split valid set for early stopping & model selection\n",
    "# \"stratify=Y\" to keep the same proportion of target classes in train/valid (i.e. model) and test sets \n",
    "X_model, X_test, Y_model, Y_test = train_test_split(\n",
    "    X, Y, test_size=VALID_SIZE, random_state=SEED, stratify=Y\n",
    ")"
   ]
  },
  {
   "cell_type": "code",
   "execution_count": null,
   "id": "95fa8fa7",
   "metadata": {},
   "outputs": [],
   "source": [
    "from classif_basic.graph.train import train_xgb_benchmark\n",
    "\n",
    "X_train, X_valid, Y_train, Y_valid = train_test_split(\n",
    "    X_model, Y_model, test_size=VALID_SIZE, random_state=SEED, stratify=Y_model\n",
    ")\n",
    "\n",
    "train_xgb_benchmark(X_train=X_train, X_valid=X_valid, Y_train=Y_train, Y_valid=Y_valid)"
   ]
  }
 ],
 "metadata": {
  "kernelspec": {
   "display_name": "Python 3 (ipykernel)",
   "language": "python",
   "name": "python3"
  },
  "language_info": {
   "codemirror_mode": {
    "name": "ipython",
    "version": 3
   },
   "file_extension": ".py",
   "mimetype": "text/x-python",
   "name": "python",
   "nbconvert_exporter": "python",
   "pygments_lexer": "ipython3",
   "version": "3.8.15"
  },
  "toc": {
   "base_numbering": 1,
   "nav_menu": {},
   "number_sections": true,
   "sideBar": true,
   "skip_h1_title": false,
   "title_cell": "Table of Contents",
   "title_sidebar": "Contents",
   "toc_cell": false,
   "toc_position": {
    "height": "calc(100% - 180px)",
    "left": "10px",
    "top": "150px",
    "width": "250.067px"
   },
   "toc_section_display": true,
   "toc_window_display": true
  }
 },
 "nbformat": 4,
 "nbformat_minor": 5
}
