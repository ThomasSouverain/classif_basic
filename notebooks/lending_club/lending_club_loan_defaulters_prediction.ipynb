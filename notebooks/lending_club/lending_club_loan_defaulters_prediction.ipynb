{
 "cells": [
  {
   "cell_type": "markdown",
   "id": "fb06c55c",
   "metadata": {
    "papermill": {
     "duration": 0.028761,
     "end_time": "2023-01-31T01:18:44.116645",
     "exception": false,
     "start_time": "2023-01-31T01:18:44.087884",
     "status": "completed"
    },
    "tags": []
   },
   "source": [
    "# 🏦 Loan Analysis Problem Statement\n",
    "\n",
    "# 📑 Introduction\n",
    "\n",
    "> `LendingClub` is a US peer-to-peer lending company, headquartered in San Francisco, California. It was the first peer-to-peer lender to register its offerings as securities with the Securities and Exchange Commission (SEC), and to offer loan trading on a secondary market. `LendingClub` is the world's largest peer-to-peer lending platform.\n",
    "\n",
    "> Solving this case study will give us an idea about how real business problems are solved using EDA and Machine Learning. In this case study, we will also develop a basic understanding of risk analytics in banking and financial services and understand how data is used to minimise the risk of losing money while lending to customers.\n",
    "\n",
    "# 📝 Business Understanding\n",
    "\n",
    "> You work for the `LendingClub` company which specialises in lending various types of loans to urban customers. When the company receives a loan application, the company has to make a decision for loan approval based on the applicant’s profile. Two types of risks are associated with the bank’s decision:\n",
    "\n",
    "> - If the applicant is likely to repay the loan, then not approving the loan results in a loss of business to the company\n",
    "> - If the applicant is not likely to repay the loan, i.e. he/she is likely to default, then approving the loan may lead to a financial loss for the company\n",
    "\n",
    "> The data given contains the information about past loan applicants and whether they ‘defaulted’ or not. The aim is to identify patterns which indicate if a person is likely to default, which may be used for takin actions such as denying the loan, reducing the amount of loan, lending (to risky applicants) at a higher interest rate, etc.\n",
    "\n",
    "> When a person applies for a loan, there are two types of decisions that could be taken by the company:\n",
    "> 1. `Loan accepted`: If the company approves the loan, there are 3 possible scenarios described below:\n",
    "    - `Fully paid`: Applicant has fully paid the loan (the principal and the interest rate)\n",
    "    - `Current`: Applicant is in the process of paying the instalments, i.e. the tenure of the loan is not yet completed. These candidates are not labelled as 'defaulted'.\n",
    "    - `Charged-off`: Applicant has not paid the instalments in due time for a long period of time, i.e. he/she has defaulted on the loan\n",
    "> 2. `Loan rejected`: The company had rejected the loan (because the candidate does not meet their requirements etc.). Since the loan was rejected, there is no transactional history of those applicants with the company and so this data is not available with the company (and thus in this dataset)\n",
    "\n",
    "# 🎯 Business Objectives\n",
    "> - `LendingClub` is the largest online loan marketplace, facilitating personal loans, business loans, and financing of medical procedures. Borrowers can easily access lower interest rate loans through a fast online interface. \n",
    "> - Like most other lending companies, lending loans to ‘`risky`’ applicants is the largest source of financial loss (called `credit loss`). The credit loss is the amount of money lost by the lender when the borrower refuses to pay or runs away with the money owed. In other words, borrowers who defaultcause the largest amount of loss to the lenders. In this case, the customers labelled as '`charged-off`' are the '`defaulters`'. \n",
    "> - If one is able to identify these risky loan applicants, then such loans can be reduced thereby cutting down the amount of credit loss. Identification of such applicants using EDA and machine learning is the aim of this case study. \n",
    "> - In other words, the company wants to understand the driving factors (or driver variables) behind loan default, i.e. the variables which are strong indicators of default. The company can utilise this knowledge for its portfolio and risk assessment. \n",
    "> - To develop your understanding of the domain, you are advised to independently research a little about risk analytics (understanding the types of variables and their significance should be enough).\n",
    "\n",
    "# 💾 Data Description\n",
    "\n",
    "----\n",
    "-----\n",
    "Here is the information on this particular data set:\n",
    "\n",
    "<table border=\"1\" class=\"dataframe\">\n",
    "  <thead>\n",
    "    <tr style=\"text-align: right;\">\n",
    "      <th></th>\n",
    "      <th>LoanStatNew</th>\n",
    "      <th>Description</th>\n",
    "    </tr>\n",
    "  </thead>\n",
    "  <tbody>\n",
    "    <tr>\n",
    "      <th>0</th>\n",
    "      <td>loan_amnt</td>\n",
    "      <td>The listed amount of the loan applied for by the borrower. If at some point in time, the credit department reduces the loan amount, then it will be reflected in this value.</td>\n",
    "    </tr>\n",
    "    <tr>\n",
    "      <th>1</th>\n",
    "      <td>term</td>\n",
    "      <td>The number of payments on the loan. Values are in months and can be either 36 or 60.</td>\n",
    "    </tr>\n",
    "    <tr>\n",
    "      <th>2</th>\n",
    "      <td>int_rate</td>\n",
    "      <td>Interest Rate on the loan</td>\n",
    "    </tr>\n",
    "    <tr>\n",
    "      <th>3</th>\n",
    "      <td>installment</td>\n",
    "      <td>The monthly payment owed by the borrower if the loan originates.</td>\n",
    "    </tr>\n",
    "    <tr>\n",
    "      <th>4</th>\n",
    "      <td>grade</td>\n",
    "      <td>LC assigned loan grade</td>\n",
    "    </tr>\n",
    "    <tr>\n",
    "      <th>5</th>\n",
    "      <td>sub_grade</td>\n",
    "      <td>LC assigned loan subgrade</td>\n",
    "    </tr>\n",
    "    <tr>\n",
    "      <th>6</th>\n",
    "      <td>emp_title</td>\n",
    "      <td>The job title supplied by the Borrower when applying for the loan.*</td>\n",
    "    </tr>\n",
    "    <tr>\n",
    "      <th>7</th>\n",
    "      <td>emp_length</td>\n",
    "      <td>Employment length in years. Possible values are between 0 and 10 where 0 means less than one year and 10 means ten or more years.</td>\n",
    "    </tr>\n",
    "    <tr>\n",
    "      <th>8</th>\n",
    "      <td>home_ownership</td>\n",
    "      <td>The home ownership status provided by the borrower during registration or obtained from the credit report. Our values are: RENT, OWN, MORTGAGE, OTHER</td>\n",
    "    </tr>\n",
    "    <tr>\n",
    "      <th>9</th>\n",
    "      <td>annual_inc</td>\n",
    "      <td>The self-reported annual income provided by the borrower during registration.</td>\n",
    "    </tr>\n",
    "    <tr>\n",
    "      <th>10</th>\n",
    "      <td>verification_status</td>\n",
    "      <td>Indicates if income was verified by LC, not verified, or if the income source was verified</td>\n",
    "    </tr>\n",
    "    <tr>\n",
    "      <th>11</th>\n",
    "      <td>issue_d</td>\n",
    "      <td>The month which the loan was funded</td>\n",
    "    </tr>\n",
    "    <tr>\n",
    "      <th>12</th>\n",
    "      <td>loan_status</td>\n",
    "      <td>Current status of the loan</td>\n",
    "    </tr>\n",
    "    <tr>\n",
    "      <th>13</th>\n",
    "      <td>purpose</td>\n",
    "      <td>A category provided by the borrower for the loan request.</td>\n",
    "    </tr>\n",
    "    <tr>\n",
    "      <th>14</th>\n",
    "      <td>title</td>\n",
    "      <td>The loan title provided by the borrower</td>\n",
    "    </tr>\n",
    "    <tr>\n",
    "      <th>15</th>\n",
    "      <td>zip_code</td>\n",
    "      <td>The first 3 numbers of the zip code provided by the borrower in the loan application.</td>\n",
    "    </tr>\n",
    "    <tr>\n",
    "      <th>16</th>\n",
    "      <td>addr_state</td>\n",
    "      <td>The state provided by the borrower in the loan application</td>\n",
    "    </tr>\n",
    "    <tr>\n",
    "      <th>17</th>\n",
    "      <td>dti</td>\n",
    "      <td>A ratio calculated using the borrower’s total monthly debt payments on the total debt obligations, excluding mortgage and the requested LC loan, divided by the borrower’s self-reported monthly income.</td>\n",
    "    </tr>\n",
    "    <tr>\n",
    "      <th>18</th>\n",
    "      <td>earliest_cr_line</td>\n",
    "      <td>The month the borrower's earliest reported credit line was opened</td>\n",
    "    </tr>\n",
    "    <tr>\n",
    "      <th>19</th>\n",
    "      <td>open_acc</td>\n",
    "      <td>The number of open credit lines in the borrower's credit file.</td>\n",
    "    </tr>\n",
    "    <tr>\n",
    "      <th>20</th>\n",
    "      <td>pub_rec</td>\n",
    "      <td>Number of derogatory public records</td>\n",
    "    </tr>\n",
    "    <tr>\n",
    "      <th>21</th>\n",
    "      <td>revol_bal</td>\n",
    "      <td>Total credit revolving balance</td>\n",
    "    </tr>\n",
    "    <tr>\n",
    "      <th>22</th>\n",
    "      <td>revol_util</td>\n",
    "      <td>Revolving line utilization rate, or the amount of credit the borrower is using relative to all available revolving credit.</td>\n",
    "    </tr>\n",
    "    <tr>\n",
    "      <th>23</th>\n",
    "      <td>total_acc</td>\n",
    "      <td>The total number of credit lines currently in the borrower's credit file</td>\n",
    "    </tr>\n",
    "    <tr>\n",
    "      <th>24</th>\n",
    "      <td>initial_list_status</td>\n",
    "      <td>The initial listing status of the loan. Possible values are – W, F</td>\n",
    "    </tr>\n",
    "    <tr>\n",
    "      <th>25</th>\n",
    "      <td>application_type</td>\n",
    "      <td>Indicates whether the loan is an individual application or a joint application with two co-borrowers</td>\n",
    "    </tr>\n",
    "    <tr>\n",
    "      <th>26</th>\n",
    "      <td>mort_acc</td>\n",
    "      <td>Number of mortgage accounts.</td>\n",
    "    </tr>\n",
    "    <tr>\n",
    "      <th>27</th>\n",
    "      <td>pub_rec_bankruptcies</td>\n",
    "      <td>Number of public record bankruptcies</td>\n",
    "    </tr>\n",
    "  </tbody>\n",
    "</table>\n",
    "\n",
    "---\n",
    "----"
   ]
  },
  {
   "cell_type": "code",
   "execution_count": null,
   "id": "4da51596",
   "metadata": {
    "_kg_hide-input": true,
    "_kg_hide-output": true,
    "execution": {
     "iopub.execute_input": "2023-01-31T01:18:44.174477Z",
     "iopub.status.busy": "2023-01-31T01:18:44.173961Z",
     "iopub.status.idle": "2023-01-31T01:18:56.175641Z",
     "shell.execute_reply": "2023-01-31T01:18:56.174327Z"
    },
    "papermill": {
     "duration": 12.033311,
     "end_time": "2023-01-31T01:18:56.178644",
     "exception": false,
     "start_time": "2023-01-31T01:18:44.145333",
     "status": "completed"
    },
    "tags": []
   },
   "outputs": [],
   "source": [
    "!pip install -q hvplot"
   ]
  },
  {
   "cell_type": "code",
   "execution_count": null,
   "id": "b160e1e0",
   "metadata": {
    "scrolled": true
   },
   "outputs": [],
   "source": [
    "pip install tensorflow"
   ]
  },
  {
   "cell_type": "code",
   "execution_count": null,
   "id": "6dbe61a8",
   "metadata": {
    "_kg_hide-input": true,
    "execution": {
     "iopub.execute_input": "2023-01-31T01:18:56.234511Z",
     "iopub.status.busy": "2023-01-31T01:18:56.234115Z",
     "iopub.status.idle": "2023-01-31T01:19:05.232274Z",
     "shell.execute_reply": "2023-01-31T01:19:05.231282Z"
    },
    "papermill": {
     "duration": 9.028759,
     "end_time": "2023-01-31T01:19:05.234771",
     "exception": false,
     "start_time": "2023-01-31T01:18:56.206012",
     "status": "completed"
    },
    "scrolled": true,
    "tags": []
   },
   "outputs": [],
   "source": [
    "import pandas as pd\n",
    "import numpy as np\n",
    "import seaborn as sns\n",
    "from scipy import stats \n",
    "import matplotlib.pyplot as plt\n",
    "import hvplot.pandas\n",
    "\n",
    "from sklearn.model_selection import train_test_split, RandomizedSearchCV\n",
    "from sklearn.preprocessing import MinMaxScaler\n",
    "\n",
    "from sklearn.metrics import (\n",
    "    accuracy_score, confusion_matrix, classification_report, \n",
    "    roc_auc_score, roc_curve, auc,\n",
    "    plot_confusion_matrix, plot_roc_curve\n",
    ")\n",
    "\n",
    "from xgboost import XGBClassifier\n",
    "from sklearn.ensemble import RandomForestClassifier\n",
    "\n",
    "import tensorflow as tf\n",
    "from tensorflow.keras.models import Sequential, Model\n",
    "from tensorflow.keras.layers import Dense, Dropout, BatchNormalization \n",
    "from tensorflow.keras.optimizers import Adam\n",
    "from tensorflow.keras.metrics import AUC\n",
    "\n",
    "pd.set_option('display.float', '{:.2f}'.format)\n",
    "pd.set_option('display.max_columns', 50)\n",
    "pd.set_option('display.max_rows', 50)"
   ]
  },
  {
   "cell_type": "code",
   "execution_count": null,
   "id": "15f957fa",
   "metadata": {},
   "outputs": [],
   "source": [
    "# load csv data on accepted clients (2 GB => have been splitted for faster computation)\n",
    "df_accepted_part1 = pd.read_csv(\"accepted_part1.csv\")\n",
    "df_accepted_part2 = pd.read_csv(\"accepted_part2.csv\")\n",
    "\n",
    "df_accepted = df_accepted_part1.append(df_accepted_part2, ignore_index=True)"
   ]
  },
  {
   "cell_type": "code",
   "execution_count": null,
   "id": "e6fb28af",
   "metadata": {},
   "outputs": [],
   "source": [
    "# load csv data on rejected clients (2 GB => have been splitted for faster computation)\n",
    "df_rejected_part1 = pd.read_csv(\"rejected_part1.csv\")"
   ]
  },
  {
   "cell_type": "code",
   "execution_count": null,
   "id": "238161d3",
   "metadata": {},
   "outputs": [],
   "source": [
    "df_rejected_part2 = pd.read_csv(\"rejected_part2.csv\")"
   ]
  },
  {
   "cell_type": "code",
   "execution_count": null,
   "id": "98a6f6e9",
   "metadata": {},
   "outputs": [],
   "source": [
    "df_rejected = df_rejected_part1.append(df_rejected_part2, ignore_index=True)"
   ]
  },
  {
   "cell_type": "code",
   "execution_count": null,
   "id": "a80de40e",
   "metadata": {},
   "outputs": [],
   "source": [
    "# merge and shuffle the 2 datasets \n",
    "data = df_accepted.append(df_rejected, ignore_index=True)\n",
    "\n",
    "data = data.sample(frac=1).reset_index(drop=True)"
   ]
  },
  {
   "cell_type": "code",
   "execution_count": null,
   "id": "e72a29f1",
   "metadata": {
    "execution": {
     "iopub.execute_input": "2023-01-31T01:19:05.502542Z",
     "iopub.status.busy": "2023-01-31T01:19:05.501940Z",
     "iopub.status.idle": "2023-01-31T01:19:08.240967Z",
     "shell.execute_reply": "2023-01-31T01:19:08.239987Z"
    },
    "papermill": {
     "duration": 2.876647,
     "end_time": "2023-01-31T01:19:08.243104",
     "exception": false,
     "start_time": "2023-01-31T01:19:05.366457",
     "status": "completed"
    },
    "tags": []
   },
   "outputs": [],
   "source": [
    "#data = pd.read_csv(\"/kaggle/input/lending-club-dataset/lending_club_loan_two.csv\")\n",
    "data.head()"
   ]
  },
  {
   "cell_type": "code",
   "execution_count": null,
   "id": "197432ac",
   "metadata": {
    "execution": {
     "iopub.execute_input": "2023-01-31T01:19:08.513441Z",
     "iopub.status.busy": "2023-01-31T01:19:08.512318Z",
     "iopub.status.idle": "2023-01-31T01:19:08.725343Z",
     "shell.execute_reply": "2023-01-31T01:19:08.724425Z"
    },
    "papermill": {
     "duration": 0.35119,
     "end_time": "2023-01-31T01:19:08.727581",
     "exception": false,
     "start_time": "2023-01-31T01:19:08.376391",
     "status": "completed"
    },
    "tags": []
   },
   "outputs": [],
   "source": [
    "data.describe()"
   ]
  },
  {
   "cell_type": "markdown",
   "id": "50556d16",
   "metadata": {
    "papermill": {
     "duration": 0.21202,
     "end_time": "2023-01-31T01:19:09.082127",
     "exception": false,
     "start_time": "2023-01-31T01:19:08.870107",
     "status": "completed"
    },
    "tags": []
   },
   "source": [
    "# 🔍 Exploratory Data Analysis\n",
    "\n",
    "> **OVERALL GOAL:** \n",
    "> - Get an understanding for which variables are important, view summary statistics, and visualize the data"
   ]
  },
  {
   "cell_type": "code",
   "execution_count": null,
   "id": "e627714f",
   "metadata": {
    "execution": {
     "iopub.execute_input": "2023-01-31T01:19:09.484382Z",
     "iopub.status.busy": "2023-01-31T01:19:09.483997Z",
     "iopub.status.idle": "2023-01-31T01:19:09.694741Z",
     "shell.execute_reply": "2023-01-31T01:19:09.692241Z"
    },
    "papermill": {
     "duration": 0.429495,
     "end_time": "2023-01-31T01:19:09.702853",
     "exception": false,
     "start_time": "2023-01-31T01:19:09.273358",
     "status": "completed"
    },
    "tags": []
   },
   "outputs": [],
   "source": [
    "data.info()"
   ]
  },
  {
   "cell_type": "markdown",
   "id": "1a384c62",
   "metadata": {
    "papermill": {
     "duration": 0.134223,
     "end_time": "2023-01-31T01:19:09.979085",
     "exception": false,
     "start_time": "2023-01-31T01:19:09.844862",
     "status": "completed"
    },
    "tags": []
   },
   "source": [
    "## ✔️ `loan_status`\n",
    "\n",
    "> Current status of the loan"
   ]
  },
  {
   "cell_type": "code",
   "execution_count": null,
   "id": "4f1c8fe6",
   "metadata": {
    "_kg_hide-input": true,
    "execution": {
     "iopub.execute_input": "2023-01-31T01:19:10.247218Z",
     "iopub.status.busy": "2023-01-31T01:19:10.246600Z",
     "iopub.status.idle": "2023-01-31T01:19:10.389592Z",
     "shell.execute_reply": "2023-01-31T01:19:10.388290Z"
    },
    "papermill": {
     "duration": 0.28077,
     "end_time": "2023-01-31T01:19:10.392271",
     "exception": false,
     "start_time": "2023-01-31T01:19:10.111501",
     "status": "completed"
    },
    "tags": []
   },
   "outputs": [],
   "source": [
    "data['loan_status'].value_counts().hvplot.bar(\n",
    "    title=\"Loan Status Counts\", xlabel='Loan Status', ylabel='Count', \n",
    "    width=500, height=350\n",
    ")"
   ]
  },
  {
   "cell_type": "code",
   "execution_count": null,
   "id": "ad33f1f9",
   "metadata": {
    "execution": {
     "iopub.execute_input": "2023-01-31T01:19:10.672753Z",
     "iopub.status.busy": "2023-01-31T01:19:10.671790Z",
     "iopub.status.idle": "2023-01-31T01:19:11.678294Z",
     "shell.execute_reply": "2023-01-31T01:19:11.677351Z"
    },
    "papermill": {
     "duration": 1.153077,
     "end_time": "2023-01-31T01:19:11.680310",
     "exception": false,
     "start_time": "2023-01-31T01:19:10.527233",
     "status": "completed"
    },
    "tags": []
   },
   "outputs": [],
   "source": [
    "plt.figure(figsize=(12, 8))\n",
    "sns.heatmap(data.corr(), annot=True, cmap='viridis')"
   ]
  },
  {
   "cell_type": "markdown",
   "id": "9011b16d",
   "metadata": {
    "papermill": {
     "duration": 0.135877,
     "end_time": "2023-01-31T01:19:11.950185",
     "exception": false,
     "start_time": "2023-01-31T01:19:11.814308",
     "status": "completed"
    },
    "tags": []
   },
   "source": [
    "### 📌 Notice\n",
    "> We noticed almost perfect correlation between \"`loan_amnt`\" the \"`installment`\" feature. We'll explore this features further. Print out their descriptions and perform a scatterplot between them. \n",
    "\n",
    "> - Does this relationship make sense to you? \n",
    "> - Do we think there is duplicate information here?"
   ]
  },
  {
   "cell_type": "markdown",
   "id": "58c7a5e1",
   "metadata": {
    "papermill": {
     "duration": 0.134572,
     "end_time": "2023-01-31T01:19:12.218935",
     "exception": false,
     "start_time": "2023-01-31T01:19:12.084363",
     "status": "completed"
    },
    "tags": []
   },
   "source": [
    "## ✔️ `loan_amnt` & `installment`\n",
    "\n",
    "> - `installment`: The monthly payment owed by the borrower if the loan originates.\n",
    "> - `loan_amnt`: The listed amount of the loan applied for by the borrower. If at some point in time, the credit department reduces the loan amount, then it will be reflected in this value."
   ]
  },
  {
   "cell_type": "code",
   "execution_count": null,
   "id": "ac15f254",
   "metadata": {
    "_kg_hide-input": true,
    "execution": {
     "iopub.execute_input": "2023-01-31T01:19:12.495457Z",
     "iopub.status.busy": "2023-01-31T01:19:12.494944Z",
     "iopub.status.idle": "2023-01-31T01:19:14.786891Z",
     "shell.execute_reply": "2023-01-31T01:19:14.785891Z"
    },
    "papermill": {
     "duration": 2.43502,
     "end_time": "2023-01-31T01:19:14.789834",
     "exception": false,
     "start_time": "2023-01-31T01:19:12.354814",
     "status": "completed"
    },
    "tags": []
   },
   "outputs": [],
   "source": [
    "installment = data.hvplot.hist(\n",
    "    y='installment', by='loan_status', subplots=False, \n",
    "    width=350, height=400, bins=50, alpha=0.4, \n",
    "    title=\"Installment by Loan Status\", \n",
    "    xlabel='Installment', ylabel='Counts', legend='top'\n",
    ")\n",
    "\n",
    "loan_amnt = data.hvplot.hist(\n",
    "    y='loan_amnt', by='loan_status', subplots=False, \n",
    "    width=350, height=400, bins=30, alpha=0.4, \n",
    "    title=\"Loan Amount by Loan Status\", \n",
    "    xlabel='Loan Amount', ylabel='Counts', legend='top'\n",
    ")\n",
    "\n",
    "installment + loan_amnt"
   ]
  },
  {
   "cell_type": "code",
   "execution_count": null,
   "id": "12dd5210",
   "metadata": {
    "_kg_hide-input": true,
    "execution": {
     "iopub.execute_input": "2023-01-31T01:19:15.082456Z",
     "iopub.status.busy": "2023-01-31T01:19:15.082103Z",
     "iopub.status.idle": "2023-01-31T01:19:18.618728Z",
     "shell.execute_reply": "2023-01-31T01:19:18.617777Z"
    },
    "papermill": {
     "duration": 3.680187,
     "end_time": "2023-01-31T01:19:18.621987",
     "exception": false,
     "start_time": "2023-01-31T01:19:14.941800",
     "status": "completed"
    },
    "tags": []
   },
   "outputs": [],
   "source": [
    "loan_amnt_box = data.hvplot.box(\n",
    "    y='loan_amnt', subplots=True, by='loan_status', width=300, height=350, \n",
    "    title=\"Loan Status by Loan Amount \", xlabel='Loan Status', ylabel='Loan Amount'\n",
    ")\n",
    "\n",
    "installment_box = data.hvplot.box(\n",
    "    y='installment', subplots=True, by='loan_status', width=300, height=350, \n",
    "    title=\"Loan Status by Installment\", xlabel='Loan Status', ylabel='Installment'\n",
    ")\n",
    "\n",
    "loan_amnt_box + installment_box"
   ]
  },
  {
   "cell_type": "code",
   "execution_count": null,
   "id": "32471e20",
   "metadata": {
    "execution": {
     "iopub.execute_input": "2023-01-31T01:19:18.905623Z",
     "iopub.status.busy": "2023-01-31T01:19:18.904906Z",
     "iopub.status.idle": "2023-01-31T01:19:18.987457Z",
     "shell.execute_reply": "2023-01-31T01:19:18.986289Z"
    },
    "papermill": {
     "duration": 0.225864,
     "end_time": "2023-01-31T01:19:18.989857",
     "exception": false,
     "start_time": "2023-01-31T01:19:18.763993",
     "status": "completed"
    },
    "tags": []
   },
   "outputs": [],
   "source": [
    "data.groupby(by='loan_status')['loan_amnt'].describe()"
   ]
  },
  {
   "cell_type": "markdown",
   "id": "5cefce90",
   "metadata": {
    "papermill": {
     "duration": 0.141966,
     "end_time": "2023-01-31T01:19:19.275974",
     "exception": false,
     "start_time": "2023-01-31T01:19:19.134008",
     "status": "completed"
    },
    "tags": []
   },
   "source": [
    "## ✔️ `grade` & `sub_grade`\n",
    "\n",
    "> - `grade`: LC assigned loan grade\n",
    "> - `sub_grade`: LC assigned loan subgrade\n",
    "\n",
    "Let's explore the Grade and SubGrade columns that LendingClub attributes to the loans. \n",
    "\n",
    "What are the unique possible `grade` & `sub_grade`?"
   ]
  },
  {
   "cell_type": "code",
   "execution_count": null,
   "id": "fe7282f6",
   "metadata": {
    "execution": {
     "iopub.execute_input": "2023-01-31T01:19:19.563545Z",
     "iopub.status.busy": "2023-01-31T01:19:19.563190Z",
     "iopub.status.idle": "2023-01-31T01:19:19.611657Z",
     "shell.execute_reply": "2023-01-31T01:19:19.610505Z"
    },
    "papermill": {
     "duration": 0.194432,
     "end_time": "2023-01-31T01:19:19.614374",
     "exception": false,
     "start_time": "2023-01-31T01:19:19.419942",
     "status": "completed"
    },
    "tags": []
   },
   "outputs": [],
   "source": [
    "print(f\"GRADE unique: {data.grade.unique()}\")\n",
    "print(f\"SUB_GRADE unique: {data.sub_grade.unique()}\")"
   ]
  },
  {
   "cell_type": "code",
   "execution_count": null,
   "id": "4226809f",
   "metadata": {
    "_kg_hide-input": true,
    "execution": {
     "iopub.execute_input": "2023-01-31T01:19:19.914282Z",
     "iopub.status.busy": "2023-01-31T01:19:19.913552Z",
     "iopub.status.idle": "2023-01-31T01:19:19.925224Z",
     "shell.execute_reply": "2023-01-31T01:19:19.923712Z"
    },
    "papermill": {
     "duration": 0.172396,
     "end_time": "2023-01-31T01:19:19.928431",
     "exception": false,
     "start_time": "2023-01-31T01:19:19.756035",
     "status": "completed"
    },
    "tags": []
   },
   "outputs": [],
   "source": [
    "# fully_paid = data.loc[data['loan_status']=='Fully Paid', 'grade'].value_counts().hvplot.bar() \n",
    "# charged_off = data.loc[data['loan_status']=='Charged Off', 'grade'].value_counts().hvplot.bar() \n",
    "\n",
    "# grades = (fully_paid * charged_off).opts(\n",
    "#     title=\"Loan Status by Grade\", xlabel='Grades', ylabel='Count',\n",
    "#     width=500, height=450, legend_cols=2, legend_position='top_right'\n",
    "# )\n",
    "\n",
    "# fully_paid = data.loc[data['loan_status']=='Fully Paid', 'sub_grade'].value_counts().hvplot.bar() \n",
    "# charged_off = data.loc[data['loan_status']=='Charged Off', 'sub_grade'].value_counts().hvplot.bar() \n",
    "\n",
    "# sub_grades = (fully_paid * charged_off).opts(\n",
    "#     title=\"Loan Status by Grade\", xlabel='Grades', ylabel='Count',\n",
    "#     width=500, height=450, legend_cols=2, legend_position='top_right', \n",
    "#     shared_axes=False\n",
    "# )\n",
    "\n",
    "# grades + sub_grades"
   ]
  },
  {
   "cell_type": "code",
   "execution_count": null,
   "id": "4fb97a11",
   "metadata": {
    "_kg_hide-input": true,
    "execution": {
     "iopub.execute_input": "2023-01-31T01:19:20.352607Z",
     "iopub.status.busy": "2023-01-31T01:19:20.352207Z",
     "iopub.status.idle": "2023-01-31T01:19:20.675142Z",
     "shell.execute_reply": "2023-01-31T01:19:20.674199Z"
    },
    "papermill": {
     "duration": 0.529588,
     "end_time": "2023-01-31T01:19:20.677372",
     "exception": false,
     "start_time": "2023-01-31T01:19:20.147784",
     "status": "completed"
    },
    "tags": []
   },
   "outputs": [],
   "source": [
    "fully_paid = data.loc[data['loan_status']=='Fully Paid', 'grade'].value_counts().hvplot.bar() \n",
    "charged_off = data.loc[data['loan_status']=='Charged Off', 'grade'].value_counts().hvplot.bar() \n",
    "\n",
    "(fully_paid * charged_off).opts(\n",
    "    title=\"Loan Status by Grade\", xlabel='Grades', ylabel='Count',\n",
    "    width=500, height=450, legend_cols=2, legend_position='top_right', xrotation=90\n",
    ")"
   ]
  },
  {
   "cell_type": "code",
   "execution_count": null,
   "id": "3f0e95f1",
   "metadata": {
    "_kg_hide-input": true,
    "execution": {
     "iopub.execute_input": "2023-01-31T01:19:20.963971Z",
     "iopub.status.busy": "2023-01-31T01:19:20.963088Z",
     "iopub.status.idle": "2023-01-31T01:19:21.239844Z",
     "shell.execute_reply": "2023-01-31T01:19:21.238835Z"
    },
    "papermill": {
     "duration": 0.421793,
     "end_time": "2023-01-31T01:19:21.242210",
     "exception": false,
     "start_time": "2023-01-31T01:19:20.820417",
     "status": "completed"
    },
    "tags": []
   },
   "outputs": [],
   "source": [
    "fully_paid = data.loc[data['loan_status']=='Fully Paid', 'sub_grade'].value_counts().hvplot.bar() \n",
    "charged_off = data.loc[data['loan_status']=='Charged Off', 'sub_grade'].value_counts().hvplot.bar() \n",
    "\n",
    "(fully_paid * charged_off).opts(\n",
    "    title=\"Loan Status by Grade\", xlabel='Grades', ylabel='Count',\n",
    "    width=500, height=400, legend_cols=2, legend_position='top_right', xrotation=90\n",
    ")"
   ]
  },
  {
   "cell_type": "code",
   "execution_count": null,
   "id": "ee585c9e",
   "metadata": {
    "execution": {
     "iopub.execute_input": "2023-01-31T01:19:21.537322Z",
     "iopub.status.busy": "2023-01-31T01:19:21.536963Z",
     "iopub.status.idle": "2023-01-31T01:19:21.541370Z",
     "shell.execute_reply": "2023-01-31T01:19:21.540437Z"
    },
    "papermill": {
     "duration": 0.153617,
     "end_time": "2023-01-31T01:19:21.543309",
     "exception": false,
     "start_time": "2023-01-31T01:19:21.389692",
     "status": "completed"
    },
    "tags": []
   },
   "outputs": [],
   "source": [
    "# data.hvplot.bar()"
   ]
  },
  {
   "cell_type": "code",
   "execution_count": null,
   "id": "04acc47c",
   "metadata": {
    "execution": {
     "iopub.execute_input": "2023-01-31T01:19:21.833380Z",
     "iopub.status.busy": "2023-01-31T01:19:21.833025Z",
     "iopub.status.idle": "2023-01-31T01:19:23.075788Z",
     "shell.execute_reply": "2023-01-31T01:19:23.074801Z"
    },
    "papermill": {
     "duration": 1.392885,
     "end_time": "2023-01-31T01:19:23.077848",
     "exception": false,
     "start_time": "2023-01-31T01:19:21.684963",
     "status": "completed"
    },
    "tags": []
   },
   "outputs": [],
   "source": [
    "plt.figure(figsize=(15, 10))\n",
    "\n",
    "plt.subplot(2, 2, 1)\n",
    "grade = sorted(data.grade.unique().tolist())\n",
    "sns.countplot(x='grade', data=data, hue='loan_status', order=grade)\n",
    "\n",
    "plt.subplot(2, 2, 2)\n",
    "sub_grade = sorted(data.sub_grade.unique().tolist())\n",
    "g = sns.countplot(x='sub_grade', data=data, hue='loan_status', order=sub_grade)\n",
    "g.set_xticklabels(g.get_xticklabels(), rotation=90);"
   ]
  },
  {
   "cell_type": "markdown",
   "id": "1a2c4fae",
   "metadata": {
    "papermill": {
     "duration": 0.142896,
     "end_time": "2023-01-31T01:19:23.366765",
     "exception": false,
     "start_time": "2023-01-31T01:19:23.223869",
     "status": "completed"
    },
    "tags": []
   },
   "source": [
    "It looks like `F` and `G` subgrades don't get paid back that often. Isloate those and recreate the countplot just for those subgrades."
   ]
  },
  {
   "cell_type": "code",
   "execution_count": null,
   "id": "ed7dfe7c",
   "metadata": {
    "execution": {
     "iopub.execute_input": "2023-01-31T01:19:23.657064Z",
     "iopub.status.busy": "2023-01-31T01:19:23.656686Z",
     "iopub.status.idle": "2023-01-31T01:19:24.080068Z",
     "shell.execute_reply": "2023-01-31T01:19:24.079143Z"
    },
    "papermill": {
     "duration": 0.571717,
     "end_time": "2023-01-31T01:19:24.082313",
     "exception": false,
     "start_time": "2023-01-31T01:19:23.510596",
     "status": "completed"
    },
    "tags": []
   },
   "outputs": [],
   "source": [
    "df = data[(data.grade == 'F') | (data.grade == 'G')]\n",
    "\n",
    "plt.figure(figsize=(15, 10))\n",
    "\n",
    "plt.subplot(2, 2, 1)\n",
    "grade = sorted(df.grade.unique().tolist())\n",
    "sns.countplot(x='grade', data=df, hue='loan_status', order=grade)\n",
    "\n",
    "plt.subplot(2, 2, 2)\n",
    "sub_grade = sorted(df.sub_grade.unique().tolist())\n",
    "sns.countplot(x='sub_grade', data=df, hue='loan_status', order=sub_grade)"
   ]
  },
  {
   "cell_type": "markdown",
   "id": "4c72abbd",
   "metadata": {
    "papermill": {
     "duration": 0.149561,
     "end_time": "2023-01-31T01:19:24.376632",
     "exception": false,
     "start_time": "2023-01-31T01:19:24.227071",
     "status": "completed"
    },
    "tags": []
   },
   "source": [
    "## ✔️ `term`, `home_ownership`, `verification_status` & `purpose`\n",
    "\n",
    "> - `term`: The number of payments on the loan. Values are in months and can be either 36 or 60.\n",
    "> - `home_ownership`: The home ownership status provided by the borrower during registration or obtained from the credit report. Our values are: RENT, OWN, MORTGAGE, OTHER\n",
    "> - `verification_status`: Indicates if income was verified by LC, not verified, or if the income source was verified\n",
    "> - `purpose`: A category provided by the borrower for the loan request."
   ]
  },
  {
   "cell_type": "code",
   "execution_count": null,
   "id": "0570fd9a",
   "metadata": {
    "execution": {
     "iopub.execute_input": "2023-01-31T01:19:24.673601Z",
     "iopub.status.busy": "2023-01-31T01:19:24.673238Z",
     "iopub.status.idle": "2023-01-31T01:19:24.703842Z",
     "shell.execute_reply": "2023-01-31T01:19:24.701896Z"
    },
    "papermill": {
     "duration": 0.183824,
     "end_time": "2023-01-31T01:19:24.705893",
     "exception": false,
     "start_time": "2023-01-31T01:19:24.522069",
     "status": "completed"
    },
    "tags": []
   },
   "outputs": [],
   "source": [
    "data['home_ownership'].value_counts()"
   ]
  },
  {
   "cell_type": "code",
   "execution_count": null,
   "id": "e89787ee",
   "metadata": {
    "_kg_hide-input": true,
    "execution": {
     "iopub.execute_input": "2023-01-31T01:19:25.014352Z",
     "iopub.status.busy": "2023-01-31T01:19:25.013991Z",
     "iopub.status.idle": "2023-01-31T01:19:25.432784Z",
     "shell.execute_reply": "2023-01-31T01:19:25.431562Z"
    },
    "papermill": {
     "duration": 0.581068,
     "end_time": "2023-01-31T01:19:25.436213",
     "exception": false,
     "start_time": "2023-01-31T01:19:24.855145",
     "status": "completed"
    },
    "tags": []
   },
   "outputs": [],
   "source": [
    "fully_paid = data.loc[data['loan_status']=='Fully Paid', 'home_ownership'].value_counts().hvplot.bar() \n",
    "charged_off = data.loc[data['loan_status']=='Charged Off', 'home_ownership'].value_counts().hvplot.bar()\n",
    "\n",
    "home_ownership_count = (fully_paid * charged_off).opts(\n",
    "    title=\"Loan Status by Grade\", xlabel='Home Ownership', ylabel='Count',\n",
    "    width=350, height=350, legend_cols=2, legend_position='top_right'\n",
    ").opts(xrotation=90)\n",
    "\n",
    "home_ownership = data.home_ownership.value_counts().hvplot.bar(\n",
    "    title=\"Loan Status by Grade\", xlabel='Home Ownership', ylabel='Count', \n",
    "    width=350, height=350, legend='top'\n",
    ").opts(xrotation=90)\n",
    "\n",
    "(home_ownership_count + home_ownership)"
   ]
  },
  {
   "cell_type": "code",
   "execution_count": null,
   "id": "dd1cd6fc",
   "metadata": {
    "execution": {
     "iopub.execute_input": "2023-01-31T01:19:25.726802Z",
     "iopub.status.busy": "2023-01-31T01:19:25.725829Z",
     "iopub.status.idle": "2023-01-31T01:19:25.808887Z",
     "shell.execute_reply": "2023-01-31T01:19:25.807824Z"
    },
    "papermill": {
     "duration": 0.229393,
     "end_time": "2023-01-31T01:19:25.811079",
     "exception": false,
     "start_time": "2023-01-31T01:19:25.581686",
     "status": "completed"
    },
    "tags": []
   },
   "outputs": [],
   "source": [
    "data.loc[(data.home_ownership == 'ANY') | (data.home_ownership == 'NONE'), 'home_ownership'] = 'OTHER'  \n",
    "data.home_ownership.value_counts()"
   ]
  },
  {
   "cell_type": "code",
   "execution_count": null,
   "id": "b9fd9fa2",
   "metadata": {
    "execution": {
     "iopub.execute_input": "2023-01-31T01:19:26.103052Z",
     "iopub.status.busy": "2023-01-31T01:19:26.101951Z",
     "iopub.status.idle": "2023-01-31T01:19:28.136620Z",
     "shell.execute_reply": "2023-01-31T01:19:28.135526Z"
    },
    "papermill": {
     "duration": 2.184213,
     "end_time": "2023-01-31T01:19:28.139065",
     "exception": false,
     "start_time": "2023-01-31T01:19:25.954852",
     "status": "completed"
    },
    "tags": []
   },
   "outputs": [],
   "source": [
    "plt.figure(figsize=(15, 20))\n",
    "\n",
    "plt.subplot(4, 2, 1)\n",
    "sns.countplot(x='term', data=data, hue='loan_status')\n",
    "\n",
    "plt.subplot(4, 2, 2)\n",
    "sns.countplot(x='home_ownership', data=data, hue='loan_status')\n",
    "\n",
    "plt.subplot(4, 2, 3)\n",
    "sns.countplot(x='verification_status', data=data, hue='loan_status')\n",
    "\n",
    "plt.subplot(4, 2, 4)\n",
    "g = sns.countplot(x='purpose', data=data, hue='loan_status')\n",
    "g.set_xticklabels(g.get_xticklabels(), rotation=90);"
   ]
  },
  {
   "cell_type": "code",
   "execution_count": null,
   "id": "fc40547b",
   "metadata": {
    "execution": {
     "iopub.execute_input": "2023-01-31T01:19:28.433743Z",
     "iopub.status.busy": "2023-01-31T01:19:28.432692Z",
     "iopub.status.idle": "2023-01-31T01:19:28.463268Z",
     "shell.execute_reply": "2023-01-31T01:19:28.462182Z"
    },
    "papermill": {
     "duration": 0.178381,
     "end_time": "2023-01-31T01:19:28.465440",
     "exception": false,
     "start_time": "2023-01-31T01:19:28.287059",
     "status": "completed"
    },
    "tags": []
   },
   "outputs": [],
   "source": [
    "data.loc[data['home_ownership']=='OTHER', 'loan_status'].value_counts()"
   ]
  },
  {
   "cell_type": "markdown",
   "id": "6babe968",
   "metadata": {
    "papermill": {
     "duration": 0.145617,
     "end_time": "2023-01-31T01:19:28.759922",
     "exception": false,
     "start_time": "2023-01-31T01:19:28.614305",
     "status": "completed"
    },
    "tags": []
   },
   "source": [
    "## ✔️ `int_rate` & `annual_inc`\n",
    "\n",
    "> - `int_rate`: Interest Rate on the loan\n",
    "> - `annual_inc`: The self-reported annual income provided by the borrower during registration"
   ]
  },
  {
   "cell_type": "code",
   "execution_count": null,
   "id": "063aadbb",
   "metadata": {
    "_kg_hide-input": true,
    "execution": {
     "iopub.execute_input": "2023-01-31T01:19:29.055841Z",
     "iopub.status.busy": "2023-01-31T01:19:29.055479Z",
     "iopub.status.idle": "2023-01-31T01:19:30.026494Z",
     "shell.execute_reply": "2023-01-31T01:19:30.025406Z"
    },
    "papermill": {
     "duration": 1.123557,
     "end_time": "2023-01-31T01:19:30.029717",
     "exception": false,
     "start_time": "2023-01-31T01:19:28.906160",
     "status": "completed"
    },
    "tags": []
   },
   "outputs": [],
   "source": [
    "int_rate = data.hvplot.hist(\n",
    "    y='int_rate', by='loan_status', alpha=0.3, width=350, height=400,\n",
    "    title=\"Loan Status by Interest Rate\", xlabel='Interest Rate', ylabel='Loans Counts', \n",
    "    legend='top'\n",
    ")\n",
    "\n",
    "annual_inc = data.hvplot.hist(\n",
    "    y='annual_inc', by='loan_status', bins=50, alpha=0.3, width=350, height=400,\n",
    "    title=\"Loan Status by Annual Income\", xlabel='Annual Income', ylabel='Loans Counts', \n",
    "    legend='top'\n",
    ").opts(xrotation=45)\n",
    "\n",
    "int_rate + annual_inc"
   ]
  },
  {
   "cell_type": "code",
   "execution_count": null,
   "id": "e32c12d1",
   "metadata": {
    "_kg_hide-input": true,
    "execution": {
     "iopub.execute_input": "2023-01-31T01:19:30.327080Z",
     "iopub.status.busy": "2023-01-31T01:19:30.326685Z",
     "iopub.status.idle": "2023-01-31T01:19:30.968715Z",
     "shell.execute_reply": "2023-01-31T01:19:30.967476Z"
    },
    "papermill": {
     "duration": 0.793076,
     "end_time": "2023-01-31T01:19:30.972800",
     "exception": false,
     "start_time": "2023-01-31T01:19:30.179724",
     "status": "completed"
    },
    "tags": []
   },
   "outputs": [],
   "source": [
    "data[data.annual_inc <= 250000].hvplot.hist(\n",
    "    y='annual_inc', by='loan_status', bins=50, alpha=0.3, width=500, height=400,\n",
    "    title=\"Loan Status by Annual Income (<= 250000/Year)\", \n",
    "    xlabel='Annual Income', ylabel='Loans Counts', legend='top'\n",
    ").opts(xrotation=45)"
   ]
  },
  {
   "cell_type": "code",
   "execution_count": null,
   "id": "52df6838",
   "metadata": {
    "execution": {
     "iopub.execute_input": "2023-01-31T01:19:31.437743Z",
     "iopub.status.busy": "2023-01-31T01:19:31.437303Z",
     "iopub.status.idle": "2023-01-31T01:19:31.457323Z",
     "shell.execute_reply": "2023-01-31T01:19:31.455978Z"
    },
    "papermill": {
     "duration": 0.243535,
     "end_time": "2023-01-31T01:19:31.460109",
     "exception": false,
     "start_time": "2023-01-31T01:19:31.216574",
     "status": "completed"
    },
    "tags": []
   },
   "outputs": [],
   "source": [
    "print((data[data.annual_inc >= 250000].shape[0] / data.shape[0]) * 100)\n",
    "print((data[data.annual_inc >= 1000000].shape[0] / data.shape[0]) * 100)"
   ]
  },
  {
   "cell_type": "code",
   "execution_count": null,
   "id": "7a9ce14d",
   "metadata": {
    "execution": {
     "iopub.execute_input": "2023-01-31T01:19:31.761723Z",
     "iopub.status.busy": "2023-01-31T01:19:31.761369Z",
     "iopub.status.idle": "2023-01-31T01:19:31.770537Z",
     "shell.execute_reply": "2023-01-31T01:19:31.769515Z"
    },
    "papermill": {
     "duration": 0.160478,
     "end_time": "2023-01-31T01:19:31.772640",
     "exception": false,
     "start_time": "2023-01-31T01:19:31.612162",
     "status": "completed"
    },
    "tags": []
   },
   "outputs": [],
   "source": [
    "data.loc[data.annual_inc >= 1000000, 'loan_status'].value_counts()"
   ]
  },
  {
   "cell_type": "code",
   "execution_count": null,
   "id": "f2228d44",
   "metadata": {
    "execution": {
     "iopub.execute_input": "2023-01-31T01:19:32.074981Z",
     "iopub.status.busy": "2023-01-31T01:19:32.074574Z",
     "iopub.status.idle": "2023-01-31T01:19:32.084467Z",
     "shell.execute_reply": "2023-01-31T01:19:32.083452Z"
    },
    "papermill": {
     "duration": 0.164843,
     "end_time": "2023-01-31T01:19:32.086683",
     "exception": false,
     "start_time": "2023-01-31T01:19:31.921840",
     "status": "completed"
    },
    "tags": []
   },
   "outputs": [],
   "source": [
    "data.loc[data.annual_inc >= 250000, 'loan_status'].value_counts()"
   ]
  },
  {
   "cell_type": "markdown",
   "id": "f4589d44",
   "metadata": {
    "papermill": {
     "duration": 0.147015,
     "end_time": "2023-01-31T01:19:32.385613",
     "exception": false,
     "start_time": "2023-01-31T01:19:32.238598",
     "status": "completed"
    },
    "tags": []
   },
   "source": [
    "- It seems that loans with high intersest rate are more likely to be unpaid.\n",
    "- Only 75 (less then) borrowers have an annual income more than 1 million, and 4077"
   ]
  },
  {
   "cell_type": "markdown",
   "id": "5fce1933",
   "metadata": {
    "papermill": {
     "duration": 0.147572,
     "end_time": "2023-01-31T01:19:32.679748",
     "exception": false,
     "start_time": "2023-01-31T01:19:32.532176",
     "status": "completed"
    },
    "tags": []
   },
   "source": [
    "## ✔️ `emp_title` & `emp_length`\n",
    "\n",
    "> - `emp_title`: The job title supplied by the Borrower when applying for the loan.\n",
    "> - `emp_length`: Employment length in years. Possible values are between 0 and 10 where 0 means less than one year and 10 means ten or more years."
   ]
  },
  {
   "cell_type": "code",
   "execution_count": null,
   "id": "1a19450d",
   "metadata": {
    "execution": {
     "iopub.execute_input": "2023-01-31T01:19:32.983875Z",
     "iopub.status.busy": "2023-01-31T01:19:32.983520Z",
     "iopub.status.idle": "2023-01-31T01:19:33.067721Z",
     "shell.execute_reply": "2023-01-31T01:19:33.066044Z"
    },
    "papermill": {
     "duration": 0.236989,
     "end_time": "2023-01-31T01:19:33.070638",
     "exception": false,
     "start_time": "2023-01-31T01:19:32.833649",
     "status": "completed"
    },
    "tags": []
   },
   "outputs": [],
   "source": [
    "print(data.emp_title.isna().sum())\n",
    "print(data.emp_title.nunique())"
   ]
  },
  {
   "cell_type": "code",
   "execution_count": null,
   "id": "de79379a",
   "metadata": {
    "execution": {
     "iopub.execute_input": "2023-01-31T01:19:33.388630Z",
     "iopub.status.busy": "2023-01-31T01:19:33.388279Z",
     "iopub.status.idle": "2023-01-31T01:19:33.500845Z",
     "shell.execute_reply": "2023-01-31T01:19:33.499894Z"
    },
    "papermill": {
     "duration": 0.279936,
     "end_time": "2023-01-31T01:19:33.503009",
     "exception": false,
     "start_time": "2023-01-31T01:19:33.223073",
     "status": "completed"
    },
    "tags": []
   },
   "outputs": [],
   "source": [
    "data['emp_title'].value_counts()[:20]"
   ]
  },
  {
   "cell_type": "code",
   "execution_count": null,
   "id": "4cf795a2",
   "metadata": {
    "execution": {
     "iopub.execute_input": "2023-01-31T01:19:33.801341Z",
     "iopub.status.busy": "2023-01-31T01:19:33.800414Z",
     "iopub.status.idle": "2023-01-31T01:19:35.091604Z",
     "shell.execute_reply": "2023-01-31T01:19:35.089004Z"
    },
    "papermill": {
     "duration": 1.441797,
     "end_time": "2023-01-31T01:19:35.094661",
     "exception": false,
     "start_time": "2023-01-31T01:19:33.652864",
     "status": "completed"
    },
    "tags": []
   },
   "outputs": [],
   "source": [
    "plt.figure(figsize=(15, 12))\n",
    "\n",
    "plt.subplot(2, 2, 1)\n",
    "order = ['< 1 year', '1 year', '2 years', '3 years', '4 years', '5 years', \n",
    "          '6 years', '7 years', '8 years', '9 years', '10+ years',]\n",
    "g = sns.countplot(x='emp_length', data=data, hue='loan_status', order=order)\n",
    "g.set_xticklabels(g.get_xticklabels(), rotation=90);\n",
    "\n",
    "plt.subplot(2, 2, 2)\n",
    "plt.barh(data.emp_title.value_counts()[:30].index, data.emp_title.value_counts()[:30])\n",
    "plt.title(\"The most 30 jobs title afforded a loan\")\n",
    "plt.tight_layout()"
   ]
  },
  {
   "cell_type": "markdown",
   "id": "5d72c1e5",
   "metadata": {
    "papermill": {
     "duration": 0.226447,
     "end_time": "2023-01-31T01:19:35.614610",
     "exception": false,
     "start_time": "2023-01-31T01:19:35.388163",
     "status": "completed"
    },
    "tags": []
   },
   "source": [
    "## ✔️ `issue_d`, `earliest_cr_line`\n",
    "\n",
    "> - `issue_d`: The month which the loan was funded\n",
    "> - `earliest_cr_line`: The month the borrower's earliest reported credit line was opened"
   ]
  },
  {
   "cell_type": "code",
   "execution_count": null,
   "id": "c45d6010",
   "metadata": {
    "execution": {
     "iopub.execute_input": "2023-01-31T01:19:36.052684Z",
     "iopub.status.busy": "2023-01-31T01:19:36.052144Z",
     "iopub.status.idle": "2023-01-31T01:19:36.056886Z",
     "shell.execute_reply": "2023-01-31T01:19:36.056049Z"
    },
    "papermill": {
     "duration": 0.225019,
     "end_time": "2023-01-31T01:19:36.061123",
     "exception": false,
     "start_time": "2023-01-31T01:19:35.836104",
     "status": "completed"
    },
    "tags": []
   },
   "outputs": [],
   "source": [
    "# data.hvplot.line(x='issue_d', y='loan_status')"
   ]
  },
  {
   "cell_type": "code",
   "execution_count": null,
   "id": "ee80aad7",
   "metadata": {
    "execution": {
     "iopub.execute_input": "2023-01-31T01:19:36.365059Z",
     "iopub.status.busy": "2023-01-31T01:19:36.364042Z",
     "iopub.status.idle": "2023-01-31T01:19:36.394403Z",
     "shell.execute_reply": "2023-01-31T01:19:36.393351Z"
    },
    "papermill": {
     "duration": 0.181657,
     "end_time": "2023-01-31T01:19:36.396627",
     "exception": false,
     "start_time": "2023-01-31T01:19:36.214970",
     "status": "completed"
    },
    "tags": []
   },
   "outputs": [],
   "source": [
    "data['earliest_cr_line'].value_counts()"
   ]
  },
  {
   "cell_type": "code",
   "execution_count": null,
   "id": "ac75c3f7",
   "metadata": {
    "execution": {
     "iopub.execute_input": "2023-01-31T01:19:36.707234Z",
     "iopub.status.busy": "2023-01-31T01:19:36.706811Z",
     "iopub.status.idle": "2023-01-31T01:19:37.003896Z",
     "shell.execute_reply": "2023-01-31T01:19:37.002899Z"
    },
    "papermill": {
     "duration": 0.462697,
     "end_time": "2023-01-31T01:19:37.006389",
     "exception": false,
     "start_time": "2023-01-31T01:19:36.543692",
     "status": "completed"
    },
    "tags": []
   },
   "outputs": [],
   "source": [
    "data['issue_d'] = pd.to_datetime(data['issue_d'])\n",
    "data['earliest_cr_line'] = pd.to_datetime(data['earliest_cr_line'])"
   ]
  },
  {
   "cell_type": "code",
   "execution_count": null,
   "id": "e0a27715",
   "metadata": {
    "_kg_hide-input": true,
    "execution": {
     "iopub.execute_input": "2023-01-31T01:19:37.306095Z",
     "iopub.status.busy": "2023-01-31T01:19:37.305673Z",
     "iopub.status.idle": "2023-01-31T01:19:37.860890Z",
     "shell.execute_reply": "2023-01-31T01:19:37.859873Z"
    },
    "papermill": {
     "duration": 0.705552,
     "end_time": "2023-01-31T01:19:37.863197",
     "exception": false,
     "start_time": "2023-01-31T01:19:37.157645",
     "status": "completed"
    },
    "tags": []
   },
   "outputs": [],
   "source": [
    "fully_paid = data.loc[data['loan_status']=='Fully Paid', 'issue_d'].hvplot.hist(bins=35) \n",
    "charged_off = data.loc[data['loan_status']=='Charged Off', 'issue_d'].hvplot.hist(bins=35)\n",
    "\n",
    "# fully_paid * charged_off\n",
    "loan_issue_date = (fully_paid * charged_off).opts(\n",
    "    title=\"Loan Status by Loan Issue Date\", xlabel='Loan Issue Date', ylabel='Count',\n",
    "    width=350, height=350, legend_cols=2, legend_position='top_right'\n",
    ").opts(xrotation=45)\n",
    "\n",
    "fully_paid = data.loc[data['loan_status']=='Fully Paid', 'earliest_cr_line'].hvplot.hist(bins=35) \n",
    "charged_off = data.loc[data['loan_status']=='Charged Off', 'earliest_cr_line'].hvplot.hist(bins=35)\n",
    "\n",
    "earliest_cr_line = (fully_paid * charged_off).opts(\n",
    "    title=\"Loan Status by earliest_cr_line\", xlabel='earliest_cr_line', ylabel='Count',\n",
    "    width=350, height=350, legend_cols=2, legend_position='top_right'\n",
    ").opts(xrotation=45)\n",
    "\n",
    "loan_issue_date + earliest_cr_line"
   ]
  },
  {
   "cell_type": "markdown",
   "id": "2b532312",
   "metadata": {
    "papermill": {
     "duration": 0.151341,
     "end_time": "2023-01-31T01:19:38.159876",
     "exception": false,
     "start_time": "2023-01-31T01:19:38.008535",
     "status": "completed"
    },
    "tags": []
   },
   "source": [
    "## ✔️ `title`\n",
    "\n",
    "> - `title`: The loan title provided by the borrower"
   ]
  },
  {
   "cell_type": "code",
   "execution_count": null,
   "id": "52e3f12f",
   "metadata": {
    "execution": {
     "iopub.execute_input": "2023-01-31T01:19:38.457869Z",
     "iopub.status.busy": "2023-01-31T01:19:38.457264Z",
     "iopub.status.idle": "2023-01-31T01:19:38.478286Z",
     "shell.execute_reply": "2023-01-31T01:19:38.477342Z"
    },
    "papermill": {
     "duration": 0.171925,
     "end_time": "2023-01-31T01:19:38.480277",
     "exception": false,
     "start_time": "2023-01-31T01:19:38.308352",
     "status": "completed"
    },
    "tags": []
   },
   "outputs": [],
   "source": [
    "data.title.isna().sum()"
   ]
  },
  {
   "cell_type": "code",
   "execution_count": null,
   "id": "3d908427",
   "metadata": {
    "execution": {
     "iopub.execute_input": "2023-01-31T01:19:38.776284Z",
     "iopub.status.busy": "2023-01-31T01:19:38.775907Z",
     "iopub.status.idle": "2023-01-31T01:19:38.887772Z",
     "shell.execute_reply": "2023-01-31T01:19:38.886749Z"
    },
    "papermill": {
     "duration": 0.263547,
     "end_time": "2023-01-31T01:19:38.890320",
     "exception": false,
     "start_time": "2023-01-31T01:19:38.626773",
     "status": "completed"
    },
    "tags": []
   },
   "outputs": [],
   "source": [
    "data['title'] = data.title.str.lower()"
   ]
  },
  {
   "cell_type": "code",
   "execution_count": null,
   "id": "4bb30357",
   "metadata": {
    "execution": {
     "iopub.execute_input": "2023-01-31T01:19:39.190580Z",
     "iopub.status.busy": "2023-01-31T01:19:39.190064Z",
     "iopub.status.idle": "2023-01-31T01:19:39.253346Z",
     "shell.execute_reply": "2023-01-31T01:19:39.252474Z"
    },
    "papermill": {
     "duration": 0.218394,
     "end_time": "2023-01-31T01:19:39.255375",
     "exception": false,
     "start_time": "2023-01-31T01:19:39.036981",
     "status": "completed"
    },
    "tags": []
   },
   "outputs": [],
   "source": [
    "data.title.value_counts()[:10]"
   ]
  },
  {
   "cell_type": "markdown",
   "id": "6641d489",
   "metadata": {
    "papermill": {
     "duration": 0.147167,
     "end_time": "2023-01-31T01:19:39.548187",
     "exception": false,
     "start_time": "2023-01-31T01:19:39.401020",
     "status": "completed"
    },
    "tags": []
   },
   "source": [
    "`title` will be removed because we have the `purpose` column with is generated from it."
   ]
  },
  {
   "cell_type": "markdown",
   "id": "0bd4ff0b",
   "metadata": {
    "papermill": {
     "duration": 0.145179,
     "end_time": "2023-01-31T01:19:39.840797",
     "exception": false,
     "start_time": "2023-01-31T01:19:39.695618",
     "status": "completed"
    },
    "tags": []
   },
   "source": [
    "## ✔️ `dti`, `open_acc`, `revol_bal`, `revol_util`, & `total_acc`\n",
    "\n",
    "> - `dti`: A ratio calculated using the borrower’s total monthly debt payments on the total debt obligations, excluding mortgage and the requested LC loan, divided by the borrower’s self-reported monthly income.\n",
    "> - `open_acc`: The number of open credit lines in the borrower's credit file.\n",
    "> - `revol_bal`: Total credit revolving balance\n",
    "> - `revol_util`: Revolving line utilization rate, or the amount of credit the borrower is using relative to all available revolving credit.\n",
    "> - `total_acc`: The total number of credit lines currently in the borrower's credit file"
   ]
  },
  {
   "cell_type": "code",
   "execution_count": null,
   "id": "9e499bb6",
   "metadata": {
    "execution": {
     "iopub.execute_input": "2023-01-31T01:19:40.139796Z",
     "iopub.status.busy": "2023-01-31T01:19:40.139238Z",
     "iopub.status.idle": "2023-01-31T01:19:40.159273Z",
     "shell.execute_reply": "2023-01-31T01:19:40.158158Z"
    },
    "papermill": {
     "duration": 0.17466,
     "end_time": "2023-01-31T01:19:40.161289",
     "exception": false,
     "start_time": "2023-01-31T01:19:39.986629",
     "status": "completed"
    },
    "tags": []
   },
   "outputs": [],
   "source": [
    "data.dti.value_counts()"
   ]
  },
  {
   "cell_type": "code",
   "execution_count": null,
   "id": "e9030322",
   "metadata": {
    "_kg_hide-input": true,
    "execution": {
     "iopub.execute_input": "2023-01-31T01:19:40.469146Z",
     "iopub.status.busy": "2023-01-31T01:19:40.468137Z",
     "iopub.status.idle": "2023-01-31T01:19:41.043518Z",
     "shell.execute_reply": "2023-01-31T01:19:41.042450Z"
    },
    "papermill": {
     "duration": 0.737239,
     "end_time": "2023-01-31T01:19:41.046587",
     "exception": false,
     "start_time": "2023-01-31T01:19:40.309348",
     "status": "completed"
    },
    "tags": []
   },
   "outputs": [],
   "source": [
    "dti = data.hvplot.hist(\n",
    "    y='dti', bins=50, width=350, height=350, \n",
    "    title=\"dti Distribution\", xlabel='dti', ylabel='Count'\n",
    ")\n",
    "\n",
    "sub_dti = data[data['dti']<=50].hvplot.hist(\n",
    "    y='dti', bins=50, width=350, height=350, \n",
    "    title=\"dti (<=30) Distribution\", xlabel='dti', ylabel='Count', shared_axes=False\n",
    ")\n",
    "\n",
    "dti + sub_dti"
   ]
  },
  {
   "cell_type": "code",
   "execution_count": null,
   "id": "7e0dacd4",
   "metadata": {
    "execution": {
     "iopub.execute_input": "2023-01-31T01:19:41.341762Z",
     "iopub.status.busy": "2023-01-31T01:19:41.341420Z",
     "iopub.status.idle": "2023-01-31T01:19:41.350196Z",
     "shell.execute_reply": "2023-01-31T01:19:41.347986Z"
    },
    "papermill": {
     "duration": 0.15896,
     "end_time": "2023-01-31T01:19:41.353093",
     "exception": false,
     "start_time": "2023-01-31T01:19:41.194133",
     "status": "completed"
    },
    "tags": []
   },
   "outputs": [],
   "source": [
    "print(data[data['dti']>=40].shape)"
   ]
  },
  {
   "cell_type": "code",
   "execution_count": null,
   "id": "0799dde5",
   "metadata": {
    "execution": {
     "iopub.execute_input": "2023-01-31T01:19:41.650339Z",
     "iopub.status.busy": "2023-01-31T01:19:41.649977Z",
     "iopub.status.idle": "2023-01-31T01:19:41.661872Z",
     "shell.execute_reply": "2023-01-31T01:19:41.660862Z"
    },
    "papermill": {
     "duration": 0.163698,
     "end_time": "2023-01-31T01:19:41.664024",
     "exception": false,
     "start_time": "2023-01-31T01:19:41.500326",
     "status": "completed"
    },
    "tags": []
   },
   "outputs": [],
   "source": [
    "data.loc[data['dti']>=50, 'loan_status'].value_counts()"
   ]
  },
  {
   "cell_type": "code",
   "execution_count": null,
   "id": "9543143b",
   "metadata": {
    "_kg_hide-input": true,
    "execution": {
     "iopub.execute_input": "2023-01-31T01:19:42.034991Z",
     "iopub.status.busy": "2023-01-31T01:19:42.034549Z",
     "iopub.status.idle": "2023-01-31T01:19:43.592216Z",
     "shell.execute_reply": "2023-01-31T01:19:43.591228Z"
    },
    "papermill": {
     "duration": 1.779785,
     "end_time": "2023-01-31T01:19:43.595041",
     "exception": false,
     "start_time": "2023-01-31T01:19:41.815256",
     "status": "completed"
    },
    "tags": []
   },
   "outputs": [],
   "source": [
    "dti = data[data['dti']<=50].hvplot.hist(\n",
    "    y='dti', by='loan_status', bins=50, width=300, height=350, \n",
    "    title=\"dti (<=30) Distribution\", xlabel='dti', ylabel='Count', \n",
    "    alpha=0.3, legend='top'\n",
    ")\n",
    "\n",
    "title=\"Loan Status by The number of open credit lines\"\n",
    "\n",
    "open_acc = data.hvplot.hist(\n",
    "    y='open_acc', by='loan_status', bins=50, width=300, height=350, \n",
    "    title=title, xlabel='The number of open credit lines', ylabel='Count', \n",
    "    alpha=0.4, legend='top'\n",
    ")\n",
    "\n",
    "title=\"Loan Status by The total number of credit lines\"\n",
    "\n",
    "total_acc = data.hvplot.hist(\n",
    "    y='total_acc', by='loan_status', bins=50, width=300, height=350, \n",
    "    title=title, xlabel='The total number of credit lines', ylabel='Count', \n",
    "    alpha=0.4, legend='top'\n",
    ")\n",
    "\n",
    "dti + open_acc + total_acc"
   ]
  },
  {
   "cell_type": "code",
   "execution_count": null,
   "id": "1500e037",
   "metadata": {
    "execution": {
     "iopub.execute_input": "2023-01-31T01:19:43.893912Z",
     "iopub.status.busy": "2023-01-31T01:19:43.893531Z",
     "iopub.status.idle": "2023-01-31T01:19:43.901128Z",
     "shell.execute_reply": "2023-01-31T01:19:43.900047Z"
    },
    "papermill": {
     "duration": 0.158533,
     "end_time": "2023-01-31T01:19:43.903690",
     "exception": false,
     "start_time": "2023-01-31T01:19:43.745157",
     "status": "completed"
    },
    "tags": []
   },
   "outputs": [],
   "source": [
    "print(data.shape)\n",
    "print(data[data.open_acc > 40].shape)"
   ]
  },
  {
   "cell_type": "code",
   "execution_count": null,
   "id": "1094afed",
   "metadata": {
    "execution": {
     "iopub.execute_input": "2023-01-31T01:19:44.204863Z",
     "iopub.status.busy": "2023-01-31T01:19:44.204503Z",
     "iopub.status.idle": "2023-01-31T01:19:44.212533Z",
     "shell.execute_reply": "2023-01-31T01:19:44.211180Z"
    },
    "papermill": {
     "duration": 0.163844,
     "end_time": "2023-01-31T01:19:44.214971",
     "exception": false,
     "start_time": "2023-01-31T01:19:44.051127",
     "status": "completed"
    },
    "tags": []
   },
   "outputs": [],
   "source": [
    "print(data.shape)\n",
    "print(data[data.total_acc > 80].shape)"
   ]
  },
  {
   "cell_type": "code",
   "execution_count": null,
   "id": "70729dc5",
   "metadata": {
    "execution": {
     "iopub.execute_input": "2023-01-31T01:19:44.516743Z",
     "iopub.status.busy": "2023-01-31T01:19:44.514679Z",
     "iopub.status.idle": "2023-01-31T01:19:44.523388Z",
     "shell.execute_reply": "2023-01-31T01:19:44.521985Z"
    },
    "papermill": {
     "duration": 0.161845,
     "end_time": "2023-01-31T01:19:44.525412",
     "exception": false,
     "start_time": "2023-01-31T01:19:44.363567",
     "status": "completed"
    },
    "tags": []
   },
   "outputs": [],
   "source": [
    "print(data.shape)\n",
    "print(data[data.revol_util > 120].shape)"
   ]
  },
  {
   "cell_type": "code",
   "execution_count": null,
   "id": "8ee30dc3",
   "metadata": {
    "_kg_hide-input": true,
    "execution": {
     "iopub.execute_input": "2023-01-31T01:19:44.826222Z",
     "iopub.status.busy": "2023-01-31T01:19:44.825649Z",
     "iopub.status.idle": "2023-01-31T01:19:45.877908Z",
     "shell.execute_reply": "2023-01-31T01:19:45.876839Z"
    },
    "papermill": {
     "duration": 1.208243,
     "end_time": "2023-01-31T01:19:45.881545",
     "exception": false,
     "start_time": "2023-01-31T01:19:44.673302",
     "status": "completed"
    },
    "tags": []
   },
   "outputs": [],
   "source": [
    "title=\"Loan Status by Revolving line utilization rate\"\n",
    "\n",
    "revol_util = data.hvplot.hist(\n",
    "    y='revol_util', by='loan_status', bins=50, width=350, height=400, \n",
    "    title=title, xlabel='Revolving line utilization rate', ylabel='Count', \n",
    "    alpha=0.4, legend='top'\n",
    ")\n",
    "\n",
    "title=\"Loan Status by Revolving line utilization rate (<120)\"\n",
    "\n",
    "sub_revol_util = data[data.revol_util < 120].hvplot.hist(\n",
    "    y='revol_util', by='loan_status', bins=50, width=350, height=400, \n",
    "    title=title, xlabel='Revolving line utilization rate', ylabel='Count', \n",
    "    shared_axes=False, alpha=0.4, legend='top'\n",
    ")\n",
    "\n",
    "revol_util + sub_revol_util"
   ]
  },
  {
   "cell_type": "code",
   "execution_count": null,
   "id": "97ce6358",
   "metadata": {
    "execution": {
     "iopub.execute_input": "2023-01-31T01:19:46.215110Z",
     "iopub.status.busy": "2023-01-31T01:19:46.214735Z",
     "iopub.status.idle": "2023-01-31T01:19:46.236378Z",
     "shell.execute_reply": "2023-01-31T01:19:46.235390Z"
    },
    "papermill": {
     "duration": 0.181768,
     "end_time": "2023-01-31T01:19:46.238579",
     "exception": false,
     "start_time": "2023-01-31T01:19:46.056811",
     "status": "completed"
    },
    "tags": []
   },
   "outputs": [],
   "source": [
    "data[data.revol_util > 200]"
   ]
  },
  {
   "cell_type": "code",
   "execution_count": null,
   "id": "a8287017",
   "metadata": {
    "execution": {
     "iopub.execute_input": "2023-01-31T01:19:46.541619Z",
     "iopub.status.busy": "2023-01-31T01:19:46.541247Z",
     "iopub.status.idle": "2023-01-31T01:19:46.549721Z",
     "shell.execute_reply": "2023-01-31T01:19:46.548110Z"
    },
    "papermill": {
     "duration": 0.161567,
     "end_time": "2023-01-31T01:19:46.552328",
     "exception": false,
     "start_time": "2023-01-31T01:19:46.390761",
     "status": "completed"
    },
    "tags": []
   },
   "outputs": [],
   "source": [
    "print(data.shape)\n",
    "print(data[data.revol_bal > 250000].shape)"
   ]
  },
  {
   "cell_type": "code",
   "execution_count": null,
   "id": "173b7de7",
   "metadata": {
    "_kg_hide-input": true,
    "execution": {
     "iopub.execute_input": "2023-01-31T01:19:46.855612Z",
     "iopub.status.busy": "2023-01-31T01:19:46.854585Z",
     "iopub.status.idle": "2023-01-31T01:19:47.890813Z",
     "shell.execute_reply": "2023-01-31T01:19:47.889851Z"
    },
    "papermill": {
     "duration": 1.19218,
     "end_time": "2023-01-31T01:19:47.892827",
     "exception": false,
     "start_time": "2023-01-31T01:19:46.700647",
     "status": "completed"
    },
    "tags": []
   },
   "outputs": [],
   "source": [
    "title = \"Loan Status by Total credit revolving balance\"\n",
    "\n",
    "revol_bal = data.hvplot.hist(\n",
    "    y='revol_bal', by='loan_status', bins=50, width=350, height=400, \n",
    "    title=title, xlabel='Total credit revolving balance', ylabel='Count', \n",
    "    alpha=0.4, legend='top'\n",
    ")\n",
    "\n",
    "title = \"Loan Status by Total credit revolving balance (<250000)\"\n",
    "\n",
    "sub_revol_bal = data[data['revol_bal']<=250000].hvplot.hist(\n",
    "    y='revol_bal', by='loan_status', bins=50, width=350, height=400, \n",
    "    title=title, xlabel='Total credit revolving balance', ylabel='Count', \n",
    "    alpha=0.4, legend='top', shared_axes=False\n",
    ").opts(xrotation=45)\n",
    "\n",
    "revol_bal + sub_revol_bal"
   ]
  },
  {
   "cell_type": "code",
   "execution_count": null,
   "id": "7e8f1508",
   "metadata": {
    "execution": {
     "iopub.execute_input": "2023-01-31T01:19:48.197984Z",
     "iopub.status.busy": "2023-01-31T01:19:48.195731Z",
     "iopub.status.idle": "2023-01-31T01:19:48.206023Z",
     "shell.execute_reply": "2023-01-31T01:19:48.205051Z"
    },
    "papermill": {
     "duration": 0.165947,
     "end_time": "2023-01-31T01:19:48.207978",
     "exception": false,
     "start_time": "2023-01-31T01:19:48.042031",
     "status": "completed"
    },
    "tags": []
   },
   "outputs": [],
   "source": [
    "data.loc[data.revol_bal > 250000, 'loan_status'].value_counts()"
   ]
  },
  {
   "cell_type": "markdown",
   "id": "318d6925",
   "metadata": {
    "papermill": {
     "duration": 0.150182,
     "end_time": "2023-01-31T01:19:48.507087",
     "exception": false,
     "start_time": "2023-01-31T01:19:48.356905",
     "status": "completed"
    },
    "tags": []
   },
   "source": [
    "- It seems that the smaller the `dti` the more likely that the loan will not be paid.\n",
    "- Only `217` borrower have more than `40` open credit lines.\n",
    "- Only `266` borrower have more than `80` credit line in the borrower credit file."
   ]
  },
  {
   "cell_type": "markdown",
   "id": "ce74090c",
   "metadata": {
    "papermill": {
     "duration": 0.166255,
     "end_time": "2023-01-31T01:19:48.823822",
     "exception": false,
     "start_time": "2023-01-31T01:19:48.657567",
     "status": "completed"
    },
    "tags": []
   },
   "source": [
    "## ✔️ `pub_rec`, `initial_list_status`, `application_type`, `mort_acc`, & `pub_rec_bankruptcies`\n",
    "\n",
    "> - `pub_rec`: Number of derogatory public records\n",
    "> - `initial_list_status`: The initial listing status of the loan. Possible values are – W, F\n",
    "> - `application_type`: Indicates whether the loan is an individual application or a joint application with two co-borrowers\n",
    "> - `mort_acc`: Number of mortgage accounts\n",
    "> - `pub_rec_bankruptcies`: Number of public record bankruptcies"
   ]
  },
  {
   "cell_type": "code",
   "execution_count": null,
   "id": "c4d6af8b",
   "metadata": {
    "_kg_hide-input": true,
    "execution": {
     "iopub.execute_input": "2023-01-31T01:19:49.145375Z",
     "iopub.status.busy": "2023-01-31T01:19:49.145017Z",
     "iopub.status.idle": "2023-01-31T01:19:49.400862Z",
     "shell.execute_reply": "2023-01-31T01:19:49.399967Z"
    },
    "papermill": {
     "duration": 0.413173,
     "end_time": "2023-01-31T01:19:49.402908",
     "exception": false,
     "start_time": "2023-01-31T01:19:48.989735",
     "status": "completed"
    },
    "tags": []
   },
   "outputs": [],
   "source": [
    "xlabel = 'Number of derogatory public records'\n",
    "title = \"Loan Status by Number of derogatory public records\"\n",
    "\n",
    "fully_paid = data.loc[data['loan_status']=='Fully Paid', 'pub_rec'].value_counts().hvplot.bar() \n",
    "charged_off = data.loc[data['loan_status']=='Charged Off', 'pub_rec'].value_counts().hvplot.bar()\n",
    "\n",
    "(fully_paid * charged_off).opts(\n",
    "    title=title, xlabel=xlabel, ylabel='Count',\n",
    "    width=400, height=400, legend_cols=2, legend_position='top_right'\n",
    ")"
   ]
  },
  {
   "cell_type": "code",
   "execution_count": null,
   "id": "e030e064",
   "metadata": {
    "_kg_hide-input": true,
    "execution": {
     "iopub.execute_input": "2023-01-31T01:19:49.707339Z",
     "iopub.status.busy": "2023-01-31T01:19:49.705461Z",
     "iopub.status.idle": "2023-01-31T01:19:49.987015Z",
     "shell.execute_reply": "2023-01-31T01:19:49.985981Z"
    },
    "papermill": {
     "duration": 0.434789,
     "end_time": "2023-01-31T01:19:49.989116",
     "exception": false,
     "start_time": "2023-01-31T01:19:49.554327",
     "status": "completed"
    },
    "tags": []
   },
   "outputs": [],
   "source": [
    "xlabel = \"The initial listing status of the loan\"\n",
    "title = \"Loan Status by The initial listing status of the loan\"\n",
    "\n",
    "fully_paid = data.loc[data['loan_status']=='Fully Paid', 'initial_list_status'].value_counts().hvplot.bar() \n",
    "charged_off = data.loc[data['loan_status']=='Charged Off', 'initial_list_status'].value_counts().hvplot.bar()\n",
    "\n",
    "(fully_paid * charged_off).opts(\n",
    "    title=title, xlabel=xlabel, ylabel='Count',\n",
    "    width=400, height=400, legend_cols=2, legend_position='top_right'\n",
    ")"
   ]
  },
  {
   "cell_type": "code",
   "execution_count": null,
   "id": "c3d06f8b",
   "metadata": {
    "_kg_hide-input": true,
    "execution": {
     "iopub.execute_input": "2023-01-31T01:19:50.294503Z",
     "iopub.status.busy": "2023-01-31T01:19:50.293798Z",
     "iopub.status.idle": "2023-01-31T01:19:50.579936Z",
     "shell.execute_reply": "2023-01-31T01:19:50.578871Z"
    },
    "papermill": {
     "duration": 0.441882,
     "end_time": "2023-01-31T01:19:50.582091",
     "exception": false,
     "start_time": "2023-01-31T01:19:50.140209",
     "status": "completed"
    },
    "tags": []
   },
   "outputs": [],
   "source": [
    "fully_paid = data.loc[data['loan_status']=='Fully Paid', 'application_type'].value_counts().hvplot.bar() \n",
    "charged_off = data.loc[data['loan_status']=='Charged Off', 'application_type'].value_counts().hvplot.bar()\n",
    "\n",
    "(fully_paid * charged_off).opts(\n",
    "    title=\"Loan Status by Application Type\", xlabel=\"Application Type\", ylabel='Count',\n",
    "    width=400, height=400, legend_cols=2, legend_position='top_right'\n",
    ")"
   ]
  },
  {
   "cell_type": "code",
   "execution_count": null,
   "id": "d88e9464",
   "metadata": {
    "_kg_hide-input": true,
    "execution": {
     "iopub.execute_input": "2023-01-31T01:19:50.888831Z",
     "iopub.status.busy": "2023-01-31T01:19:50.887830Z",
     "iopub.status.idle": "2023-01-31T01:19:51.142795Z",
     "shell.execute_reply": "2023-01-31T01:19:51.141652Z"
    },
    "papermill": {
     "duration": 0.411329,
     "end_time": "2023-01-31T01:19:51.144999",
     "exception": false,
     "start_time": "2023-01-31T01:19:50.733670",
     "status": "completed"
    },
    "tags": []
   },
   "outputs": [],
   "source": [
    "xlabel = \"Number of public record bankruptcies\"\n",
    "title = \"Loan Status by The Number of public record bankruptcies\"\n",
    "\n",
    "fully_paid = data.loc[data['loan_status']=='Fully Paid', 'pub_rec_bankruptcies'].value_counts().hvplot.bar() \n",
    "charged_off = data.loc[data['loan_status']=='Charged Off', 'pub_rec_bankruptcies'].value_counts().hvplot.bar()\n",
    "\n",
    "(fully_paid * charged_off).opts(\n",
    "    title=title, xlabel=xlabel, ylabel='Count',\n",
    "    width=400, height=400, legend_cols=2, legend_position='top_right'\n",
    ")"
   ]
  },
  {
   "cell_type": "code",
   "execution_count": null,
   "id": "9f8fae9f",
   "metadata": {
    "execution": {
     "iopub.execute_input": "2023-01-31T01:19:51.463164Z",
     "iopub.status.busy": "2023-01-31T01:19:51.462634Z",
     "iopub.status.idle": "2023-01-31T01:19:51.470436Z",
     "shell.execute_reply": "2023-01-31T01:19:51.469418Z"
    },
    "papermill": {
     "duration": 0.173336,
     "end_time": "2023-01-31T01:19:51.472809",
     "exception": false,
     "start_time": "2023-01-31T01:19:51.299473",
     "status": "completed"
    },
    "tags": []
   },
   "outputs": [],
   "source": [
    "def pub_rec(number):\n",
    "    if number == 0.0:\n",
    "        return 0\n",
    "    else:\n",
    "        return 1\n",
    "    \n",
    "def mort_acc(number):\n",
    "    if number == 0.0:\n",
    "        return 0\n",
    "    elif number >= 1.0:\n",
    "        return 1\n",
    "    else:\n",
    "        return number\n",
    "    \n",
    "def pub_rec_bankruptcies(number):\n",
    "    if number == 0.0:\n",
    "        return 0\n",
    "    elif number >= 1.0:\n",
    "        return 1\n",
    "    else:\n",
    "        return number"
   ]
  },
  {
   "cell_type": "code",
   "execution_count": null,
   "id": "20b461f2",
   "metadata": {
    "execution": {
     "iopub.execute_input": "2023-01-31T01:19:51.790843Z",
     "iopub.status.busy": "2023-01-31T01:19:51.789955Z",
     "iopub.status.idle": "2023-01-31T01:19:52.269829Z",
     "shell.execute_reply": "2023-01-31T01:19:52.268845Z"
    },
    "papermill": {
     "duration": 0.64151,
     "end_time": "2023-01-31T01:19:52.272387",
     "exception": false,
     "start_time": "2023-01-31T01:19:51.630877",
     "status": "completed"
    },
    "tags": []
   },
   "outputs": [],
   "source": [
    "data['pub_rec'] = data.pub_rec.apply(pub_rec)\n",
    "data['mort_acc'] = data.mort_acc.apply(mort_acc)\n",
    "data['pub_rec_bankruptcies'] = data.pub_rec_bankruptcies.apply(pub_rec_bankruptcies)"
   ]
  },
  {
   "cell_type": "code",
   "execution_count": null,
   "id": "ab82a132",
   "metadata": {
    "execution": {
     "iopub.execute_input": "2023-01-31T01:19:52.583281Z",
     "iopub.status.busy": "2023-01-31T01:19:52.581443Z",
     "iopub.status.idle": "2023-01-31T01:19:54.571893Z",
     "shell.execute_reply": "2023-01-31T01:19:54.570874Z"
    },
    "papermill": {
     "duration": 2.147377,
     "end_time": "2023-01-31T01:19:54.574110",
     "exception": false,
     "start_time": "2023-01-31T01:19:52.426733",
     "status": "completed"
    },
    "tags": []
   },
   "outputs": [],
   "source": [
    "plt.figure(figsize=(12, 30))\n",
    "\n",
    "plt.subplot(6, 2, 1)\n",
    "sns.countplot(x='pub_rec', data=data, hue='loan_status')\n",
    "\n",
    "plt.subplot(6, 2, 2)\n",
    "sns.countplot(x='initial_list_status', data=data, hue='loan_status')\n",
    "\n",
    "plt.subplot(6, 2, 3)\n",
    "sns.countplot(x='application_type', data=data, hue='loan_status')\n",
    "\n",
    "plt.subplot(6, 2, 4)\n",
    "sns.countplot(x='mort_acc', data=data, hue='loan_status')\n",
    "\n",
    "plt.subplot(6, 2, 5)\n",
    "sns.countplot(x='pub_rec_bankruptcies', data=data, hue='loan_status')"
   ]
  },
  {
   "cell_type": "markdown",
   "id": "ca96368d",
   "metadata": {
    "papermill": {
     "duration": 0.158723,
     "end_time": "2023-01-31T01:19:54.884552",
     "exception": false,
     "start_time": "2023-01-31T01:19:54.725829",
     "status": "completed"
    },
    "tags": []
   },
   "source": [
    "## 📈 How numeric features correlate with the target variable?"
   ]
  },
  {
   "cell_type": "code",
   "execution_count": null,
   "id": "a164ccb0",
   "metadata": {
    "execution": {
     "iopub.execute_input": "2023-01-31T01:19:55.206525Z",
     "iopub.status.busy": "2023-01-31T01:19:55.205248Z",
     "iopub.status.idle": "2023-01-31T01:19:55.318559Z",
     "shell.execute_reply": "2023-01-31T01:19:55.317632Z"
    },
    "papermill": {
     "duration": 0.272966,
     "end_time": "2023-01-31T01:19:55.320900",
     "exception": false,
     "start_time": "2023-01-31T01:19:55.047934",
     "status": "completed"
    },
    "tags": []
   },
   "outputs": [],
   "source": [
    "data['loan_status'] = data.loan_status.map({'Fully Paid':1, 'Charged Off':0})"
   ]
  },
  {
   "cell_type": "code",
   "execution_count": null,
   "id": "f9113a3f",
   "metadata": {
    "_kg_hide-input": true,
    "execution": {
     "iopub.execute_input": "2023-01-31T01:19:55.628491Z",
     "iopub.status.busy": "2023-01-31T01:19:55.627788Z",
     "iopub.status.idle": "2023-01-31T01:19:55.934084Z",
     "shell.execute_reply": "2023-01-31T01:19:55.932982Z"
    },
    "papermill": {
     "duration": 0.462693,
     "end_time": "2023-01-31T01:19:55.936808",
     "exception": false,
     "start_time": "2023-01-31T01:19:55.474115",
     "status": "completed"
    },
    "tags": []
   },
   "outputs": [],
   "source": [
    "data.corr()['loan_status'].drop('loan_status').sort_values().hvplot.barh(\n",
    "    width=600, height=400, \n",
    "    title=\"Correlation between Loan status and Numeric Features\", \n",
    "    ylabel='Correlation', xlabel='Numerical Features', \n",
    ")"
   ]
  },
  {
   "cell_type": "markdown",
   "id": "9e2c0c3f",
   "metadata": {
    "papermill": {
     "duration": 0.158417,
     "end_time": "2023-01-31T01:19:56.249428",
     "exception": false,
     "start_time": "2023-01-31T01:19:56.091011",
     "status": "completed"
    },
    "tags": []
   },
   "source": [
    "****\n",
    "## Conclusion:\n",
    "\n",
    "We notice that, there are broadly three types of features: \n",
    "- 1. Features related to the applicant (demographic variables such as occupation, employment details etc.), \n",
    "- 2. Features related to loan characteristics (amount of loan, interest rate, purpose of loan etc.) \n",
    "****"
   ]
  },
  {
   "cell_type": "markdown",
   "id": "548a9036",
   "metadata": {
    "papermill": {
     "duration": 0.162161,
     "end_time": "2023-01-31T01:19:56.569672",
     "exception": false,
     "start_time": "2023-01-31T01:19:56.407511",
     "status": "completed"
    },
    "tags": []
   },
   "source": [
    "# Outliers Detection and Removing"
   ]
  },
  {
   "cell_type": "code",
   "execution_count": null,
   "id": "1a3de5c8",
   "metadata": {
    "execution": {
     "iopub.execute_input": "2023-01-31T01:19:56.884775Z",
     "iopub.status.busy": "2023-01-31T01:19:56.884419Z",
     "iopub.status.idle": "2023-01-31T01:19:56.888779Z",
     "shell.execute_reply": "2023-01-31T01:19:56.887853Z"
    },
    "papermill": {
     "duration": 0.161871,
     "end_time": "2023-01-31T01:19:56.890776",
     "exception": false,
     "start_time": "2023-01-31T01:19:56.728905",
     "status": "completed"
    },
    "tags": []
   },
   "outputs": [],
   "source": [
    "## We need to remove outliers found in the analysis"
   ]
  },
  {
   "cell_type": "markdown",
   "id": "9aadfe1d",
   "metadata": {
    "papermill": {
     "duration": 0.153774,
     "end_time": "2023-01-31T01:19:57.198439",
     "exception": false,
     "start_time": "2023-01-31T01:19:57.044665",
     "status": "completed"
    },
    "tags": []
   },
   "source": [
    "# 🔄 Data PreProcessing\n",
    "\n",
    "**Section Goals:** \n",
    "> - Remove or fill any missing data. \n",
    "> - Remove unnecessary or repetitive features. \n",
    "> - Convert categorical string features to dummy variables."
   ]
  },
  {
   "cell_type": "code",
   "execution_count": null,
   "id": "a4654adb",
   "metadata": {
    "execution": {
     "iopub.execute_input": "2023-01-31T01:19:57.508308Z",
     "iopub.status.busy": "2023-01-31T01:19:57.507951Z",
     "iopub.status.idle": "2023-01-31T01:19:57.512758Z",
     "shell.execute_reply": "2023-01-31T01:19:57.511627Z"
    },
    "papermill": {
     "duration": 0.164511,
     "end_time": "2023-01-31T01:19:57.516606",
     "exception": false,
     "start_time": "2023-01-31T01:19:57.352095",
     "status": "completed"
    },
    "tags": []
   },
   "outputs": [],
   "source": [
    "# The length of the data\n",
    "print(f\"The Length of the data: {data.shape}\")"
   ]
  },
  {
   "cell_type": "code",
   "execution_count": null,
   "id": "efda9067",
   "metadata": {
    "execution": {
     "iopub.execute_input": "2023-01-31T01:19:57.825007Z",
     "iopub.status.busy": "2023-01-31T01:19:57.824648Z",
     "iopub.status.idle": "2023-01-31T01:19:58.035332Z",
     "shell.execute_reply": "2023-01-31T01:19:58.033958Z"
    },
    "papermill": {
     "duration": 0.367763,
     "end_time": "2023-01-31T01:19:58.038341",
     "exception": false,
     "start_time": "2023-01-31T01:19:57.670578",
     "status": "completed"
    },
    "tags": []
   },
   "outputs": [],
   "source": [
    "# Missing values\n",
    "for column in data.columns:\n",
    "    if data[column].isna().sum() != 0:\n",
    "        missing = data[column].isna().sum()\n",
    "        portion = (missing / data.shape[0]) * 100\n",
    "        print(f\"'{column}': number of missing values '{missing}' ==> '{portion:.3f}%'\")"
   ]
  },
  {
   "cell_type": "markdown",
   "id": "f8943f42",
   "metadata": {
    "papermill": {
     "duration": 0.155115,
     "end_time": "2023-01-31T01:19:58.347111",
     "exception": false,
     "start_time": "2023-01-31T01:19:58.191996",
     "status": "completed"
    },
    "tags": []
   },
   "source": [
    "### `emp_title`"
   ]
  },
  {
   "cell_type": "code",
   "execution_count": null,
   "id": "97b83f6a",
   "metadata": {
    "execution": {
     "iopub.execute_input": "2023-01-31T01:19:58.657761Z",
     "iopub.status.busy": "2023-01-31T01:19:58.657409Z",
     "iopub.status.idle": "2023-01-31T01:19:58.718524Z",
     "shell.execute_reply": "2023-01-31T01:19:58.717428Z"
    },
    "papermill": {
     "duration": 0.218649,
     "end_time": "2023-01-31T01:19:58.720885",
     "exception": false,
     "start_time": "2023-01-31T01:19:58.502236",
     "status": "completed"
    },
    "tags": []
   },
   "outputs": [],
   "source": [
    "data.emp_title.nunique()"
   ]
  },
  {
   "cell_type": "markdown",
   "id": "0a21b9fb",
   "metadata": {
    "papermill": {
     "duration": 0.151746,
     "end_time": "2023-01-31T01:19:59.026893",
     "exception": false,
     "start_time": "2023-01-31T01:19:58.875147",
     "status": "completed"
    },
    "tags": []
   },
   "source": [
    "Realistically there are too many unique job titles to try to convert this to a dummy variable feature. Let's remove that emp_title column."
   ]
  },
  {
   "cell_type": "code",
   "execution_count": null,
   "id": "21d7d226",
   "metadata": {
    "execution": {
     "iopub.execute_input": "2023-01-31T01:19:59.393873Z",
     "iopub.status.busy": "2023-01-31T01:19:59.393523Z",
     "iopub.status.idle": "2023-01-31T01:19:59.484064Z",
     "shell.execute_reply": "2023-01-31T01:19:59.483052Z"
    },
    "papermill": {
     "duration": 0.251026,
     "end_time": "2023-01-31T01:19:59.486627",
     "exception": false,
     "start_time": "2023-01-31T01:19:59.235601",
     "status": "completed"
    },
    "tags": []
   },
   "outputs": [],
   "source": [
    "data.drop('emp_title', axis=1, inplace=True)"
   ]
  },
  {
   "cell_type": "markdown",
   "id": "67270b10",
   "metadata": {
    "papermill": {
     "duration": 0.155222,
     "end_time": "2023-01-31T01:19:59.797162",
     "exception": false,
     "start_time": "2023-01-31T01:19:59.641940",
     "status": "completed"
    },
    "tags": []
   },
   "source": [
    "### `emp_length`"
   ]
  },
  {
   "cell_type": "code",
   "execution_count": null,
   "id": "4f515c95",
   "metadata": {
    "execution": {
     "iopub.execute_input": "2023-01-31T01:20:00.108198Z",
     "iopub.status.busy": "2023-01-31T01:20:00.107817Z",
     "iopub.status.idle": "2023-01-31T01:20:00.132978Z",
     "shell.execute_reply": "2023-01-31T01:20:00.132002Z"
    },
    "papermill": {
     "duration": 0.182778,
     "end_time": "2023-01-31T01:20:00.134984",
     "exception": false,
     "start_time": "2023-01-31T01:19:59.952206",
     "status": "completed"
    },
    "tags": []
   },
   "outputs": [],
   "source": [
    "data.emp_length.unique()"
   ]
  },
  {
   "cell_type": "code",
   "execution_count": null,
   "id": "ef3e29bb",
   "metadata": {
    "execution": {
     "iopub.execute_input": "2023-01-31T01:20:00.447304Z",
     "iopub.status.busy": "2023-01-31T01:20:00.446949Z",
     "iopub.status.idle": "2023-01-31T01:20:00.934294Z",
     "shell.execute_reply": "2023-01-31T01:20:00.932969Z"
    },
    "papermill": {
     "duration": 0.646449,
     "end_time": "2023-01-31T01:20:00.937339",
     "exception": false,
     "start_time": "2023-01-31T01:20:00.290890",
     "status": "completed"
    },
    "tags": []
   },
   "outputs": [],
   "source": [
    "for year in data.emp_length.unique():\n",
    "    print(f\"{year} years in this position:\")\n",
    "    print(f\"{data[data.emp_length == year].loan_status.value_counts(normalize=True)}\")\n",
    "    print('==========================================')"
   ]
  },
  {
   "cell_type": "markdown",
   "id": "ca741633",
   "metadata": {
    "papermill": {
     "duration": 0.15404,
     "end_time": "2023-01-31T01:20:01.247019",
     "exception": false,
     "start_time": "2023-01-31T01:20:01.092979",
     "status": "completed"
    },
    "tags": []
   },
   "source": [
    "Charge off rates are extremely similar across all employment lengths. So we are going to drop the `emp_length` column."
   ]
  },
  {
   "cell_type": "code",
   "execution_count": null,
   "id": "afb41025",
   "metadata": {
    "execution": {
     "iopub.execute_input": "2023-01-31T01:20:01.569308Z",
     "iopub.status.busy": "2023-01-31T01:20:01.568771Z",
     "iopub.status.idle": "2023-01-31T01:20:01.652171Z",
     "shell.execute_reply": "2023-01-31T01:20:01.651155Z"
    },
    "papermill": {
     "duration": 0.252437,
     "end_time": "2023-01-31T01:20:01.654862",
     "exception": false,
     "start_time": "2023-01-31T01:20:01.402425",
     "status": "completed"
    },
    "tags": []
   },
   "outputs": [],
   "source": [
    "data.drop('emp_length', axis=1, inplace=True)"
   ]
  },
  {
   "cell_type": "markdown",
   "id": "0f2cfdea",
   "metadata": {
    "papermill": {
     "duration": 0.156512,
     "end_time": "2023-01-31T01:20:01.974059",
     "exception": false,
     "start_time": "2023-01-31T01:20:01.817547",
     "status": "completed"
    },
    "tags": []
   },
   "source": [
    "### `title`"
   ]
  },
  {
   "cell_type": "code",
   "execution_count": null,
   "id": "f2d46a59",
   "metadata": {
    "execution": {
     "iopub.execute_input": "2023-01-31T01:20:02.302596Z",
     "iopub.status.busy": "2023-01-31T01:20:02.301115Z",
     "iopub.status.idle": "2023-01-31T01:20:02.353519Z",
     "shell.execute_reply": "2023-01-31T01:20:02.352787Z"
    },
    "papermill": {
     "duration": 0.22126,
     "end_time": "2023-01-31T01:20:02.355379",
     "exception": false,
     "start_time": "2023-01-31T01:20:02.134119",
     "status": "completed"
    },
    "tags": []
   },
   "outputs": [],
   "source": [
    "data.title.value_counts().head()"
   ]
  },
  {
   "cell_type": "code",
   "execution_count": null,
   "id": "3658f3e9",
   "metadata": {
    "execution": {
     "iopub.execute_input": "2023-01-31T01:20:02.668387Z",
     "iopub.status.busy": "2023-01-31T01:20:02.668027Z",
     "iopub.status.idle": "2023-01-31T01:20:02.696613Z",
     "shell.execute_reply": "2023-01-31T01:20:02.695646Z"
    },
    "papermill": {
     "duration": 0.189579,
     "end_time": "2023-01-31T01:20:02.698654",
     "exception": false,
     "start_time": "2023-01-31T01:20:02.509075",
     "status": "completed"
    },
    "tags": []
   },
   "outputs": [],
   "source": [
    "data.purpose.value_counts().head()"
   ]
  },
  {
   "cell_type": "markdown",
   "id": "085c5ff2",
   "metadata": {
    "papermill": {
     "duration": 0.152628,
     "end_time": "2023-01-31T01:20:03.007960",
     "exception": false,
     "start_time": "2023-01-31T01:20:02.855332",
     "status": "completed"
    },
    "tags": []
   },
   "source": [
    "The title column is simply a string subcategory/description of the purpose column. So we are going to drop the title column."
   ]
  },
  {
   "cell_type": "code",
   "execution_count": null,
   "id": "9f552feb",
   "metadata": {
    "execution": {
     "iopub.execute_input": "2023-01-31T01:20:03.330624Z",
     "iopub.status.busy": "2023-01-31T01:20:03.329830Z",
     "iopub.status.idle": "2023-01-31T01:20:03.405064Z",
     "shell.execute_reply": "2023-01-31T01:20:03.404129Z"
    },
    "papermill": {
     "duration": 0.2451,
     "end_time": "2023-01-31T01:20:03.407180",
     "exception": false,
     "start_time": "2023-01-31T01:20:03.162080",
     "status": "completed"
    },
    "tags": []
   },
   "outputs": [],
   "source": [
    "data.drop('title', axis=1, inplace=True)"
   ]
  },
  {
   "cell_type": "markdown",
   "id": "073e351d",
   "metadata": {
    "papermill": {
     "duration": 0.152599,
     "end_time": "2023-01-31T01:20:03.716101",
     "exception": false,
     "start_time": "2023-01-31T01:20:03.563502",
     "status": "completed"
    },
    "tags": []
   },
   "source": [
    "### `mort_acc`\n",
    "\n",
    "There are many ways we could deal with this missing data. We could attempt to build a simple model to fill it in, such as a linear model, we could just fill it in based on the mean of the other columns, or you could even bin the columns into categories and then set NaN as its own category. There is no 100% correct approach! \n",
    "\n",
    "Let's review the other columsn to see which most highly correlates to mort_acc"
   ]
  },
  {
   "cell_type": "code",
   "execution_count": null,
   "id": "29203260",
   "metadata": {
    "execution": {
     "iopub.execute_input": "2023-01-31T01:20:04.124575Z",
     "iopub.status.busy": "2023-01-31T01:20:04.124027Z",
     "iopub.status.idle": "2023-01-31T01:20:04.144154Z",
     "shell.execute_reply": "2023-01-31T01:20:04.143128Z"
    },
    "papermill": {
     "duration": 0.2747,
     "end_time": "2023-01-31T01:20:04.147329",
     "exception": false,
     "start_time": "2023-01-31T01:20:03.872629",
     "status": "completed"
    },
    "tags": []
   },
   "outputs": [],
   "source": [
    "data.mort_acc.value_counts()"
   ]
  },
  {
   "cell_type": "code",
   "execution_count": null,
   "id": "f48557a0",
   "metadata": {
    "execution": {
     "iopub.execute_input": "2023-01-31T01:20:04.557704Z",
     "iopub.status.busy": "2023-01-31T01:20:04.556774Z",
     "iopub.status.idle": "2023-01-31T01:20:04.564959Z",
     "shell.execute_reply": "2023-01-31T01:20:04.564058Z"
    },
    "papermill": {
     "duration": 0.193361,
     "end_time": "2023-01-31T01:20:04.567058",
     "exception": false,
     "start_time": "2023-01-31T01:20:04.373697",
     "status": "completed"
    },
    "tags": []
   },
   "outputs": [],
   "source": [
    "data.mort_acc.isna().sum()"
   ]
  },
  {
   "cell_type": "code",
   "execution_count": null,
   "id": "56af792b",
   "metadata": {
    "execution": {
     "iopub.execute_input": "2023-01-31T01:20:04.883107Z",
     "iopub.status.busy": "2023-01-31T01:20:04.882093Z",
     "iopub.status.idle": "2023-01-31T01:20:05.203169Z",
     "shell.execute_reply": "2023-01-31T01:20:05.202098Z"
    },
    "papermill": {
     "duration": 0.485923,
     "end_time": "2023-01-31T01:20:05.205468",
     "exception": false,
     "start_time": "2023-01-31T01:20:04.719545",
     "status": "completed"
    },
    "tags": []
   },
   "outputs": [],
   "source": [
    "data.corr()['mort_acc'].drop('mort_acc').sort_values().hvplot.barh()"
   ]
  },
  {
   "cell_type": "markdown",
   "id": "50ab6e96",
   "metadata": {
    "papermill": {
     "duration": 0.1562,
     "end_time": "2023-01-31T01:20:05.517606",
     "exception": false,
     "start_time": "2023-01-31T01:20:05.361406",
     "status": "completed"
    },
    "tags": []
   },
   "source": [
    "Looks like the total_acc feature correlates with the mort_acc , this makes sense! Let's try this fillna() approach. We will group the dataframe by the total_acc and calculate the mean value for the mort_acc per total_acc entry. To get the result below:"
   ]
  },
  {
   "cell_type": "code",
   "execution_count": null,
   "id": "4af4ee48",
   "metadata": {
    "execution": {
     "iopub.execute_input": "2023-01-31T01:20:05.831034Z",
     "iopub.status.busy": "2023-01-31T01:20:05.830646Z",
     "iopub.status.idle": "2023-01-31T01:20:05.924338Z",
     "shell.execute_reply": "2023-01-31T01:20:05.923364Z"
    },
    "papermill": {
     "duration": 0.25372,
     "end_time": "2023-01-31T01:20:05.926806",
     "exception": false,
     "start_time": "2023-01-31T01:20:05.673086",
     "status": "completed"
    },
    "tags": []
   },
   "outputs": [],
   "source": [
    "total_acc_avg = data.groupby(by='total_acc').mean().mort_acc"
   ]
  },
  {
   "cell_type": "code",
   "execution_count": null,
   "id": "a45e0861",
   "metadata": {
    "execution": {
     "iopub.execute_input": "2023-01-31T01:20:06.241213Z",
     "iopub.status.busy": "2023-01-31T01:20:06.240848Z",
     "iopub.status.idle": "2023-01-31T01:20:06.245631Z",
     "shell.execute_reply": "2023-01-31T01:20:06.244665Z"
    },
    "papermill": {
     "duration": 0.166481,
     "end_time": "2023-01-31T01:20:06.247571",
     "exception": false,
     "start_time": "2023-01-31T01:20:06.081090",
     "status": "completed"
    },
    "tags": []
   },
   "outputs": [],
   "source": [
    "def fill_mort_acc(total_acc, mort_acc):\n",
    "    if np.isnan(mort_acc):\n",
    "        return total_acc_avg[total_acc].round()\n",
    "    else:\n",
    "        return mort_acc"
   ]
  },
  {
   "cell_type": "code",
   "execution_count": null,
   "id": "253d2eb1",
   "metadata": {
    "execution": {
     "iopub.execute_input": "2023-01-31T01:20:06.600878Z",
     "iopub.status.busy": "2023-01-31T01:20:06.600392Z",
     "iopub.status.idle": "2023-01-31T01:20:17.080624Z",
     "shell.execute_reply": "2023-01-31T01:20:17.079632Z"
    },
    "papermill": {
     "duration": 10.681192,
     "end_time": "2023-01-31T01:20:17.083493",
     "exception": false,
     "start_time": "2023-01-31T01:20:06.402301",
     "status": "completed"
    },
    "tags": []
   },
   "outputs": [],
   "source": [
    "data['mort_acc'] = data.apply(lambda x: fill_mort_acc(x['total_acc'], x['mort_acc']), axis=1)"
   ]
  },
  {
   "cell_type": "markdown",
   "id": "ec8393b4",
   "metadata": {
    "papermill": {
     "duration": 0.155617,
     "end_time": "2023-01-31T01:20:17.396218",
     "exception": false,
     "start_time": "2023-01-31T01:20:17.240601",
     "status": "completed"
    },
    "tags": []
   },
   "source": [
    "### `revol_util` & `pub_rec_bankruptcies`\n",
    "These two features have missing data points, but they account for less than 0.5% of the total data. So we are going to remove the rows that are missing those values in those columns with dropna()."
   ]
  },
  {
   "cell_type": "code",
   "execution_count": null,
   "id": "27582166",
   "metadata": {
    "execution": {
     "iopub.execute_input": "2023-01-31T01:20:17.711177Z",
     "iopub.status.busy": "2023-01-31T01:20:17.710596Z",
     "iopub.status.idle": "2023-01-31T01:20:17.844317Z",
     "shell.execute_reply": "2023-01-31T01:20:17.842640Z"
    },
    "papermill": {
     "duration": 0.294871,
     "end_time": "2023-01-31T01:20:17.847122",
     "exception": false,
     "start_time": "2023-01-31T01:20:17.552251",
     "status": "completed"
    },
    "tags": []
   },
   "outputs": [],
   "source": [
    "for column in data.columns:\n",
    "    if data[column].isna().sum() != 0:\n",
    "        missing = data[column].isna().sum()\n",
    "        portion = (missing / data.shape[0]) * 100\n",
    "        print(f\"'{column}': number of missing values '{missing}' ==> '{portion:.3f}%'\")"
   ]
  },
  {
   "cell_type": "code",
   "execution_count": null,
   "id": "5d4ce6fa",
   "metadata": {
    "execution": {
     "iopub.execute_input": "2023-01-31T01:20:18.159436Z",
     "iopub.status.busy": "2023-01-31T01:20:18.158400Z",
     "iopub.status.idle": "2023-01-31T01:20:18.366788Z",
     "shell.execute_reply": "2023-01-31T01:20:18.365780Z"
    },
    "papermill": {
     "duration": 0.366367,
     "end_time": "2023-01-31T01:20:18.369326",
     "exception": false,
     "start_time": "2023-01-31T01:20:18.002959",
     "status": "completed"
    },
    "tags": []
   },
   "outputs": [],
   "source": [
    "data.dropna(inplace=True)"
   ]
  },
  {
   "cell_type": "code",
   "execution_count": null,
   "id": "41c3ba1b",
   "metadata": {
    "execution": {
     "iopub.execute_input": "2023-01-31T01:20:18.682020Z",
     "iopub.status.busy": "2023-01-31T01:20:18.681647Z",
     "iopub.status.idle": "2023-01-31T01:20:18.687740Z",
     "shell.execute_reply": "2023-01-31T01:20:18.686857Z"
    },
    "papermill": {
     "duration": 0.166104,
     "end_time": "2023-01-31T01:20:18.689841",
     "exception": false,
     "start_time": "2023-01-31T01:20:18.523737",
     "status": "completed"
    },
    "tags": []
   },
   "outputs": [],
   "source": [
    "data.shape"
   ]
  },
  {
   "cell_type": "markdown",
   "id": "0047ab03",
   "metadata": {
    "papermill": {
     "duration": 0.154449,
     "end_time": "2023-01-31T01:20:18.996518",
     "exception": false,
     "start_time": "2023-01-31T01:20:18.842069",
     "status": "completed"
    },
    "tags": []
   },
   "source": [
    "## 🧮 Categorical Variables and Dummy Variables"
   ]
  },
  {
   "cell_type": "code",
   "execution_count": null,
   "id": "b8027985",
   "metadata": {
    "execution": {
     "iopub.execute_input": "2023-01-31T01:20:19.310897Z",
     "iopub.status.busy": "2023-01-31T01:20:19.310344Z",
     "iopub.status.idle": "2023-01-31T01:20:19.317369Z",
     "shell.execute_reply": "2023-01-31T01:20:19.316386Z"
    },
    "papermill": {
     "duration": 0.168624,
     "end_time": "2023-01-31T01:20:19.320332",
     "exception": false,
     "start_time": "2023-01-31T01:20:19.151708",
     "status": "completed"
    },
    "tags": []
   },
   "outputs": [],
   "source": [
    "print([column for column in data.columns if data[column].dtype == object])"
   ]
  },
  {
   "cell_type": "markdown",
   "id": "e5545bc6",
   "metadata": {
    "papermill": {
     "duration": 0.155915,
     "end_time": "2023-01-31T01:20:19.632332",
     "exception": false,
     "start_time": "2023-01-31T01:20:19.476417",
     "status": "completed"
    },
    "tags": []
   },
   "source": [
    "### `term`"
   ]
  },
  {
   "cell_type": "code",
   "execution_count": null,
   "id": "04a87ef3",
   "metadata": {
    "execution": {
     "iopub.execute_input": "2023-01-31T01:20:19.943025Z",
     "iopub.status.busy": "2023-01-31T01:20:19.942502Z",
     "iopub.status.idle": "2023-01-31T01:20:19.972878Z",
     "shell.execute_reply": "2023-01-31T01:20:19.971855Z"
    },
    "papermill": {
     "duration": 0.187955,
     "end_time": "2023-01-31T01:20:19.974930",
     "exception": false,
     "start_time": "2023-01-31T01:20:19.786975",
     "status": "completed"
    },
    "tags": []
   },
   "outputs": [],
   "source": [
    "data.term.unique()"
   ]
  },
  {
   "cell_type": "code",
   "execution_count": null,
   "id": "c19df12f",
   "metadata": {
    "execution": {
     "iopub.execute_input": "2023-01-31T01:20:20.289649Z",
     "iopub.status.busy": "2023-01-31T01:20:20.289267Z",
     "iopub.status.idle": "2023-01-31T01:20:20.367706Z",
     "shell.execute_reply": "2023-01-31T01:20:20.366793Z"
    },
    "papermill": {
     "duration": 0.240848,
     "end_time": "2023-01-31T01:20:20.370031",
     "exception": false,
     "start_time": "2023-01-31T01:20:20.129183",
     "status": "completed"
    },
    "tags": []
   },
   "outputs": [],
   "source": [
    "term_values = {' 36 months': 36, ' 60 months': 60}\n",
    "data['term'] = data.term.map(term_values)"
   ]
  },
  {
   "cell_type": "code",
   "execution_count": null,
   "id": "25fbd89b",
   "metadata": {
    "execution": {
     "iopub.execute_input": "2023-01-31T01:20:20.683503Z",
     "iopub.status.busy": "2023-01-31T01:20:20.683132Z",
     "iopub.status.idle": "2023-01-31T01:20:20.692410Z",
     "shell.execute_reply": "2023-01-31T01:20:20.691444Z"
    },
    "papermill": {
     "duration": 0.167716,
     "end_time": "2023-01-31T01:20:20.694534",
     "exception": false,
     "start_time": "2023-01-31T01:20:20.526818",
     "status": "completed"
    },
    "tags": []
   },
   "outputs": [],
   "source": [
    "data.term.unique()"
   ]
  },
  {
   "cell_type": "markdown",
   "id": "6e13a802",
   "metadata": {
    "papermill": {
     "duration": 0.156477,
     "end_time": "2023-01-31T01:20:21.004762",
     "exception": false,
     "start_time": "2023-01-31T01:20:20.848285",
     "status": "completed"
    },
    "tags": []
   },
   "source": [
    "### `grade` & `sub_grade`\n",
    "\n",
    "We know that `grade` is just a sub feature of `sub_grade`, So we are goinig to drop it."
   ]
  },
  {
   "cell_type": "code",
   "execution_count": null,
   "id": "12bb09d9",
   "metadata": {
    "execution": {
     "iopub.execute_input": "2023-01-31T01:20:21.321451Z",
     "iopub.status.busy": "2023-01-31T01:20:21.320409Z",
     "iopub.status.idle": "2023-01-31T01:20:21.384825Z",
     "shell.execute_reply": "2023-01-31T01:20:21.383814Z"
    },
    "papermill": {
     "duration": 0.223855,
     "end_time": "2023-01-31T01:20:21.387368",
     "exception": false,
     "start_time": "2023-01-31T01:20:21.163513",
     "status": "completed"
    },
    "tags": []
   },
   "outputs": [],
   "source": [
    "data.drop('grade', axis=1, inplace=True)"
   ]
  },
  {
   "cell_type": "code",
   "execution_count": null,
   "id": "883debe9",
   "metadata": {
    "execution": {
     "iopub.execute_input": "2023-01-31T01:20:21.699469Z",
     "iopub.status.busy": "2023-01-31T01:20:21.698275Z",
     "iopub.status.idle": "2023-01-31T01:20:22.042770Z",
     "shell.execute_reply": "2023-01-31T01:20:22.041769Z"
    },
    "papermill": {
     "duration": 0.503107,
     "end_time": "2023-01-31T01:20:22.045400",
     "exception": false,
     "start_time": "2023-01-31T01:20:21.542293",
     "status": "completed"
    },
    "tags": []
   },
   "outputs": [],
   "source": [
    "dummies = ['sub_grade', 'verification_status', 'purpose', 'initial_list_status', \n",
    "           'application_type', 'home_ownership']\n",
    "data = pd.get_dummies(data, columns=dummies, drop_first=True)"
   ]
  },
  {
   "cell_type": "markdown",
   "id": "481171fd",
   "metadata": {
    "papermill": {
     "duration": 0.161805,
     "end_time": "2023-01-31T01:20:22.361873",
     "exception": false,
     "start_time": "2023-01-31T01:20:22.200068",
     "status": "completed"
    },
    "tags": []
   },
   "source": [
    "### `address`\n",
    "We are going to feature engineer a zip code column from the address in the data set. Create a column called 'zip_code' that extracts the zip code from the address column."
   ]
  },
  {
   "cell_type": "code",
   "execution_count": null,
   "id": "c0e191b7",
   "metadata": {
    "execution": {
     "iopub.execute_input": "2023-01-31T01:20:22.691717Z",
     "iopub.status.busy": "2023-01-31T01:20:22.690654Z",
     "iopub.status.idle": "2023-01-31T01:20:22.699667Z",
     "shell.execute_reply": "2023-01-31T01:20:22.697981Z"
    },
    "papermill": {
     "duration": 0.175593,
     "end_time": "2023-01-31T01:20:22.701741",
     "exception": false,
     "start_time": "2023-01-31T01:20:22.526148",
     "status": "completed"
    },
    "tags": []
   },
   "outputs": [],
   "source": [
    "data.address.head()"
   ]
  },
  {
   "cell_type": "code",
   "execution_count": null,
   "id": "fd4dda06",
   "metadata": {
    "execution": {
     "iopub.execute_input": "2023-01-31T01:20:23.020810Z",
     "iopub.status.busy": "2023-01-31T01:20:23.019687Z",
     "iopub.status.idle": "2023-01-31T01:20:23.129138Z",
     "shell.execute_reply": "2023-01-31T01:20:23.128017Z"
    },
    "papermill": {
     "duration": 0.270294,
     "end_time": "2023-01-31T01:20:23.131625",
     "exception": false,
     "start_time": "2023-01-31T01:20:22.861331",
     "status": "completed"
    },
    "tags": []
   },
   "outputs": [],
   "source": [
    "data['zip_code'] = data.address.apply(lambda x: x[-5:])"
   ]
  },
  {
   "cell_type": "code",
   "execution_count": null,
   "id": "bda96764",
   "metadata": {
    "execution": {
     "iopub.execute_input": "2023-01-31T01:20:23.455761Z",
     "iopub.status.busy": "2023-01-31T01:20:23.454772Z",
     "iopub.status.idle": "2023-01-31T01:20:23.491962Z",
     "shell.execute_reply": "2023-01-31T01:20:23.490987Z"
    },
    "papermill": {
     "duration": 0.201341,
     "end_time": "2023-01-31T01:20:23.494132",
     "exception": false,
     "start_time": "2023-01-31T01:20:23.292791",
     "status": "completed"
    },
    "tags": []
   },
   "outputs": [],
   "source": [
    "data.zip_code.value_counts()"
   ]
  },
  {
   "cell_type": "code",
   "execution_count": null,
   "id": "c0f20c5c",
   "metadata": {
    "execution": {
     "iopub.execute_input": "2023-01-31T01:20:23.811576Z",
     "iopub.status.busy": "2023-01-31T01:20:23.811190Z",
     "iopub.status.idle": "2023-01-31T01:20:23.995243Z",
     "shell.execute_reply": "2023-01-31T01:20:23.994265Z"
    },
    "papermill": {
     "duration": 0.347098,
     "end_time": "2023-01-31T01:20:23.997716",
     "exception": false,
     "start_time": "2023-01-31T01:20:23.650618",
     "status": "completed"
    },
    "tags": []
   },
   "outputs": [],
   "source": [
    "data = pd.get_dummies(data, columns=['zip_code'], drop_first=True)"
   ]
  },
  {
   "cell_type": "code",
   "execution_count": null,
   "id": "f8d5cc30",
   "metadata": {
    "execution": {
     "iopub.execute_input": "2023-01-31T01:20:24.315513Z",
     "iopub.status.busy": "2023-01-31T01:20:24.314424Z",
     "iopub.status.idle": "2023-01-31T01:20:24.381628Z",
     "shell.execute_reply": "2023-01-31T01:20:24.380608Z"
    },
    "papermill": {
     "duration": 0.229152,
     "end_time": "2023-01-31T01:20:24.384220",
     "exception": false,
     "start_time": "2023-01-31T01:20:24.155068",
     "status": "completed"
    },
    "tags": []
   },
   "outputs": [],
   "source": [
    "data.drop('address', axis=1, inplace=True)"
   ]
  },
  {
   "cell_type": "markdown",
   "id": "9274da6b",
   "metadata": {
    "papermill": {
     "duration": 0.153793,
     "end_time": "2023-01-31T01:20:24.694395",
     "exception": false,
     "start_time": "2023-01-31T01:20:24.540602",
     "status": "completed"
    },
    "tags": []
   },
   "source": [
    "### `issue_d` \n",
    "\n",
    "This would be data leakage, we wouldn't know beforehand whether or not a loan would be issued when using our model, so in theory we wouldn't have an issue_date, drop this feature."
   ]
  },
  {
   "cell_type": "code",
   "execution_count": null,
   "id": "2359b6e7",
   "metadata": {
    "execution": {
     "iopub.execute_input": "2023-01-31T01:20:25.023467Z",
     "iopub.status.busy": "2023-01-31T01:20:25.023115Z",
     "iopub.status.idle": "2023-01-31T01:20:25.052827Z",
     "shell.execute_reply": "2023-01-31T01:20:25.051946Z"
    },
    "papermill": {
     "duration": 0.205867,
     "end_time": "2023-01-31T01:20:25.054869",
     "exception": false,
     "start_time": "2023-01-31T01:20:24.849002",
     "status": "completed"
    },
    "tags": []
   },
   "outputs": [],
   "source": [
    "data.drop('issue_d', axis=1, inplace=True)"
   ]
  },
  {
   "cell_type": "markdown",
   "id": "25949c0c",
   "metadata": {
    "papermill": {
     "duration": 0.158195,
     "end_time": "2023-01-31T01:20:25.368736",
     "exception": false,
     "start_time": "2023-01-31T01:20:25.210541",
     "status": "completed"
    },
    "tags": []
   },
   "source": [
    "### `earliest_cr_line`\n",
    "This appears to be a historical time stamp feature. Extract the year from this feature using a `.apply()` function, then convert it to a numeric feature."
   ]
  },
  {
   "cell_type": "code",
   "execution_count": null,
   "id": "306b3d59",
   "metadata": {
    "execution": {
     "iopub.execute_input": "2023-01-31T01:20:25.684677Z",
     "iopub.status.busy": "2023-01-31T01:20:25.683783Z",
     "iopub.status.idle": "2023-01-31T01:20:25.727819Z",
     "shell.execute_reply": "2023-01-31T01:20:25.726945Z"
    },
    "papermill": {
     "duration": 0.203174,
     "end_time": "2023-01-31T01:20:25.729822",
     "exception": false,
     "start_time": "2023-01-31T01:20:25.526648",
     "status": "completed"
    },
    "tags": []
   },
   "outputs": [],
   "source": [
    "data['earliest_cr_line'] = data.earliest_cr_line.dt.year"
   ]
  },
  {
   "cell_type": "code",
   "execution_count": null,
   "id": "fa32c57a",
   "metadata": {
    "execution": {
     "iopub.execute_input": "2023-01-31T01:20:26.142289Z",
     "iopub.status.busy": "2023-01-31T01:20:26.141816Z",
     "iopub.status.idle": "2023-01-31T01:20:26.156811Z",
     "shell.execute_reply": "2023-01-31T01:20:26.155892Z"
    },
    "papermill": {
     "duration": 0.270229,
     "end_time": "2023-01-31T01:20:26.159394",
     "exception": false,
     "start_time": "2023-01-31T01:20:25.889165",
     "status": "completed"
    },
    "tags": []
   },
   "outputs": [],
   "source": [
    "data.earliest_cr_line.nunique()"
   ]
  },
  {
   "cell_type": "code",
   "execution_count": null,
   "id": "ce0183f3",
   "metadata": {
    "execution": {
     "iopub.execute_input": "2023-01-31T01:20:26.570075Z",
     "iopub.status.busy": "2023-01-31T01:20:26.569712Z",
     "iopub.status.idle": "2023-01-31T01:20:26.580653Z",
     "shell.execute_reply": "2023-01-31T01:20:26.579665Z"
    },
    "papermill": {
     "duration": 0.199379,
     "end_time": "2023-01-31T01:20:26.582811",
     "exception": false,
     "start_time": "2023-01-31T01:20:26.383432",
     "status": "completed"
    },
    "tags": []
   },
   "outputs": [],
   "source": [
    "data.earliest_cr_line.value_counts()"
   ]
  },
  {
   "cell_type": "code",
   "execution_count": null,
   "id": "26babf54",
   "metadata": {
    "execution": {
     "iopub.execute_input": "2023-01-31T01:20:26.902500Z",
     "iopub.status.busy": "2023-01-31T01:20:26.901472Z",
     "iopub.status.idle": "2023-01-31T01:20:26.906205Z",
     "shell.execute_reply": "2023-01-31T01:20:26.905297Z"
    },
    "papermill": {
     "duration": 0.166697,
     "end_time": "2023-01-31T01:20:26.908209",
     "exception": false,
     "start_time": "2023-01-31T01:20:26.741512",
     "status": "completed"
    },
    "tags": []
   },
   "outputs": [],
   "source": [
    "# data.drop('earliest_cr_line', axis=1, inplace=True)"
   ]
  },
  {
   "cell_type": "markdown",
   "id": "062d7e1d",
   "metadata": {
    "papermill": {
     "duration": 0.160369,
     "end_time": "2023-01-31T01:20:27.226043",
     "exception": false,
     "start_time": "2023-01-31T01:20:27.065674",
     "status": "completed"
    },
    "tags": []
   },
   "source": [
    "## 🔖 Check for duplicates columns & features"
   ]
  },
  {
   "cell_type": "code",
   "execution_count": null,
   "id": "0fdff46f",
   "metadata": {
    "execution": {
     "iopub.execute_input": "2023-01-31T01:20:27.552199Z",
     "iopub.status.busy": "2023-01-31T01:20:27.551716Z",
     "iopub.status.idle": "2023-01-31T01:20:27.556236Z",
     "shell.execute_reply": "2023-01-31T01:20:27.555298Z"
    },
    "papermill": {
     "duration": 0.174715,
     "end_time": "2023-01-31T01:20:27.558930",
     "exception": false,
     "start_time": "2023-01-31T01:20:27.384215",
     "status": "completed"
    },
    "tags": []
   },
   "outputs": [],
   "source": [
    "# print(f\"Data shape: {data.shape}\")\n",
    "\n",
    "# # Remove duplicate Features\n",
    "# data = data.T.drop_duplicates()\n",
    "# data = data.T\n",
    "\n",
    "# # Remove Duplicate Rows\n",
    "# data.drop_duplicates(inplace=True)\n",
    "\n",
    "# print(f\"Data shape: {data.shape}\")"
   ]
  },
  {
   "cell_type": "markdown",
   "id": "d690c582",
   "metadata": {
    "papermill": {
     "duration": 0.160742,
     "end_time": "2023-01-31T01:20:27.883249",
     "exception": false,
     "start_time": "2023-01-31T01:20:27.722507",
     "status": "completed"
    },
    "tags": []
   },
   "source": [
    "## 🔪 Train Test Split"
   ]
  },
  {
   "cell_type": "code",
   "execution_count": null,
   "id": "4410347a",
   "metadata": {
    "execution": {
     "iopub.execute_input": "2023-01-31T01:20:28.209957Z",
     "iopub.status.busy": "2023-01-31T01:20:28.209344Z",
     "iopub.status.idle": "2023-01-31T01:20:28.224704Z",
     "shell.execute_reply": "2023-01-31T01:20:28.223468Z"
    },
    "papermill": {
     "duration": 0.182739,
     "end_time": "2023-01-31T01:20:28.226740",
     "exception": false,
     "start_time": "2023-01-31T01:20:28.044001",
     "status": "completed"
    },
    "tags": []
   },
   "outputs": [],
   "source": [
    "w_p = data.loan_status.value_counts()[0] / data.shape[0]\n",
    "w_n = data.loan_status.value_counts()[1] / data.shape[0]\n",
    "\n",
    "print(f\"Weight of positive values {w_p}\")\n",
    "print(f\"Weight of negative values {w_n}\")"
   ]
  },
  {
   "cell_type": "code",
   "execution_count": null,
   "id": "69eacc7a",
   "metadata": {
    "execution": {
     "iopub.execute_input": "2023-01-31T01:20:28.546626Z",
     "iopub.status.busy": "2023-01-31T01:20:28.546262Z",
     "iopub.status.idle": "2023-01-31T01:20:28.782481Z",
     "shell.execute_reply": "2023-01-31T01:20:28.780895Z"
    },
    "papermill": {
     "duration": 0.398746,
     "end_time": "2023-01-31T01:20:28.784642",
     "exception": false,
     "start_time": "2023-01-31T01:20:28.385896",
     "status": "completed"
    },
    "tags": []
   },
   "outputs": [],
   "source": [
    "train, test = train_test_split(data, test_size=0.33, random_state=42)\n",
    "\n",
    "print(train.shape)\n",
    "print(test.shape)"
   ]
  },
  {
   "cell_type": "markdown",
   "id": "39b33e8f",
   "metadata": {
    "papermill": {
     "duration": 0.156374,
     "end_time": "2023-01-31T01:20:29.095019",
     "exception": false,
     "start_time": "2023-01-31T01:20:28.938645",
     "status": "completed"
    },
    "tags": []
   },
   "source": [
    "# Removing Outliers"
   ]
  },
  {
   "cell_type": "code",
   "execution_count": null,
   "id": "fb9fc5b5",
   "metadata": {
    "execution": {
     "iopub.execute_input": "2023-01-31T01:20:29.411393Z",
     "iopub.status.busy": "2023-01-31T01:20:29.410387Z",
     "iopub.status.idle": "2023-01-31T01:20:29.532610Z",
     "shell.execute_reply": "2023-01-31T01:20:29.530767Z"
    },
    "papermill": {
     "duration": 0.281771,
     "end_time": "2023-01-31T01:20:29.535578",
     "exception": false,
     "start_time": "2023-01-31T01:20:29.253807",
     "status": "completed"
    },
    "tags": []
   },
   "outputs": [],
   "source": [
    "print(train[train['dti'] <= 50].shape)\n",
    "print(train.shape)"
   ]
  },
  {
   "cell_type": "code",
   "execution_count": null,
   "id": "9f420cbd",
   "metadata": {
    "execution": {
     "iopub.execute_input": "2023-01-31T01:20:29.854961Z",
     "iopub.status.busy": "2023-01-31T01:20:29.854029Z",
     "iopub.status.idle": "2023-01-31T01:20:30.475296Z",
     "shell.execute_reply": "2023-01-31T01:20:30.474248Z"
    },
    "papermill": {
     "duration": 0.785691,
     "end_time": "2023-01-31T01:20:30.477593",
     "exception": false,
     "start_time": "2023-01-31T01:20:29.691902",
     "status": "completed"
    },
    "tags": []
   },
   "outputs": [],
   "source": [
    "print(train.shape)\n",
    "train = train[train['annual_inc'] <= 250000]\n",
    "train = train[train['dti'] <= 50]\n",
    "train = train[train['open_acc'] <= 40]\n",
    "train = train[train['total_acc'] <= 80]\n",
    "train = train[train['revol_util'] <= 120]\n",
    "train = train[train['revol_bal'] <= 250000]\n",
    "print(train.shape)"
   ]
  },
  {
   "cell_type": "markdown",
   "id": "38a2f316",
   "metadata": {
    "papermill": {
     "duration": 0.153989,
     "end_time": "2023-01-31T01:20:30.788459",
     "exception": false,
     "start_time": "2023-01-31T01:20:30.634470",
     "status": "completed"
    },
    "tags": []
   },
   "source": [
    "## 📏 Normalizing the data"
   ]
  },
  {
   "cell_type": "code",
   "execution_count": null,
   "id": "d5c5e20b",
   "metadata": {
    "execution": {
     "iopub.execute_input": "2023-01-31T01:20:31.102650Z",
     "iopub.status.busy": "2023-01-31T01:20:31.102294Z",
     "iopub.status.idle": "2023-01-31T01:20:31.159957Z",
     "shell.execute_reply": "2023-01-31T01:20:31.158965Z"
    },
    "papermill": {
     "duration": 0.219571,
     "end_time": "2023-01-31T01:20:31.162802",
     "exception": false,
     "start_time": "2023-01-31T01:20:30.943231",
     "status": "completed"
    },
    "tags": []
   },
   "outputs": [],
   "source": [
    "X_train, y_train = train.drop('loan_status', axis=1), train.loan_status\n",
    "X_test, y_test = test.drop('loan_status', axis=1), test.loan_status"
   ]
  },
  {
   "cell_type": "code",
   "execution_count": null,
   "id": "aa67edc9",
   "metadata": {
    "execution": {
     "iopub.execute_input": "2023-01-31T01:20:31.480030Z",
     "iopub.status.busy": "2023-01-31T01:20:31.479013Z",
     "iopub.status.idle": "2023-01-31T01:20:31.487629Z",
     "shell.execute_reply": "2023-01-31T01:20:31.486657Z"
    },
    "papermill": {
     "duration": 0.168504,
     "end_time": "2023-01-31T01:20:31.489691",
     "exception": false,
     "start_time": "2023-01-31T01:20:31.321187",
     "status": "completed"
    },
    "tags": []
   },
   "outputs": [],
   "source": [
    "X_train.dtypes"
   ]
  },
  {
   "cell_type": "code",
   "execution_count": null,
   "id": "f35e347a",
   "metadata": {
    "execution": {
     "iopub.execute_input": "2023-01-31T01:20:31.805347Z",
     "iopub.status.busy": "2023-01-31T01:20:31.803338Z",
     "iopub.status.idle": "2023-01-31T01:20:32.103965Z",
     "shell.execute_reply": "2023-01-31T01:20:32.102972Z"
    },
    "papermill": {
     "duration": 0.461164,
     "end_time": "2023-01-31T01:20:32.106617",
     "exception": false,
     "start_time": "2023-01-31T01:20:31.645453",
     "status": "completed"
    },
    "tags": []
   },
   "outputs": [],
   "source": [
    "scaler = MinMaxScaler()\n",
    "X_train = scaler.fit_transform(X_train)\n",
    "X_test = scaler.transform(X_test)"
   ]
  },
  {
   "cell_type": "markdown",
   "id": "4a1f8624",
   "metadata": {
    "papermill": {
     "duration": 0.157885,
     "end_time": "2023-01-31T01:20:32.419851",
     "exception": false,
     "start_time": "2023-01-31T01:20:32.261966",
     "status": "completed"
    },
    "tags": []
   },
   "source": [
    "# 🤖 Models Building"
   ]
  },
  {
   "cell_type": "code",
   "execution_count": null,
   "id": "3acb90da",
   "metadata": {
    "execution": {
     "iopub.execute_input": "2023-01-31T01:20:32.751313Z",
     "iopub.status.busy": "2023-01-31T01:20:32.750960Z",
     "iopub.status.idle": "2023-01-31T01:20:32.758206Z",
     "shell.execute_reply": "2023-01-31T01:20:32.757062Z"
    },
    "papermill": {
     "duration": 0.173638,
     "end_time": "2023-01-31T01:20:32.760354",
     "exception": false,
     "start_time": "2023-01-31T01:20:32.586716",
     "status": "completed"
    },
    "tags": []
   },
   "outputs": [],
   "source": [
    "def print_score(true, pred, train=True):\n",
    "    if train:\n",
    "        clf_report = pd.DataFrame(classification_report(true, pred, output_dict=True))\n",
    "        print(\"Train Result:\\n================================================\")\n",
    "        print(f\"Accuracy Score: {accuracy_score(true, pred) * 100:.2f}%\")\n",
    "        print(\"_______________________________________________\")\n",
    "        print(f\"CLASSIFICATION REPORT:\\n{clf_report}\")\n",
    "        print(\"_______________________________________________\")\n",
    "        print(f\"Confusion Matrix: \\n {confusion_matrix(true, pred)}\\n\")\n",
    "        \n",
    "    elif train==False:\n",
    "        clf_report = pd.DataFrame(classification_report(true, pred, output_dict=True))\n",
    "        print(\"Test Result:\\n================================================\")        \n",
    "        print(f\"Accuracy Score: {accuracy_score(true, pred) * 100:.2f}%\")\n",
    "        print(\"_______________________________________________\")\n",
    "        print(f\"CLASSIFICATION REPORT:\\n{clf_report}\")\n",
    "        print(\"_______________________________________________\")\n",
    "        print(f\"Confusion Matrix: \\n {confusion_matrix(true, pred)}\\n\")"
   ]
  },
  {
   "cell_type": "code",
   "execution_count": null,
   "id": "87595496",
   "metadata": {
    "execution": {
     "iopub.execute_input": "2023-01-31T01:20:33.094368Z",
     "iopub.status.busy": "2023-01-31T01:20:33.093297Z",
     "iopub.status.idle": "2023-01-31T01:20:33.248968Z",
     "shell.execute_reply": "2023-01-31T01:20:33.247979Z"
    },
    "papermill": {
     "duration": 0.326208,
     "end_time": "2023-01-31T01:20:33.251650",
     "exception": false,
     "start_time": "2023-01-31T01:20:32.925442",
     "status": "completed"
    },
    "tags": []
   },
   "outputs": [],
   "source": [
    "X_train = np.array(X_train).astype(np.float32)\n",
    "X_test = np.array(X_test).astype(np.float32)\n",
    "y_train = np.array(y_train).astype(np.float32)\n",
    "y_test = np.array(y_test).astype(np.float32)"
   ]
  },
  {
   "cell_type": "markdown",
   "id": "75b6f215",
   "metadata": {
    "papermill": {
     "duration": 0.158161,
     "end_time": "2023-01-31T01:20:33.573860",
     "exception": false,
     "start_time": "2023-01-31T01:20:33.415699",
     "status": "completed"
    },
    "tags": []
   },
   "source": [
    "# ✔️ Artificial Neural Networks (ANNs)"
   ]
  },
  {
   "cell_type": "code",
   "execution_count": null,
   "id": "a5fdd404",
   "metadata": {
    "execution": {
     "iopub.execute_input": "2023-01-31T01:20:33.886902Z",
     "iopub.status.busy": "2023-01-31T01:20:33.886535Z",
     "iopub.status.idle": "2023-01-31T01:20:33.899059Z",
     "shell.execute_reply": "2023-01-31T01:20:33.898167Z"
    },
    "papermill": {
     "duration": 0.170893,
     "end_time": "2023-01-31T01:20:33.901132",
     "exception": false,
     "start_time": "2023-01-31T01:20:33.730239",
     "status": "completed"
    },
    "tags": []
   },
   "outputs": [],
   "source": [
    "def evaluate_nn(true, pred, train=True):\n",
    "    if train:\n",
    "        clf_report = pd.DataFrame(classification_report(true, pred, output_dict=True))\n",
    "        print(\"Train Result:\\n================================================\")\n",
    "        print(f\"Accuracy Score: {accuracy_score(true, pred) * 100:.2f}%\")\n",
    "        print(\"_______________________________________________\")\n",
    "        print(f\"CLASSIFICATION REPORT:\\n{clf_report}\")\n",
    "        print(\"_______________________________________________\")\n",
    "        print(f\"Confusion Matrix: \\n {confusion_matrix(true, pred)}\\n\")\n",
    "        \n",
    "    elif train==False:\n",
    "        clf_report = pd.DataFrame(classification_report(true, pred, output_dict=True))\n",
    "        print(\"Test Result:\\n================================================\")        \n",
    "        print(f\"Accuracy Score: {accuracy_score(true, pred) * 100:.2f}%\")\n",
    "        print(\"_______________________________________________\")\n",
    "        print(f\"CLASSIFICATION REPORT:\\n{clf_report}\")\n",
    "        print(\"_______________________________________________\")\n",
    "        print(f\"Confusion Matrix: \\n {confusion_matrix(true, pred)}\\n\")\n",
    "        \n",
    "def plot_learning_evolution(r):\n",
    "    plt.figure(figsize=(12, 8))\n",
    "    \n",
    "    plt.subplot(2, 2, 1)\n",
    "    plt.plot(r.history['loss'], label='Loss')\n",
    "    plt.plot(r.history['val_loss'], label='val_Loss')\n",
    "    plt.title('Loss evolution during trainig')\n",
    "    plt.legend()\n",
    "\n",
    "    plt.subplot(2, 2, 2)\n",
    "    plt.plot(r.history['AUC'], label='AUC')\n",
    "    plt.plot(r.history['val_AUC'], label='val_AUC')\n",
    "    plt.title('AUC score evolution during trainig')\n",
    "    plt.legend();\n",
    "\n",
    "def nn_model(num_columns, num_labels, hidden_units, dropout_rates, learning_rate):\n",
    "    inp = tf.keras.layers.Input(shape=(num_columns, ))\n",
    "    x = BatchNormalization()(inp)\n",
    "    x = Dropout(dropout_rates[0])(x)\n",
    "    for i in range(len(hidden_units)):\n",
    "        x = Dense(hidden_units[i], activation='relu')(x)\n",
    "        x = BatchNormalization()(x)\n",
    "        x = Dropout(dropout_rates[i + 1])(x)\n",
    "    x = Dense(num_labels, activation='sigmoid')(x)\n",
    "  \n",
    "    model = Model(inputs=inp, outputs=x)\n",
    "    model.compile(optimizer=Adam(learning_rate), loss='binary_crossentropy', metrics=[AUC(name='AUC')])\n",
    "    return model"
   ]
  },
  {
   "cell_type": "code",
   "execution_count": null,
   "id": "3ab85800",
   "metadata": {
    "_kg_hide-output": true,
    "execution": {
     "iopub.execute_input": "2023-01-31T01:20:34.215669Z",
     "iopub.status.busy": "2023-01-31T01:20:34.214634Z",
     "iopub.status.idle": "2023-01-31T01:37:07.580345Z",
     "shell.execute_reply": "2023-01-31T01:37:07.579166Z"
    },
    "papermill": {
     "duration": 993.527456,
     "end_time": "2023-01-31T01:37:07.583118",
     "exception": false,
     "start_time": "2023-01-31T01:20:34.055662",
     "status": "completed"
    },
    "tags": []
   },
   "outputs": [],
   "source": [
    "num_columns = X_train.shape[1]\n",
    "num_labels = 1\n",
    "hidden_units = [150, 150, 150]\n",
    "dropout_rates = [0.1, 0, 0.1, 0]\n",
    "learning_rate = 1e-3\n",
    "\n",
    "\n",
    "model = nn_model(\n",
    "    num_columns=num_columns, \n",
    "    num_labels=num_labels,\n",
    "    hidden_units=hidden_units,\n",
    "    dropout_rates=dropout_rates,\n",
    "    learning_rate=learning_rate\n",
    ")\n",
    "r = model.fit(\n",
    "    X_train, y_train,\n",
    "    validation_data=(X_test, y_test),\n",
    "    epochs=20,\n",
    "    batch_size=32\n",
    ")"
   ]
  },
  {
   "cell_type": "code",
   "execution_count": null,
   "id": "e16be6aa",
   "metadata": {
    "execution": {
     "iopub.execute_input": "2023-01-31T01:37:09.608361Z",
     "iopub.status.busy": "2023-01-31T01:37:09.607373Z",
     "iopub.status.idle": "2023-01-31T01:37:09.927467Z",
     "shell.execute_reply": "2023-01-31T01:37:09.926477Z"
    },
    "papermill": {
     "duration": 1.3601,
     "end_time": "2023-01-31T01:37:09.930180",
     "exception": false,
     "start_time": "2023-01-31T01:37:08.570080",
     "status": "completed"
    },
    "tags": []
   },
   "outputs": [],
   "source": [
    "plot_learning_evolution(r)"
   ]
  },
  {
   "cell_type": "code",
   "execution_count": null,
   "id": "fabd65f2",
   "metadata": {
    "execution": {
     "iopub.execute_input": "2023-01-31T01:37:11.957807Z",
     "iopub.status.busy": "2023-01-31T01:37:11.957442Z",
     "iopub.status.idle": "2023-01-31T01:37:21.205832Z",
     "shell.execute_reply": "2023-01-31T01:37:21.204610Z"
    },
    "papermill": {
     "duration": 10.276541,
     "end_time": "2023-01-31T01:37:21.208410",
     "exception": false,
     "start_time": "2023-01-31T01:37:10.931869",
     "status": "completed"
    },
    "tags": []
   },
   "outputs": [],
   "source": [
    "y_train_pred = model.predict(X_train)\n",
    "evaluate_nn(y_train, y_train_pred.round(), train=True)"
   ]
  },
  {
   "cell_type": "code",
   "execution_count": null,
   "id": "87c61ba5",
   "metadata": {
    "execution": {
     "iopub.execute_input": "2023-01-31T01:37:23.228821Z",
     "iopub.status.busy": "2023-01-31T01:37:23.228455Z",
     "iopub.status.idle": "2023-01-31T01:37:28.831050Z",
     "shell.execute_reply": "2023-01-31T01:37:28.829702Z"
    },
    "papermill": {
     "duration": 6.604847,
     "end_time": "2023-01-31T01:37:28.834414",
     "exception": false,
     "start_time": "2023-01-31T01:37:22.229567",
     "status": "completed"
    },
    "tags": []
   },
   "outputs": [],
   "source": [
    "y_test_pred = model.predict(X_test)\n",
    "evaluate_nn(y_test, y_test_pred.round(), train=False)"
   ]
  },
  {
   "cell_type": "code",
   "execution_count": null,
   "id": "60f7f7ff",
   "metadata": {
    "execution": {
     "iopub.execute_input": "2023-01-31T01:37:31.094099Z",
     "iopub.status.busy": "2023-01-31T01:37:31.093729Z",
     "iopub.status.idle": "2023-01-31T01:37:45.077012Z",
     "shell.execute_reply": "2023-01-31T01:37:45.075970Z"
    },
    "papermill": {
     "duration": 15.002285,
     "end_time": "2023-01-31T01:37:45.079564",
     "exception": false,
     "start_time": "2023-01-31T01:37:30.077279",
     "status": "completed"
    },
    "tags": []
   },
   "outputs": [],
   "source": [
    "scores_dict = {\n",
    "    'ANNs': {\n",
    "        'Train': roc_auc_score(y_train, model.predict(X_train)),\n",
    "        'Test': roc_auc_score(y_test, model.predict(X_test)),\n",
    "    },\n",
    "}"
   ]
  },
  {
   "cell_type": "markdown",
   "id": "1af355e9",
   "metadata": {
    "papermill": {
     "duration": 1.016138,
     "end_time": "2023-01-31T01:37:47.072967",
     "exception": false,
     "start_time": "2023-01-31T01:37:46.056829",
     "status": "completed"
    },
    "tags": []
   },
   "source": [
    "# ✔️ XGBoost Classifier"
   ]
  },
  {
   "cell_type": "code",
   "execution_count": null,
   "id": "93afe7c2",
   "metadata": {
    "execution": {
     "iopub.execute_input": "2023-01-31T01:37:49.057704Z",
     "iopub.status.busy": "2023-01-31T01:37:49.057327Z",
     "iopub.status.idle": "2023-01-31T01:39:14.774594Z",
     "shell.execute_reply": "2023-01-31T01:39:14.773162Z"
    },
    "papermill": {
     "duration": 86.683715,
     "end_time": "2023-01-31T01:39:14.776775",
     "exception": false,
     "start_time": "2023-01-31T01:37:48.093060",
     "status": "completed"
    },
    "tags": []
   },
   "outputs": [],
   "source": [
    "# param_grid = dict(\n",
    "#     n_estimators=stats.randint(10, 500),\n",
    "#     max_depth=stats.randint(1, 10),\n",
    "#     learning_rate=stats.uniform(0, 1)\n",
    "# )\n",
    "\n",
    "xgb_clf = XGBClassifier(use_label_encoder=False)\n",
    "# xgb_cv = RandomizedSearchCV(\n",
    "#     xgb_clf, param_grid, cv=3, n_iter=60, \n",
    "#     scoring='roc_auc', n_jobs=-1, verbose=1\n",
    "# )\n",
    "# xgb_cv.fit(X_train, y_train)\n",
    "\n",
    "# best_params = xgb_cv.best_params_\n",
    "# best_params['tree_method'] = 'gpu_hist'\n",
    "# # best_params = {'n_estimators': 50, 'tree_method': 'gpu_hist'}\n",
    "# print(f\"Best Parameters: {best_params}\")\n",
    "\n",
    "# xgb_clf = XGBClassifier(**best_params)\n",
    "xgb_clf.fit(X_train, y_train)\n",
    "\n",
    "y_train_pred = xgb_clf.predict(X_train)\n",
    "y_test_pred = xgb_clf.predict(X_test)\n",
    "\n",
    "print_score(y_train, y_train_pred, train=True)\n",
    "print_score(y_test, y_test_pred, train=False)"
   ]
  },
  {
   "cell_type": "code",
   "execution_count": null,
   "id": "0d95160d",
   "metadata": {
    "execution": {
     "iopub.execute_input": "2023-01-31T01:39:16.847575Z",
     "iopub.status.busy": "2023-01-31T01:39:16.847214Z",
     "iopub.status.idle": "2023-01-31T01:39:18.207790Z",
     "shell.execute_reply": "2023-01-31T01:39:18.206680Z"
    },
    "papermill": {
     "duration": 2.410541,
     "end_time": "2023-01-31T01:39:18.209746",
     "exception": false,
     "start_time": "2023-01-31T01:39:15.799205",
     "status": "completed"
    },
    "tags": []
   },
   "outputs": [],
   "source": [
    "disp = plot_confusion_matrix(\n",
    "    xgb_clf, X_test, y_test, \n",
    "    cmap='Blues', values_format='d', \n",
    "    display_labels=['Default', 'Fully-Paid']\n",
    ")\n",
    "\n",
    "disp = plot_roc_curve(xgb_clf, X_test, y_test)"
   ]
  },
  {
   "cell_type": "code",
   "execution_count": null,
   "id": "64bd5141",
   "metadata": {
    "execution": {
     "iopub.execute_input": "2023-01-31T01:39:20.439329Z",
     "iopub.status.busy": "2023-01-31T01:39:20.438952Z",
     "iopub.status.idle": "2023-01-31T01:39:21.438933Z",
     "shell.execute_reply": "2023-01-31T01:39:21.437970Z"
    },
    "papermill": {
     "duration": 2.100516,
     "end_time": "2023-01-31T01:39:21.441590",
     "exception": false,
     "start_time": "2023-01-31T01:39:19.341074",
     "status": "completed"
    },
    "tags": []
   },
   "outputs": [],
   "source": [
    "scores_dict['XGBoost'] = {\n",
    "        'Train': roc_auc_score(y_train, xgb_clf.predict(X_train)),\n",
    "        'Test': roc_auc_score(y_test, xgb_clf.predict(X_test)),\n",
    "    }"
   ]
  },
  {
   "cell_type": "markdown",
   "id": "a7abcfcb",
   "metadata": {
    "papermill": {
     "duration": 1.015683,
     "end_time": "2023-01-31T01:39:23.450993",
     "exception": false,
     "start_time": "2023-01-31T01:39:22.435310",
     "status": "completed"
    },
    "tags": []
   },
   "source": [
    "# ✔️ Random Forest Classifier"
   ]
  },
  {
   "cell_type": "code",
   "execution_count": null,
   "id": "1f234fad",
   "metadata": {
    "execution": {
     "iopub.execute_input": "2023-01-31T01:39:25.463771Z",
     "iopub.status.busy": "2023-01-31T01:39:25.463402Z",
     "iopub.status.idle": "2023-01-31T01:40:46.344600Z",
     "shell.execute_reply": "2023-01-31T01:40:46.343600Z"
    },
    "papermill": {
     "duration": 82.536568,
     "end_time": "2023-01-31T01:40:47.009960",
     "exception": false,
     "start_time": "2023-01-31T01:39:24.473392",
     "status": "completed"
    },
    "tags": []
   },
   "outputs": [],
   "source": [
    "# param_grid = dict(\n",
    "#     n_estimators=stats.randint(100, 1500),\n",
    "#     max_depth=stats.randint(10, 100),\n",
    "#     min_samples_split=stats.randint(1, 10),\n",
    "#     min_samples_leaf=stats.randint(1, 10),\n",
    "# )\n",
    "\n",
    "rf_clf = RandomForestClassifier(n_estimators=100)\n",
    "# rf_cv = RandomizedSearchCV(\n",
    "#     rf_clf, param_grid, cv=3, n_iter=60, \n",
    "#     scoring='roc_auc', n_jobs=-1, verbose=1\n",
    "# )\n",
    "# rf_cv.fit(X_train, y_train)\n",
    "# best_params = rf_cv.best_params_\n",
    "# print(f\"Best Parameters: {best_params}\")\n",
    "# rf_clf = RandomForestClassifier(**best_params)\n",
    "rf_clf.fit(X_train, y_train)\n",
    "\n",
    "y_train_pred = rf_clf.predict(X_train)\n",
    "y_test_pred = rf_clf.predict(X_test)\n",
    "\n",
    "print_score(y_train, y_train_pred, train=True)\n",
    "print_score(y_test, y_test_pred, train=False)"
   ]
  },
  {
   "cell_type": "code",
   "execution_count": null,
   "id": "9704dd38",
   "metadata": {
    "execution": {
     "iopub.execute_input": "2023-01-31T01:40:49.174457Z",
     "iopub.status.busy": "2023-01-31T01:40:49.174085Z",
     "iopub.status.idle": "2023-01-31T01:40:58.143975Z",
     "shell.execute_reply": "2023-01-31T01:40:58.142985Z"
    },
    "papermill": {
     "duration": 9.97157,
     "end_time": "2023-01-31T01:40:58.147119",
     "exception": false,
     "start_time": "2023-01-31T01:40:48.175549",
     "status": "completed"
    },
    "tags": []
   },
   "outputs": [],
   "source": [
    "disp = plot_confusion_matrix(rf_clf, X_test, y_test, \n",
    "                             cmap='Blues', values_format='d', \n",
    "                             display_labels=['Default', 'Fully-Paid'])\n",
    "\n",
    "disp = plot_roc_curve(xgb_clf, X_test, y_test)\n",
    "plot_roc_curve(rf_clf, X_test, y_test, ax=disp.ax_)"
   ]
  },
  {
   "cell_type": "code",
   "execution_count": null,
   "id": "9ac0895f",
   "metadata": {
    "execution": {
     "iopub.execute_input": "2023-01-31T01:41:00.342791Z",
     "iopub.status.busy": "2023-01-31T01:41:00.341802Z",
     "iopub.status.idle": "2023-01-31T01:41:12.789975Z",
     "shell.execute_reply": "2023-01-31T01:41:12.788927Z"
    },
    "papermill": {
     "duration": 13.478471,
     "end_time": "2023-01-31T01:41:12.792509",
     "exception": false,
     "start_time": "2023-01-31T01:40:59.314038",
     "status": "completed"
    },
    "tags": []
   },
   "outputs": [],
   "source": [
    "scores_dict['Random Forest'] = {\n",
    "        'Train': roc_auc_score(y_train, rf_clf.predict(X_train)),\n",
    "        'Test': roc_auc_score(y_test, rf_clf.predict(X_test)),\n",
    "    }"
   ]
  },
  {
   "cell_type": "markdown",
   "id": "3612f15e",
   "metadata": {
    "papermill": {
     "duration": 1.316226,
     "end_time": "2023-01-31T01:41:15.097275",
     "exception": false,
     "start_time": "2023-01-31T01:41:13.781049",
     "status": "completed"
    },
    "tags": []
   },
   "source": [
    "# 📊 Comparing Models Prerformance"
   ]
  },
  {
   "cell_type": "code",
   "execution_count": null,
   "id": "b40e3e6f",
   "metadata": {
    "_kg_hide-input": true,
    "execution": {
     "iopub.execute_input": "2023-01-31T01:41:17.356180Z",
     "iopub.status.busy": "2023-01-31T01:41:17.355795Z",
     "iopub.status.idle": "2023-01-31T01:41:27.889581Z",
     "shell.execute_reply": "2023-01-31T01:41:27.888313Z"
    },
    "papermill": {
     "duration": 11.56623,
     "end_time": "2023-01-31T01:41:27.892471",
     "exception": false,
     "start_time": "2023-01-31T01:41:16.326241",
     "status": "completed"
    },
    "tags": []
   },
   "outputs": [],
   "source": [
    "ml_models = {\n",
    "    'Random Forest': rf_clf, \n",
    "    'XGBoost': xgb_clf, \n",
    "    'ANNs': model\n",
    "}\n",
    "\n",
    "for model in ml_models:\n",
    "    print(f\"{model.upper():{30}} roc_auc_score: {roc_auc_score(y_test, ml_models[model].predict(X_test)):.3f}\")"
   ]
  },
  {
   "cell_type": "code",
   "execution_count": null,
   "id": "77377736",
   "metadata": {
    "_kg_hide-input": true,
    "execution": {
     "iopub.execute_input": "2023-01-31T01:41:29.887985Z",
     "iopub.status.busy": "2023-01-31T01:41:29.887609Z",
     "iopub.status.idle": "2023-01-31T01:41:30.043817Z",
     "shell.execute_reply": "2023-01-31T01:41:30.042816Z"
    },
    "papermill": {
     "duration": 1.179043,
     "end_time": "2023-01-31T01:41:30.046152",
     "exception": false,
     "start_time": "2023-01-31T01:41:28.867109",
     "status": "completed"
    },
    "tags": []
   },
   "outputs": [],
   "source": [
    "scores_df = pd.DataFrame(scores_dict)\n",
    "scores_df.hvplot.barh(\n",
    "    width=500, height=400, \n",
    "    title=\"ROC Scores of ML Models\", xlabel=\"ROC Scores\", \n",
    "    alpha=0.4, legend='top'\n",
    ")"
   ]
  }
 ],
 "metadata": {
  "kernelspec": {
   "display_name": "Python 3 (ipykernel)",
   "language": "python",
   "name": "python3"
  },
  "language_info": {
   "codemirror_mode": {
    "name": "ipython",
    "version": 3
   },
   "file_extension": ".py",
   "mimetype": "text/x-python",
   "name": "python",
   "nbconvert_exporter": "python",
   "pygments_lexer": "ipython3",
   "version": "3.8.0"
  },
  "papermill": {
   "default_parameters": {},
   "duration": 1377.65133,
   "end_time": "2023-01-31T01:41:34.154546",
   "environment_variables": {},
   "exception": null,
   "input_path": "__notebook__.ipynb",
   "output_path": "__notebook__.ipynb",
   "parameters": {},
   "start_time": "2023-01-31T01:18:36.503216",
   "version": "2.3.4"
  }
 },
 "nbformat": 4,
 "nbformat_minor": 5
}
