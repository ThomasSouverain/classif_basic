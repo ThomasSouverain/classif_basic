{
 "cells": [
  {
   "cell_type": "code",
   "execution_count": null,
   "id": "5582cf02",
   "metadata": {},
   "outputs": [],
   "source": [
    "%load_ext autoreload\n",
    "%autoreload 2\n",
    "\n",
    "import warnings\n",
    "warnings.filterwarnings('ignore')"
   ]
  },
  {
   "cell_type": "markdown",
   "id": "df58dd94",
   "metadata": {},
   "source": [
    "# Discrimination detection and mitigation (on housing nights multiclass dataset)"
   ]
  },
  {
   "cell_type": "markdown",
   "id": "1ab03693",
   "metadata": {},
   "source": [
    "## Train a model regardless of fairness"
   ]
  },
  {
   "cell_type": "code",
   "execution_count": null,
   "id": "070769f9",
   "metadata": {},
   "outputs": [],
   "source": [
    "from fairdream.data_preparation import *\n",
    "from fairdream.compute_scores import *\n",
    "from fairdream.detection import *\n",
    "from fairdream.correction import *\n",
    "from fairdream.plots import *\n",
    "\n",
    "from fairdream.multiclass_fair_preparation import *"
   ]
  },
  {
   "cell_type": "code",
   "execution_count": null,
   "id": "1b24ebdf",
   "metadata": {},
   "outputs": [],
   "source": [
    "# set your statistics purposes\n",
    "model_task = 'multiclass'\n",
    "stat_criteria = 'merror'"
   ]
  },
  {
   "cell_type": "markdown",
   "id": "142aa046",
   "metadata": {},
   "source": [
    "### Bring your own model"
   ]
  },
  {
   "cell_type": "markdown",
   "id": "801275da",
   "metadata": {},
   "source": [
    "If you want to bring your own model, you have to set 3 features:\n",
    "\n",
    "1. uncorrected_model_path\n",
    "Save your model in uncorrected_model_path, for fairness analysis on relevant features\n",
    "Ex: uncorrected_model_path = \"/work/data/models/uncorrected_model.pkl\"\n",
    "\n",
    "2. X_train_valid, multi_Y_train_valid\n",
    "pd.DataFrame with your inputs and targets on train&valid set, of shape(nb_individuals, nb_labels)\n",
    "\n",
    "3. multi_predict_proba_train_valid\n",
    "np.ndarray with the predicted probas by label (i.e. by class), of shape(nb_individuals, nb_labels)"
   ]
  },
  {
   "cell_type": "markdown",
   "id": "8fdddb27",
   "metadata": {},
   "source": [
    "### Automatically train a model statistically performant, regardless of fairness"
   ]
  },
  {
   "cell_type": "markdown",
   "id": "ade3ac23",
   "metadata": {},
   "source": [
    "#### Pre-processing"
   ]
  },
  {
   "cell_type": "code",
   "execution_count": null,
   "id": "c5a5cd01",
   "metadata": {},
   "outputs": [],
   "source": [
    "# load train and test sets\n",
    "train_set = automatic_preprocessing(\"housing_nights_dataset\")"
   ]
  },
  {
   "cell_type": "code",
   "execution_count": null,
   "id": "88b9970d",
   "metadata": {},
   "outputs": [],
   "source": [
    "train_set"
   ]
  },
  {
   "cell_type": "markdown",
   "id": "be0f0400",
   "metadata": {},
   "source": [
    "#### Multiclass model training "
   ]
  },
  {
   "cell_type": "code",
   "execution_count": null,
   "id": "1818d901",
   "metadata": {},
   "outputs": [],
   "source": [
    "# entraînement du modèle avec ce nouveau dataset \n",
    "# split data into X and y\n",
    "X = train_set.loc[:, train_set.columns != 'granted_number_of_nights']\n",
    "Y = train_set.loc[:,'granted_number_of_nights']"
   ]
  },
  {
   "cell_type": "code",
   "execution_count": null,
   "id": "db89ce4b",
   "metadata": {},
   "outputs": [],
   "source": [
    "X_train, X_valid, X_train_valid, X_test, multi_Y_train, multi_Y_valid, multi_Y_train_valid, multi_Y_test = train_valid_test_split(X,Y, model_task)"
   ]
  },
  {
   "cell_type": "code",
   "execution_count": null,
   "id": "cb596469",
   "metadata": {},
   "outputs": [],
   "source": [
    "# save the uncorrected model, to then sort its features by importances\n",
    "save_model=True\n",
    "uncorrected_model_path = \"/work/data/models/uncorrected_model.pkl\"\n",
    "\n",
    "multi_predict_proba_train_valid = train_naive_xgb(X_train, X_valid, X_train_valid, X_test, multi_Y_train, multi_Y_valid, multi_Y_train_valid, multi_Y_test, model_task, stat_criteria, save_model=save_model)"
   ]
  },
  {
   "cell_type": "markdown",
   "id": "0acfd93e",
   "metadata": {},
   "source": [
    "### Set multiclass to binary, to check discrimination of \"better-off\" vs \"less fortunate\" individuals"
   ]
  },
  {
   "cell_type": "markdown",
   "id": "74ba4d0b",
   "metadata": {},
   "source": [
    "--- DOCUMENTATION ---\n",
    "    \n",
    "    --- Optional parameters for model_task == \"multiclass\" ---\n",
    "\n",
    "    When model_task == \"multiclass\", the fairness is evaluated like in binary classification \n",
    "    (!) valid only when Y labels are independant.\n",
    "    \n",
    "-- To transform multiclass into 2 classes, the user ranks the labels by ascending order --\n",
    "   \n",
    "1. sorted_labels_list\n",
    "\n",
    "When model_task == \"multiclass\", list of labels with the desired ascending ranking of the user.\n",
    "        Ex: when labels are number of housing nights and the user wants to maximise it,\n",
    "        sorted_labels_list = [0,1,2,3] \n",
    "        \n",
    "-- Then to separate individuals in binary classes, one has 2 choices --\n",
    "\n",
    "2. frontier_label\n",
    "\n",
    "To set manually the 'frontier_label' (ex: one chooses that individuals > label \"2\" nights are privileged)\n",
    "\n",
    "2. distribution_frontier\n",
    "\n",
    "\n",
    "To set a % of individuals distribution, i.e. 'distribution_frontier' (median \"median\", quartiles \"Q1\" or \"Q3\") which will automatically determine the 'frontier_label'"
   ]
  },
  {
   "cell_type": "code",
   "execution_count": null,
   "id": "5123b268",
   "metadata": {},
   "outputs": [],
   "source": [
    "# add a vector with predicted labels \n",
    "multi_Y_pred_train_valid = multi_predict_proba_train_valid.argmax(axis=-1)\n",
    "\n",
    "sorted_labels_list = [0,1,2,3] \n",
    "\n",
    "# the user chooses, either a frontier_label or distribution_frontier (to be better documented in fair_detection)\n",
    "frontier_label = 1\n",
    "\n",
    "# or: distribution_frontier = 'Q3'\n",
    "\n",
    "Y_train_valid, Y_pred_train_valid = multi_to_binary_Y_pred(multi_Y_train_valid, multi_Y_pred_train_valid, sorted_labels_list, frontier_label=frontier_label)"
   ]
  },
  {
   "cell_type": "markdown",
   "id": "4fac855c",
   "metadata": {},
   "source": [
    "## Discrimination detection "
   ]
  },
  {
   "cell_type": "code",
   "execution_count": null,
   "id": "806f6aec",
   "metadata": {},
   "outputs": [],
   "source": [
    "augment_train_valid_set_with_results(\"uncorrected\", X_train_valid, Y_train_valid, Y_pred_train_valid, model_task, multi_Y_train_valid, multi_predict_proba_train_valid)"
   ]
  },
  {
   "cell_type": "code",
   "execution_count": null,
   "id": "df84a60c",
   "metadata": {},
   "outputs": [],
   "source": [
    "train_valid_set_with_uncorrected_results = augment_train_valid_set_with_results(\"uncorrected\", X_train_valid, Y_train_valid, Y_pred_train_valid, model_task, multi_Y_train_valid, multi_predict_proba_train_valid)"
   ]
  },
  {
   "cell_type": "code",
   "execution_count": null,
   "id": "2ab989bd",
   "metadata": {},
   "outputs": [],
   "source": [
    "## Detection alert (on train&valid data to examine if the model learned discriminant behavior)"
   ]
  },
  {
   "cell_type": "code",
   "execution_count": null,
   "id": "e56cdc10",
   "metadata": {
    "scrolled": false
   },
   "outputs": [],
   "source": [
    "augmented_train_valid_set = train_valid_set_with_uncorrected_results\n",
    "model_name = \"uncorrected\"\n",
    "\n",
    "fairness_purpose=\"true_negative_rate\"\n",
    "injustice_acceptance=1.3\n",
    "min_individuals_discrimined=0.01\n",
    "\n",
    "discrimination_alert(augmented_train_valid_set, model_name, fairness_purpose, model_task, injustice_acceptance, min_individuals_discrimined)"
   ]
  },
  {
   "cell_type": "markdown",
   "id": "61c8f7c8",
   "metadata": {},
   "source": [
    "## Discrimination correction with a new fair model"
   ]
  },
  {
   "cell_type": "markdown",
   "id": "e649dbf3",
   "metadata": {},
   "source": [
    "### Generating fairer models with weights distorsion"
   ]
  },
  {
   "cell_type": "code",
   "execution_count": null,
   "id": "80de8ef8",
   "metadata": {},
   "outputs": [],
   "source": [
    "# the user determines one's fairness objectives to build new fairer models\n",
    "# on which group and regarding which criteria (purpose, constraint of the models) one aims to erase discrimination\n",
    "\n",
    "protected_attribute = 'number_of_underage'\n",
    "\n",
    "# then the user sets the desired balance between stat and fair performances\n",
    "\n",
    "tradeoff = \"moderate\"\n",
    "weight_method = \"weighted_groups\"\n",
    "nb_fair_models = 3\n",
    "\n",
    "train_valid_set_with_corrected_results, models_df, best_model_dict = fair_train(\n",
    "    X=X,\n",
    "    Y=Y,\n",
    "    train_valid_set_with_uncorrected_results=train_valid_set_with_uncorrected_results,\n",
    "    protected_attribute=protected_attribute,\n",
    "    fairness_purpose=fairness_purpose,\n",
    "    model_task=model_task,\n",
    "    stat_criteria=stat_criteria,\n",
    "    tradeoff=tradeoff,\n",
    "    weight_method=weight_method,\n",
    "    nb_fair_models=nb_fair_models,\n",
    "    sorted_labels_list=sorted_labels_list,\n",
    "    # distribution_frontier=distribution_frontier,\n",
    "    frontier_label=frontier_label,\n",
    ")"
   ]
  },
  {
   "cell_type": "markdown",
   "id": "f62b6751",
   "metadata": {},
   "source": [
    "### Evaluating the best fair model"
   ]
  },
  {
   "cell_type": "code",
   "execution_count": null,
   "id": "4e74ed3c",
   "metadata": {},
   "outputs": [],
   "source": [
    "fair_model_results(train_valid_set_with_corrected_results, models_df, best_model_dict,protected_attribute,fairness_purpose, model_task)"
   ]
  },
  {
   "cell_type": "code",
   "execution_count": null,
   "id": "a917f670",
   "metadata": {},
   "outputs": [],
   "source": [
    "top_models = models_df.sort_values(by='tradeoff_score',ascending=False)\n",
    "top_models"
   ]
  }
 ],
 "metadata": {
  "kernelspec": {
   "display_name": "Python 3 (ipykernel)",
   "language": "python",
   "name": "python3"
  },
  "language_info": {
   "codemirror_mode": {
    "name": "ipython",
    "version": 3
   },
   "file_extension": ".py",
   "mimetype": "text/x-python",
   "name": "python",
   "nbconvert_exporter": "python",
   "pygments_lexer": "ipython3",
   "version": "3.8.0"
  },
  "toc": {
   "base_numbering": 1,
   "nav_menu": {},
   "number_sections": true,
   "sideBar": true,
   "skip_h1_title": false,
   "title_cell": "Table of Contents",
   "title_sidebar": "Contents",
   "toc_cell": false,
   "toc_position": {
    "height": "calc(100% - 180px)",
    "left": "10px",
    "top": "150px",
    "width": "369.6px"
   },
   "toc_section_display": true,
   "toc_window_display": true
  }
 },
 "nbformat": 4,
 "nbformat_minor": 5
}
