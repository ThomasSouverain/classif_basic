{
 "cells": [
  {
   "cell_type": "code",
   "execution_count": null,
   "id": "5582cf02",
   "metadata": {},
   "outputs": [],
   "source": [
    "%load_ext autoreload\n",
    "%autoreload 2\n",
    "\n",
    "import warnings\n",
    "warnings.filterwarnings('ignore')"
   ]
  },
  {
   "cell_type": "markdown",
   "id": "df58dd94",
   "metadata": {},
   "source": [
    "# Discrimination detection and mitigation (on houses prices dataset)"
   ]
  },
  {
   "cell_type": "markdown",
   "id": "1ab03693",
   "metadata": {},
   "source": [
    "## Train a model regardless of fairness"
   ]
  },
  {
   "cell_type": "code",
   "execution_count": null,
   "id": "8bad479d",
   "metadata": {},
   "outputs": [],
   "source": [
    "from fairdream.data_preparation import *\n",
    "from fairdream.compute_scores import *\n",
    "from fairdream.detection import *\n",
    "from fairdream.correction import *\n",
    "from fairdream.plots import *"
   ]
  },
  {
   "cell_type": "code",
   "execution_count": null,
   "id": "107aa5a0",
   "metadata": {},
   "outputs": [],
   "source": [
    "# set your statistics purposes\n",
    "model_task = \"regression\"\n",
    "stat_criteria = \"rmse\""
   ]
  },
  {
   "cell_type": "markdown",
   "id": "fcae8bb0",
   "metadata": {},
   "source": [
    "### Bring your own model "
   ]
  },
  {
   "cell_type": "markdown",
   "id": "bc6c937b",
   "metadata": {},
   "source": [
    "If you want to bring your own model, you have to set 3 features:\n",
    "\n",
    "1. uncorrected_model_path\n",
    "Save your model in uncorrected_model_path, for fairness analysis on relevant features\n",
    "Ex: uncorrected_model_path = \"/work/data/models/uncorrected_model.pkl\"\n",
    "\n",
    "2. X_train_valid, Y_train_valid\n",
    "pd.DataFrame with your inputs and targets on train&valid set, of shape(nb_individuals,)\n",
    "\n",
    "3. Y_pred_train_valid\n",
    "np.ndarray with the predicted label (i.e. class) or value, of shape(nb_individuals,)"
   ]
  },
  {
   "cell_type": "markdown",
   "id": "e8bf2702",
   "metadata": {},
   "source": [
    "### Automatically train a model statistically performant, regardless of fairness"
   ]
  },
  {
   "cell_type": "code",
   "execution_count": null,
   "id": "174b68be",
   "metadata": {},
   "outputs": [],
   "source": [
    "# preparing the housing dataset for regression, according to its size ('small' or 'large')\n",
    "\n",
    "from sklearn.datasets import fetch_california_housing\n",
    "from sklearn.datasets import load_boston\n",
    "from sklearn.datasets import load_diabetes\n",
    "\n",
    "\n",
    "def choose_housing_dataset_for_regression(dataset_len):\n",
    "    if dataset_len == 'small':\n",
    "        boston = load_boston()\n",
    "        x, y = boston.data, boston.target\n",
    "\n",
    "        X = pd.DataFrame(boston.data, columns=boston.feature_names)\n",
    "        Y = pd.DataFrame(boston.target, columns=[\"MEDV\"])\n",
    "    \n",
    "    elif dataset_len == 'large':\n",
    "        california = fetch_california_housing()\n",
    "        x, y = california.data, california.target\n",
    "\n",
    "        X = pd.DataFrame(california.data, columns=california.feature_names)\n",
    "        Y = pd.DataFrame(california.target, columns=['MedHouseVal'])\n",
    "    \n",
    "    elif dataset_len == 'diabetes':\n",
    "        diabetes = load_diabetes()\n",
    "        x, y = diabetes.data, diabetes.target\n",
    "\n",
    "        X = pd.DataFrame(diabetes.data, columns=diabetes.feature_names)\n",
    "        Y = pd.DataFrame(diabetes.target, columns=[\"diabete_indicator\"])\n",
    "    \n",
    "    return X, Y"
   ]
  },
  {
   "cell_type": "code",
   "execution_count": null,
   "id": "3c2e8d03",
   "metadata": {},
   "outputs": [],
   "source": [
    "dataset_len = 'diabetes'\n",
    "\n",
    "X, Y = choose_housing_dataset_for_regression(dataset_len)"
   ]
  },
  {
   "cell_type": "code",
   "execution_count": null,
   "id": "81e01c97",
   "metadata": {},
   "outputs": [],
   "source": [
    "X_train, X_valid, X_train_valid, X_test, Y_train, Y_valid, Y_train_valid, Y_test = train_valid_test_split(X,Y, model_task)"
   ]
  },
  {
   "cell_type": "code",
   "execution_count": null,
   "id": "438539df",
   "metadata": {},
   "outputs": [],
   "source": [
    "# save the uncorrected model, to then sort its features by importances\n",
    "save_model = True\n",
    "uncorrected_model_path = \"/work/data/models/uncorrected_model.pkl\"\n",
    "\n",
    "Y_pred_train_valid = train_naive_xgb(X_train, X_valid, X_train_valid, X_test, Y_train, Y_valid, Y_train_valid, Y_test, model_task, stat_criteria,save_model=save_model)"
   ]
  },
  {
   "cell_type": "markdown",
   "id": "b48be396",
   "metadata": {},
   "source": [
    "## Detection alert (on train&valid data to examine if the model learned discriminant behavior)"
   ]
  },
  {
   "cell_type": "code",
   "execution_count": null,
   "id": "46799a08",
   "metadata": {},
   "outputs": [],
   "source": [
    "augment_train_valid_set_with_results(\"uncorrected\", X_train_valid, Y_train_valid, Y_pred_train_valid, model_task)"
   ]
  },
  {
   "cell_type": "code",
   "execution_count": null,
   "id": "4eb28082",
   "metadata": {},
   "outputs": [],
   "source": [
    "train_valid_set_with_uncorrected_results = augment_train_valid_set_with_results(\"uncorrected\", X_train_valid, Y_train_valid, Y_pred_train_valid, model_task)"
   ]
  },
  {
   "cell_type": "code",
   "execution_count": null,
   "id": "88bb89f1",
   "metadata": {},
   "outputs": [],
   "source": [
    "augmented_train_valid_set = train_valid_set_with_uncorrected_results\n",
    "model_name = \"uncorrected\"\n",
    "\n",
    "model_task = \"regression\"\n",
    "\n",
    "fairness_purpose='distribution_gap'\n",
    "injustice_acceptance=1.2\n",
    "min_individuals_discrimined=0.01\n",
    "\n",
    "discrimination_alert(augmented_train_valid_set, model_name, fairness_purpose, model_task, injustice_acceptance, min_individuals_discrimined)"
   ]
  },
  {
   "cell_type": "markdown",
   "id": "beb6fb59",
   "metadata": {},
   "source": [
    "## Discrimination correction with a new fair model"
   ]
  },
  {
   "cell_type": "markdown",
   "id": "acbadc17",
   "metadata": {},
   "source": [
    "### Generating fairer models with weights distorsion"
   ]
  },
  {
   "cell_type": "code",
   "execution_count": null,
   "id": "db3a40ed",
   "metadata": {},
   "outputs": [],
   "source": [
    "# the user determines one's fairness objectives to build new fairer models\n",
    "# on which group and regarding which criteria (purpose, constraint of the models) one aims to erase discrimination\n",
    "\n",
    "protected_attribute = 'sex' # 'MedInc', 'AveRooms', 'Population', 'AveOccup'\n",
    "\n",
    "# then the user sets the desired balance between stat and fair performances \n",
    "tradeoff = \"moderate\"\n",
    "weight_method = \"weighted_groups\"\n",
    "nb_fair_models = 10\n",
    "\n",
    "train_valid_set_with_corrected_results, models_df, best_model_dict = fair_train(\n",
    "    X=X,\n",
    "    Y=Y,\n",
    "    train_valid_set_with_uncorrected_results=train_valid_set_with_uncorrected_results,\n",
    "    protected_attribute=protected_attribute,\n",
    "    fairness_purpose=fairness_purpose,\n",
    "    model_task=model_task,\n",
    "    stat_criteria=stat_criteria,\n",
    "    tradeoff=tradeoff,\n",
    "    weight_method=weight_method,\n",
    "    nb_fair_models=nb_fair_models,\n",
    ")"
   ]
  },
  {
   "cell_type": "markdown",
   "id": "2a35c752",
   "metadata": {},
   "source": [
    "### Evaluating the best fair model"
   ]
  },
  {
   "cell_type": "code",
   "execution_count": null,
   "id": "b51a8002",
   "metadata": {
    "scrolled": true
   },
   "outputs": [],
   "source": [
    "fair_model_results(train_valid_set_with_corrected_results, models_df, best_model_dict,protected_attribute,fairness_purpose, model_task)"
   ]
  },
  {
   "cell_type": "code",
   "execution_count": null,
   "id": "03bb94d5",
   "metadata": {
    "scrolled": true
   },
   "outputs": [],
   "source": [
    "top_models = models_df.sort_values(by='tradeoff_score',ascending=False)\n",
    "top_models"
   ]
  }
 ],
 "metadata": {
  "kernelspec": {
   "display_name": "Python 3 (ipykernel)",
   "language": "python",
   "name": "python3"
  },
  "language_info": {
   "codemirror_mode": {
    "name": "ipython",
    "version": 3
   },
   "file_extension": ".py",
   "mimetype": "text/x-python",
   "name": "python",
   "nbconvert_exporter": "python",
   "pygments_lexer": "ipython3",
   "version": "3.8.0"
  },
  "toc": {
   "base_numbering": 1,
   "nav_menu": {},
   "number_sections": true,
   "sideBar": true,
   "skip_h1_title": false,
   "title_cell": "Table of Contents",
   "title_sidebar": "Contents",
   "toc_cell": false,
   "toc_position": {
    "height": "calc(100% - 180px)",
    "left": "10px",
    "top": "150px",
    "width": "369.6px"
   },
   "toc_section_display": true,
   "toc_window_display": true
  }
 },
 "nbformat": 4,
 "nbformat_minor": 5
}
