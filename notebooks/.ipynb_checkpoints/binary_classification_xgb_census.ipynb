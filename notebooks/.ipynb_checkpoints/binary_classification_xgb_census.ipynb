{
 "cells": [
  {
   "cell_type": "code",
   "execution_count": 1,
   "id": "5582cf02",
   "metadata": {},
   "outputs": [],
   "source": [
    "%load_ext autoreload\n",
    "%autoreload 2\n",
    "\n",
    "import warnings\n",
    "warnings.filterwarnings('ignore')"
   ]
  },
  {
   "cell_type": "markdown",
   "id": "df58dd94",
   "metadata": {},
   "source": [
    "# Discrimination detection and mitigation (on revenues classification dataset)"
   ]
  },
  {
   "cell_type": "markdown",
   "id": "1ab03693",
   "metadata": {},
   "source": [
    "## Train a nn_basic regardless of fairness"
   ]
  },
  {
   "cell_type": "code",
   "execution_count": 2,
   "id": "8bad479d",
   "metadata": {},
   "outputs": [],
   "source": [
    "import sys\n",
    "sys.path.append(\"../\")\n",
    "\n",
    "from sklearn import datasets\n",
    "\n",
    "from classif_basic.data_preparation import train_valid_test_split, set_target_if_feature, automatic_preprocessing\n",
    "from classif_basic.model import train_naive_xgb, pickle_save_model, prediction_train_valid_by_task, compute_best_fscore\n",
    "from classif_basic.model_analysis import features_importances_from_pickle, augment_train_valid_set_with_results"
   ]
  },
  {
   "cell_type": "code",
   "execution_count": null,
   "id": "2af06c13",
   "metadata": {},
   "outputs": [],
   "source": [
    "# imports for further models' comparisons\n",
    "pip install tensorflow\n",
    "\n",
    "pip install keras\n",
    "\n",
    "from sklearn.preprocessing import StandardScaler\n",
    "from sklearn.metrics import classification_report, confusion_matrix, roc_curve, auc\n",
    "\n",
    "import tensorflow as tf\n",
    "\n",
    "import time\n",
    "\n",
    "import numpy as np\n",
    "import matplotlib.pyplot as plt"
   ]
  },
  {
   "cell_type": "markdown",
   "id": "5124240e",
   "metadata": {},
   "source": [
    "### Prepare data\n",
    "\n",
    "Fix precise % of population distribution (sex: Male, Female) and % of loan granted according to sex, to inspect the effects of FairDream."
   ]
  },
  {
   "cell_type": "code",
   "execution_count": 4,
   "id": "8a741869",
   "metadata": {},
   "outputs": [],
   "source": [
    "# preparing the dataset on clients for binary classification\n",
    "from datasets import fetch_openml\n",
    "data = fetch_openml(data_id=1590, as_frame=True)\n",
    "\n",
    "X = data.data\n",
    "Y = (data.target == '>50K') * 1"
   ]
  },
  {
   "cell_type": "code",
   "execution_count": 5,
   "id": "4eb5911e",
   "metadata": {},
   "outputs": [
    {
     "data": {
      "text/html": [
       "<div>\n",
       "<style scoped>\n",
       "    .dataframe tbody tr th:only-of-type {\n",
       "        vertical-align: middle;\n",
       "    }\n",
       "\n",
       "    .dataframe tbody tr th {\n",
       "        vertical-align: top;\n",
       "    }\n",
       "\n",
       "    .dataframe thead th {\n",
       "        text-align: right;\n",
       "    }\n",
       "</style>\n",
       "<table border=\"1\" class=\"dataframe\">\n",
       "  <thead>\n",
       "    <tr style=\"text-align: right;\">\n",
       "      <th></th>\n",
       "      <th>age</th>\n",
       "      <th>workclass</th>\n",
       "      <th>fnlwgt</th>\n",
       "      <th>education</th>\n",
       "      <th>education-num</th>\n",
       "      <th>marital-status</th>\n",
       "      <th>occupation</th>\n",
       "      <th>relationship</th>\n",
       "      <th>race</th>\n",
       "      <th>sex</th>\n",
       "      <th>capital-gain</th>\n",
       "      <th>capital-loss</th>\n",
       "      <th>hours-per-week</th>\n",
       "      <th>native-country</th>\n",
       "      <th>target</th>\n",
       "    </tr>\n",
       "  </thead>\n",
       "  <tbody>\n",
       "    <tr>\n",
       "      <th>0</th>\n",
       "      <td>25.0</td>\n",
       "      <td>Private</td>\n",
       "      <td>226802.0</td>\n",
       "      <td>11th</td>\n",
       "      <td>7.0</td>\n",
       "      <td>Never-married</td>\n",
       "      <td>Machine-op-inspct</td>\n",
       "      <td>Own-child</td>\n",
       "      <td>Black</td>\n",
       "      <td>Male</td>\n",
       "      <td>0.0</td>\n",
       "      <td>0.0</td>\n",
       "      <td>40.0</td>\n",
       "      <td>United-States</td>\n",
       "      <td>0</td>\n",
       "    </tr>\n",
       "    <tr>\n",
       "      <th>1</th>\n",
       "      <td>38.0</td>\n",
       "      <td>Private</td>\n",
       "      <td>89814.0</td>\n",
       "      <td>HS-grad</td>\n",
       "      <td>9.0</td>\n",
       "      <td>Married-civ-spouse</td>\n",
       "      <td>Farming-fishing</td>\n",
       "      <td>Husband</td>\n",
       "      <td>White</td>\n",
       "      <td>Male</td>\n",
       "      <td>0.0</td>\n",
       "      <td>0.0</td>\n",
       "      <td>50.0</td>\n",
       "      <td>United-States</td>\n",
       "      <td>0</td>\n",
       "    </tr>\n",
       "    <tr>\n",
       "      <th>2</th>\n",
       "      <td>28.0</td>\n",
       "      <td>Local-gov</td>\n",
       "      <td>336951.0</td>\n",
       "      <td>Assoc-acdm</td>\n",
       "      <td>12.0</td>\n",
       "      <td>Married-civ-spouse</td>\n",
       "      <td>Protective-serv</td>\n",
       "      <td>Husband</td>\n",
       "      <td>White</td>\n",
       "      <td>Male</td>\n",
       "      <td>0.0</td>\n",
       "      <td>0.0</td>\n",
       "      <td>40.0</td>\n",
       "      <td>United-States</td>\n",
       "      <td>1</td>\n",
       "    </tr>\n",
       "    <tr>\n",
       "      <th>3</th>\n",
       "      <td>44.0</td>\n",
       "      <td>Private</td>\n",
       "      <td>160323.0</td>\n",
       "      <td>Some-college</td>\n",
       "      <td>10.0</td>\n",
       "      <td>Married-civ-spouse</td>\n",
       "      <td>Machine-op-inspct</td>\n",
       "      <td>Husband</td>\n",
       "      <td>Black</td>\n",
       "      <td>Male</td>\n",
       "      <td>7688.0</td>\n",
       "      <td>0.0</td>\n",
       "      <td>40.0</td>\n",
       "      <td>United-States</td>\n",
       "      <td>1</td>\n",
       "    </tr>\n",
       "    <tr>\n",
       "      <th>4</th>\n",
       "      <td>18.0</td>\n",
       "      <td>NaN</td>\n",
       "      <td>103497.0</td>\n",
       "      <td>Some-college</td>\n",
       "      <td>10.0</td>\n",
       "      <td>Never-married</td>\n",
       "      <td>NaN</td>\n",
       "      <td>Own-child</td>\n",
       "      <td>White</td>\n",
       "      <td>Female</td>\n",
       "      <td>0.0</td>\n",
       "      <td>0.0</td>\n",
       "      <td>30.0</td>\n",
       "      <td>United-States</td>\n",
       "      <td>0</td>\n",
       "    </tr>\n",
       "    <tr>\n",
       "      <th>...</th>\n",
       "      <td>...</td>\n",
       "      <td>...</td>\n",
       "      <td>...</td>\n",
       "      <td>...</td>\n",
       "      <td>...</td>\n",
       "      <td>...</td>\n",
       "      <td>...</td>\n",
       "      <td>...</td>\n",
       "      <td>...</td>\n",
       "      <td>...</td>\n",
       "      <td>...</td>\n",
       "      <td>...</td>\n",
       "      <td>...</td>\n",
       "      <td>...</td>\n",
       "      <td>...</td>\n",
       "    </tr>\n",
       "    <tr>\n",
       "      <th>48837</th>\n",
       "      <td>27.0</td>\n",
       "      <td>Private</td>\n",
       "      <td>257302.0</td>\n",
       "      <td>Assoc-acdm</td>\n",
       "      <td>12.0</td>\n",
       "      <td>Married-civ-spouse</td>\n",
       "      <td>Tech-support</td>\n",
       "      <td>Wife</td>\n",
       "      <td>White</td>\n",
       "      <td>Female</td>\n",
       "      <td>0.0</td>\n",
       "      <td>0.0</td>\n",
       "      <td>38.0</td>\n",
       "      <td>United-States</td>\n",
       "      <td>0</td>\n",
       "    </tr>\n",
       "    <tr>\n",
       "      <th>48838</th>\n",
       "      <td>40.0</td>\n",
       "      <td>Private</td>\n",
       "      <td>154374.0</td>\n",
       "      <td>HS-grad</td>\n",
       "      <td>9.0</td>\n",
       "      <td>Married-civ-spouse</td>\n",
       "      <td>Machine-op-inspct</td>\n",
       "      <td>Husband</td>\n",
       "      <td>White</td>\n",
       "      <td>Male</td>\n",
       "      <td>0.0</td>\n",
       "      <td>0.0</td>\n",
       "      <td>40.0</td>\n",
       "      <td>United-States</td>\n",
       "      <td>1</td>\n",
       "    </tr>\n",
       "    <tr>\n",
       "      <th>48839</th>\n",
       "      <td>58.0</td>\n",
       "      <td>Private</td>\n",
       "      <td>151910.0</td>\n",
       "      <td>HS-grad</td>\n",
       "      <td>9.0</td>\n",
       "      <td>Widowed</td>\n",
       "      <td>Adm-clerical</td>\n",
       "      <td>Unmarried</td>\n",
       "      <td>White</td>\n",
       "      <td>Female</td>\n",
       "      <td>0.0</td>\n",
       "      <td>0.0</td>\n",
       "      <td>40.0</td>\n",
       "      <td>United-States</td>\n",
       "      <td>0</td>\n",
       "    </tr>\n",
       "    <tr>\n",
       "      <th>48840</th>\n",
       "      <td>22.0</td>\n",
       "      <td>Private</td>\n",
       "      <td>201490.0</td>\n",
       "      <td>HS-grad</td>\n",
       "      <td>9.0</td>\n",
       "      <td>Never-married</td>\n",
       "      <td>Adm-clerical</td>\n",
       "      <td>Own-child</td>\n",
       "      <td>White</td>\n",
       "      <td>Male</td>\n",
       "      <td>0.0</td>\n",
       "      <td>0.0</td>\n",
       "      <td>20.0</td>\n",
       "      <td>United-States</td>\n",
       "      <td>0</td>\n",
       "    </tr>\n",
       "    <tr>\n",
       "      <th>48841</th>\n",
       "      <td>52.0</td>\n",
       "      <td>Self-emp-inc</td>\n",
       "      <td>287927.0</td>\n",
       "      <td>HS-grad</td>\n",
       "      <td>9.0</td>\n",
       "      <td>Married-civ-spouse</td>\n",
       "      <td>Exec-managerial</td>\n",
       "      <td>Wife</td>\n",
       "      <td>White</td>\n",
       "      <td>Female</td>\n",
       "      <td>15024.0</td>\n",
       "      <td>0.0</td>\n",
       "      <td>40.0</td>\n",
       "      <td>United-States</td>\n",
       "      <td>1</td>\n",
       "    </tr>\n",
       "  </tbody>\n",
       "</table>\n",
       "<p>48842 rows × 15 columns</p>\n",
       "</div>"
      ],
      "text/plain": [
       "        age     workclass    fnlwgt     education  education-num  \\\n",
       "0      25.0       Private  226802.0          11th            7.0   \n",
       "1      38.0       Private   89814.0       HS-grad            9.0   \n",
       "2      28.0     Local-gov  336951.0    Assoc-acdm           12.0   \n",
       "3      44.0       Private  160323.0  Some-college           10.0   \n",
       "4      18.0           NaN  103497.0  Some-college           10.0   \n",
       "...     ...           ...       ...           ...            ...   \n",
       "48837  27.0       Private  257302.0    Assoc-acdm           12.0   \n",
       "48838  40.0       Private  154374.0       HS-grad            9.0   \n",
       "48839  58.0       Private  151910.0       HS-grad            9.0   \n",
       "48840  22.0       Private  201490.0       HS-grad            9.0   \n",
       "48841  52.0  Self-emp-inc  287927.0       HS-grad            9.0   \n",
       "\n",
       "           marital-status         occupation relationship   race     sex  \\\n",
       "0           Never-married  Machine-op-inspct    Own-child  Black    Male   \n",
       "1      Married-civ-spouse    Farming-fishing      Husband  White    Male   \n",
       "2      Married-civ-spouse    Protective-serv      Husband  White    Male   \n",
       "3      Married-civ-spouse  Machine-op-inspct      Husband  Black    Male   \n",
       "4           Never-married                NaN    Own-child  White  Female   \n",
       "...                   ...                ...          ...    ...     ...   \n",
       "48837  Married-civ-spouse       Tech-support         Wife  White  Female   \n",
       "48838  Married-civ-spouse  Machine-op-inspct      Husband  White    Male   \n",
       "48839             Widowed       Adm-clerical    Unmarried  White  Female   \n",
       "48840       Never-married       Adm-clerical    Own-child  White    Male   \n",
       "48841  Married-civ-spouse    Exec-managerial         Wife  White  Female   \n",
       "\n",
       "       capital-gain  capital-loss  hours-per-week native-country  target  \n",
       "0               0.0           0.0            40.0  United-States       0  \n",
       "1               0.0           0.0            50.0  United-States       0  \n",
       "2               0.0           0.0            40.0  United-States       1  \n",
       "3            7688.0           0.0            40.0  United-States       1  \n",
       "4               0.0           0.0            30.0  United-States       0  \n",
       "...             ...           ...             ...            ...     ...  \n",
       "48837           0.0           0.0            38.0  United-States       0  \n",
       "48838           0.0           0.0            40.0  United-States       1  \n",
       "48839           0.0           0.0            40.0  United-States       0  \n",
       "48840           0.0           0.0            20.0  United-States       0  \n",
       "48841       15024.0           0.0            40.0  United-States       1  \n",
       "\n",
       "[48842 rows x 15 columns]"
      ]
     },
     "execution_count": 5,
     "metadata": {},
     "output_type": "execute_result"
    }
   ],
   "source": [
    "dataset = X.copy()\n",
    "dataset['target'] = Y\n",
    "dataset"
   ]
  },
  {
   "cell_type": "code",
   "execution_count": 6,
   "id": "d9ccb74d",
   "metadata": {},
   "outputs": [
    {
     "name": "stdout",
     "output_type": "stream",
     "text": [
      "9918\n",
      "22732\n",
      "1769\n",
      "14423\n"
     ]
    },
    {
     "data": {
      "text/plain": [
       "0.3037672281776417"
      ]
     },
     "execution_count": 6,
     "metadata": {},
     "output_type": "execute_result"
    }
   ],
   "source": [
    "# here, \"treatment\" is saw as being 'Male' and not 'Female'\n",
    "\n",
    "df_response_if_feature=dataset.loc[(dataset['sex']=='Male')&(dataset['target']==1)]\n",
    "df_no_response_if_feature=dataset.loc[(dataset['sex']=='Male')&(dataset['target']==0)]\n",
    "df_response_if_not_feature=dataset.loc[(dataset['sex']=='Female')&(dataset['target']==1)]\n",
    "df_no_response_if_not_feature=dataset.loc[(dataset['sex']=='Female')&(dataset['target']==0)]\n",
    "\n",
    "print(df_response_if_feature.shape[0])\n",
    "print(df_no_response_if_feature.shape[0])\n",
    "print(df_response_if_not_feature.shape[0])\n",
    "print(df_no_response_if_not_feature.shape[0])\n",
    "\n",
    "\n",
    "# % of men selected by the initial data\n",
    "df_response_if_feature.shape[0]/(df_response_if_feature.shape[0]+df_no_response_if_feature.shape[0])"
   ]
  },
  {
   "cell_type": "code",
   "execution_count": 7,
   "id": "33f3d21d",
   "metadata": {},
   "outputs": [
    {
     "data": {
      "text/plain": [
       "0.10925148221343874"
      ]
     },
     "execution_count": 7,
     "metadata": {},
     "output_type": "execute_result"
    }
   ],
   "source": [
    "# % of women selected by the initial data\n",
    "df_response_if_not_feature.shape[0]/(df_response_if_not_feature.shape[0]+df_no_response_if_not_feature.shape[0])"
   ]
  },
  {
   "cell_type": "code",
   "execution_count": 8,
   "id": "e1cbf2b5",
   "metadata": {},
   "outputs": [
    {
     "name": "stdout",
     "output_type": "stream",
     "text": [
      "len_dataset: 20000\n",
      "nb indivs treated with response: 9800\n",
      "nb indivs treated with no response: 4200\n",
      "nb indivs control with response: 600\n",
      "nb indivs control with no response: 5400\n"
     ]
    }
   ],
   "source": [
    "len_dataset = 20_000\n",
    "\n",
    "percentage_feature= 70\n",
    "percentage_response_if_feature=70\n",
    "percentage_response_if_not_feature=10\n",
    "\n",
    "sexist_dataset = set_target_if_feature(\n",
    "    df_response_if_feature=df_response_if_feature,\n",
    "    df_no_response_if_feature=df_no_response_if_feature,\n",
    "    df_response_if_not_feature=df_response_if_not_feature,\n",
    "    df_no_response_if_not_feature=df_no_response_if_not_feature,\n",
    "    len_dataset=len_dataset,\n",
    "    percentage_feature=percentage_feature,\n",
    "    percentage_response_if_feature=percentage_response_if_feature,\n",
    "    percentage_response_if_not_feature=percentage_response_if_not_feature)"
   ]
  },
  {
   "cell_type": "code",
   "execution_count": 9,
   "id": "bb3a0da4",
   "metadata": {},
   "outputs": [],
   "source": [
    "X = sexist_dataset.loc[: , dataset.columns != 'target']\n",
    "Y = sexist_dataset['target']"
   ]
  },
  {
   "cell_type": "code",
   "execution_count": 10,
   "id": "62d78af2",
   "metadata": {},
   "outputs": [
    {
     "data": {
      "text/plain": [
       "12416    1\n",
       "45079    1\n",
       "40096    1\n",
       "31054    1\n",
       "40406    1\n",
       "        ..\n",
       "21809    0\n",
       "11090    0\n",
       "36146    0\n",
       "1771     0\n",
       "40736    0\n",
       "Name: target, Length: 20000, dtype: int64"
      ]
     },
     "execution_count": 10,
     "metadata": {},
     "output_type": "execute_result"
    }
   ],
   "source": [
    "Y"
   ]
  },
  {
   "cell_type": "markdown",
   "id": "d5fb9644",
   "metadata": {},
   "source": [
    "### Bring your own nn_basic "
   ]
  },
  {
   "cell_type": "markdown",
   "id": "d08a8be6",
   "metadata": {},
   "source": [
    "If you want to bring your own model, you have to set 3 features:\n",
    "\n",
    "1. uncorrected_model_path\n",
    "Save your model in uncorrected_model_path, for fairness analysis on relevant features\n",
    "Ex: uncorrected_model_path = \"/work/data/models/uncorrected_model.pkl\"\n",
    "\n",
    "2. X_train_valid, Y_train_valid\n",
    "pd.DataFrame with your inputs and targets on train&valid set, of shape(nb_individuals,)\n",
    "\n",
    "3. Y_pred_train_valid\n",
    "np.ndarray with the predicted label (i.e. class) or value, of shape(nb_individuals,)"
   ]
  },
  {
   "cell_type": "markdown",
   "id": "63447f8c",
   "metadata": {},
   "source": [
    "### Automatically train a model for statistical performance"
   ]
  },
  {
   "cell_type": "code",
   "execution_count": null,
   "id": "3c1d86e1",
   "metadata": {},
   "outputs": [],
   "source": [
    "# set your statistics purposes\n",
    "model_task = \"classification\"\n",
    "stat_criteria = \"auc\""
   ]
  },
  {
   "cell_type": "code",
   "execution_count": 11,
   "id": "81e01c97",
   "metadata": {},
   "outputs": [],
   "source": [
    "X_train, X_valid, X_train_valid, X_test, Y_train, Y_valid, Y_train_valid, Y_test = train_valid_test_split(\n",
    "    X=X,\n",
    "    Y=Y, \n",
    "    model_task=model_task)"
   ]
  },
  {
   "cell_type": "code",
   "execution_count": 12,
   "id": "c1e26fd5",
   "metadata": {},
   "outputs": [
    {
     "data": {
      "text/plain": [
       "(2550,)"
      ]
     },
     "execution_count": 12,
     "metadata": {},
     "output_type": "execute_result"
    }
   ],
   "source": [
    "Y_valid.shape"
   ]
  },
  {
   "cell_type": "code",
   "execution_count": 13,
   "id": "438539df",
   "metadata": {},
   "outputs": [
    {
     "name": "stdout",
     "output_type": "stream",
     "text": [
      "Training model with 105 features, on 14450 rows (valid 2550 rows, test 3000 rows) \n",
      "[0]\tvalidation_0-auc:0.89511\tvalidation_1-auc:0.88982\n",
      "[100]\tvalidation_0-auc:0.95888\tvalidation_1-auc:0.94678\n",
      "[136]\tvalidation_0-auc:0.96147\tvalidation_1-auc:0.94679\n",
      "Best Threshold=0.501405, with F-Score=0.885\n"
     ]
    },
    {
     "data": {
      "image/png": "[encoded data removed]",
      "text/plain": [
       "<Figure size 432x288 with 1 Axes>"
      ]
     },
     "metadata": {
      "needs_background": "light"
     },
     "output_type": "display_data"
    }
   ],
   "source": [
    "# save the uncorrected model, to then sort its features by importances\n",
    "save_model=True\n",
    "uncorrected_model_path = \"/work/data/models/uncorrected_model.pkl\"\n",
    "\n",
    "Y_pred_train_valid = train_naive_xgb(X_train, X_valid, X_train_valid, X_test, Y_train, Y_valid, Y_train_valid, Y_test, model_task, stat_criteria, save_model=save_model)"
   ]
  },
  {
   "cell_type": "markdown",
   "id": "3c5d0ea9",
   "metadata": {},
   "source": [
    "### Compare XGB model with basic neural networks: time, predictive performance\n",
    "Inspired from the basic implementation of neural networks for Census, in https://github.com/ritvikkhanna09/Census-classifier-comparison/blob/master/NeuralNetworks.ipynb"
   ]
  },
  {
   "cell_type": "code",
   "execution_count": 14,
   "id": "1d2f98d4",
   "metadata": {},
   "outputs": [],
   "source": [
    "X_train_np = X_train.values\n",
    "Y_train_np = Y_train.values\n",
    "X_valid_np = X_valid.values\n",
    "Y_valid_np = Y_valid.values\n",
    "X_test_np = X_test.values\n",
    "Y_test_np = Y_test.values\n",
    "\n",
    "sc = StandardScaler()\n",
    "X_train_np = sc.fit_transform(X_train_np)\n",
    "X_valid_np = sc.fit_transform(X_valid_np)\n",
    "X_test_np = sc.transform(X_test_np)"
   ]
  },
  {
   "cell_type": "code",
   "execution_count": 15,
   "id": "925f8935",
   "metadata": {
    "scrolled": true
   },
   "outputs": [
    {
     "name": "stderr",
     "output_type": "stream",
     "text": [
      "2022-08-13 08:44:07.033159: W tensorflow/stream_executor/platform/default/dso_loader.cc:64] Could not load dynamic library 'libcudart.so.11.0'; dlerror: libcudart.so.11.0: cannot open shared object file: No such file or directory\n",
      "2022-08-13 08:44:07.033189: I tensorflow/stream_executor/cuda/cudart_stub.cc:29] Ignore above cudart dlerror if you do not have a GPU set up on your machine.\n"
     ]
    },
    {
     "name": "stdout",
     "output_type": "stream",
     "text": [
      "Epoch 1/100\n"
     ]
    },
    {
     "name": "stderr",
     "output_type": "stream",
     "text": [
      "2022-08-13 08:44:08.347513: W tensorflow/stream_executor/platform/default/dso_loader.cc:64] Could not load dynamic library 'libcuda.so.1'; dlerror: libcuda.so.1: cannot open shared object file: No such file or directory\n",
      "2022-08-13 08:44:08.347539: W tensorflow/stream_executor/cuda/cuda_driver.cc:269] failed call to cuInit: UNKNOWN ERROR (303)\n",
      "2022-08-13 08:44:08.347570: I tensorflow/stream_executor/cuda/cuda_diagnostics.cc:163] no NVIDIA GPU device is present: /dev/nvidia0 does not exist\n",
      "2022-08-13 08:44:08.347752: I tensorflow/core/platform/cpu_feature_guard.cc:193] This TensorFlow binary is optimized with oneAPI Deep Neural Network Library (oneDNN) to use the following CPU instructions in performance-critical operations:  AVX2 FMA\n",
      "To enable them in other operations, rebuild TensorFlow with the appropriate compiler flags.\n"
     ]
    },
    {
     "name": "stdout",
     "output_type": "stream",
     "text": [
      "1445/1445 [==============================] - 2s 1ms/step - loss: 1.1939 - accuracy: 0.8015 - val_loss: 0.7848 - val_accuracy: 0.8169\n",
      "Epoch 2/100\n",
      "1445/1445 [==============================] - 1s 1ms/step - loss: 0.7314 - accuracy: 0.8201 - val_loss: 0.6454 - val_accuracy: 0.8220\n",
      "Epoch 3/100\n",
      "1445/1445 [==============================] - 2s 1ms/step - loss: 0.6047 - accuracy: 0.8452 - val_loss: 0.5954 - val_accuracy: 0.8404\n",
      "Epoch 4/100\n",
      "1445/1445 [==============================] - 2s 1ms/step - loss: 0.5771 - accuracy: 0.8447 - val_loss: 0.5205 - val_accuracy: 0.8435\n",
      "Epoch 5/100\n",
      "1445/1445 [==============================] - 2s 1ms/step - loss: 0.5369 - accuracy: 0.8503 - val_loss: 0.5669 - val_accuracy: 0.8451\n",
      "Epoch 6/100\n",
      "1445/1445 [==============================] - 2s 1ms/step - loss: 0.5377 - accuracy: 0.8460 - val_loss: 0.5277 - val_accuracy: 0.8447\n",
      "Epoch 7/100\n",
      "1445/1445 [==============================] - 2s 1ms/step - loss: 0.4566 - accuracy: 0.8491 - val_loss: 0.4722 - val_accuracy: 0.8388\n",
      "Epoch 8/100\n",
      "1445/1445 [==============================] - 2s 1ms/step - loss: 0.5009 - accuracy: 0.8318 - val_loss: 0.6495 - val_accuracy: 0.7918\n",
      "Epoch 9/100\n",
      "1445/1445 [==============================] - 2s 1ms/step - loss: 0.5132 - accuracy: 0.8283 - val_loss: 0.4746 - val_accuracy: 0.8451\n",
      "Epoch 10/100\n",
      "1445/1445 [==============================] - 2s 1ms/step - loss: 0.4197 - accuracy: 0.8570 - val_loss: 0.4308 - val_accuracy: 0.8463\n",
      "Epoch 11/100\n",
      "1445/1445 [==============================] - 2s 1ms/step - loss: 0.3980 - accuracy: 0.8588 - val_loss: 0.4290 - val_accuracy: 0.8463\n",
      "Epoch 12/100\n",
      "1445/1445 [==============================] - 2s 1ms/step - loss: 0.4169 - accuracy: 0.8572 - val_loss: 0.5408 - val_accuracy: 0.7514\n",
      "Epoch 13/100\n",
      "1445/1445 [==============================] - 2s 1ms/step - loss: 0.4621 - accuracy: 0.8300 - val_loss: 0.5298 - val_accuracy: 0.7208\n",
      "Epoch 14/100\n",
      "1445/1445 [==============================] - 2s 1ms/step - loss: 0.4251 - accuracy: 0.8471 - val_loss: 0.5185 - val_accuracy: 0.7788\n",
      "Epoch 15/100\n",
      "1445/1445 [==============================] - 2s 1ms/step - loss: 0.3954 - accuracy: 0.8565 - val_loss: 0.4039 - val_accuracy: 0.8549\n",
      "Epoch 16/100\n",
      "1445/1445 [==============================] - 2s 1ms/step - loss: 0.4094 - accuracy: 0.8408 - val_loss: 0.3996 - val_accuracy: 0.8494\n",
      "Epoch 17/100\n",
      "1445/1445 [==============================] - 2s 1ms/step - loss: 0.3888 - accuracy: 0.8577 - val_loss: 0.4367 - val_accuracy: 0.8561\n",
      "Epoch 18/100\n",
      "1445/1445 [==============================] - 2s 1ms/step - loss: 0.4126 - accuracy: 0.8619 - val_loss: 0.4227 - val_accuracy: 0.8514\n",
      "Epoch 19/100\n",
      "1445/1445 [==============================] - 2s 1ms/step - loss: 0.4174 - accuracy: 0.8584 - val_loss: 0.3983 - val_accuracy: 0.8510\n",
      "Epoch 20/100\n",
      "1445/1445 [==============================] - 2s 1ms/step - loss: 0.3779 - accuracy: 0.8621 - val_loss: 0.4804 - val_accuracy: 0.8569\n",
      "Epoch 21/100\n",
      "1445/1445 [==============================] - 2s 1ms/step - loss: 0.4523 - accuracy: 0.8042 - val_loss: 0.4940 - val_accuracy: 0.7737\n",
      "Epoch 22/100\n",
      "1445/1445 [==============================] - 2s 1ms/step - loss: 0.4220 - accuracy: 0.8414 - val_loss: 0.4138 - val_accuracy: 0.8439\n",
      "Epoch 23/100\n",
      "1445/1445 [==============================] - 2s 1ms/step - loss: 0.3994 - accuracy: 0.8517 - val_loss: 0.3976 - val_accuracy: 0.8545\n",
      "Epoch 24/100\n",
      "1445/1445 [==============================] - 2s 1ms/step - loss: 0.3628 - accuracy: 0.8617 - val_loss: 0.4251 - val_accuracy: 0.8553\n",
      "Epoch 25/100\n",
      "1445/1445 [==============================] - 2s 1ms/step - loss: 0.3797 - accuracy: 0.8584 - val_loss: 0.4127 - val_accuracy: 0.8518\n",
      "Epoch 26/100\n",
      "1445/1445 [==============================] - 2s 1ms/step - loss: 0.3737 - accuracy: 0.8593 - val_loss: 0.4168 - val_accuracy: 0.8545\n",
      "Epoch 27/100\n",
      "1445/1445 [==============================] - 2s 1ms/step - loss: 0.3835 - accuracy: 0.8593 - val_loss: 0.3999 - val_accuracy: 0.8471\n",
      "Epoch 28/100\n",
      "1445/1445 [==============================] - 2s 1ms/step - loss: 0.3734 - accuracy: 0.8576 - val_loss: 0.4201 - val_accuracy: 0.8541\n",
      "Epoch 29/100\n",
      "1445/1445 [==============================] - 2s 1ms/step - loss: 0.3751 - accuracy: 0.8602 - val_loss: 0.4756 - val_accuracy: 0.8506\n",
      "Epoch 30/100\n",
      "1445/1445 [==============================] - 2s 1ms/step - loss: 0.3810 - accuracy: 0.8601 - val_loss: 0.3919 - val_accuracy: 0.8494\n",
      "Epoch 31/100\n",
      "1445/1445 [==============================] - 2s 1ms/step - loss: 0.3824 - accuracy: 0.8567 - val_loss: 0.4327 - val_accuracy: 0.8553\n",
      "Epoch 32/100\n",
      "1445/1445 [==============================] - 2s 1ms/step - loss: 0.3771 - accuracy: 0.8628 - val_loss: 0.4500 - val_accuracy: 0.8412\n",
      "Epoch 33/100\n",
      "1445/1445 [==============================] - 2s 1ms/step - loss: 0.3812 - accuracy: 0.8574 - val_loss: 0.4314 - val_accuracy: 0.8518\n",
      "Epoch 34/100\n",
      "1445/1445 [==============================] - 2s 1ms/step - loss: 0.3818 - accuracy: 0.8584 - val_loss: 0.4030 - val_accuracy: 0.8510\n",
      "Epoch 35/100\n",
      "1445/1445 [==============================] - 2s 1ms/step - loss: 0.3747 - accuracy: 0.8608 - val_loss: 0.4351 - val_accuracy: 0.8537\n",
      "Epoch 36/100\n",
      "1445/1445 [==============================] - 2s 1ms/step - loss: 0.3785 - accuracy: 0.8608 - val_loss: 0.4140 - val_accuracy: 0.8490\n",
      "Epoch 37/100\n",
      "1445/1445 [==============================] - 2s 1ms/step - loss: 0.3846 - accuracy: 0.8624 - val_loss: 0.4011 - val_accuracy: 0.8553\n",
      "Epoch 38/100\n",
      "1445/1445 [==============================] - 2s 1ms/step - loss: 0.3912 - accuracy: 0.8608 - val_loss: 0.4031 - val_accuracy: 0.8518\n",
      "Epoch 39/100\n",
      "1445/1445 [==============================] - 2s 1ms/step - loss: 0.3763 - accuracy: 0.8594 - val_loss: 0.3929 - val_accuracy: 0.8537\n",
      "Epoch 40/100\n",
      "1445/1445 [==============================] - 2s 1ms/step - loss: 0.3773 - accuracy: 0.8585 - val_loss: 0.3991 - val_accuracy: 0.8565\n",
      "Epoch 41/100\n",
      "1445/1445 [==============================] - 2s 1ms/step - loss: 0.3665 - accuracy: 0.8630 - val_loss: 0.3832 - val_accuracy: 0.8537\n",
      "Epoch 42/100\n",
      "1445/1445 [==============================] - 2s 1ms/step - loss: 0.3616 - accuracy: 0.8633 - val_loss: 0.4399 - val_accuracy: 0.8584\n",
      "Epoch 43/100\n",
      "1445/1445 [==============================] - 2s 1ms/step - loss: 0.3805 - accuracy: 0.8602 - val_loss: 0.4033 - val_accuracy: 0.8518\n",
      "Epoch 44/100\n",
      "1445/1445 [==============================] - 2s 1ms/step - loss: 0.3827 - accuracy: 0.8571 - val_loss: 0.4378 - val_accuracy: 0.8443\n",
      "Epoch 45/100\n",
      "1445/1445 [==============================] - 2s 1ms/step - loss: 0.3856 - accuracy: 0.8597 - val_loss: 0.4407 - val_accuracy: 0.8537\n",
      "Epoch 46/100\n",
      "1445/1445 [==============================] - 2s 1ms/step - loss: 0.3907 - accuracy: 0.8471 - val_loss: 0.3985 - val_accuracy: 0.8475\n",
      "Epoch 47/100\n",
      "1445/1445 [==============================] - 2s 1ms/step - loss: 0.3708 - accuracy: 0.8598 - val_loss: 0.4051 - val_accuracy: 0.8494\n",
      "Epoch 48/100\n",
      "1445/1445 [==============================] - 2s 1ms/step - loss: 0.3730 - accuracy: 0.8620 - val_loss: 0.4116 - val_accuracy: 0.8522\n",
      "Epoch 49/100\n",
      "1445/1445 [==============================] - 2s 1ms/step - loss: 0.3675 - accuracy: 0.8622 - val_loss: 0.4576 - val_accuracy: 0.8396\n",
      "Epoch 50/100\n",
      "1445/1445 [==============================] - 2s 1ms/step - loss: 0.3734 - accuracy: 0.8599 - val_loss: 0.3942 - val_accuracy: 0.8522\n",
      "Epoch 51/100\n",
      "1445/1445 [==============================] - 2s 1ms/step - loss: 0.3674 - accuracy: 0.8596 - val_loss: 0.4087 - val_accuracy: 0.8490\n",
      "Epoch 52/100\n",
      "1445/1445 [==============================] - 2s 1ms/step - loss: 0.3764 - accuracy: 0.8599 - val_loss: 0.3971 - val_accuracy: 0.8518\n",
      "Epoch 53/100\n",
      "1445/1445 [==============================] - 2s 1ms/step - loss: 0.3709 - accuracy: 0.8626 - val_loss: 0.3842 - val_accuracy: 0.8514\n",
      "Epoch 54/100\n",
      "1445/1445 [==============================] - 2s 1ms/step - loss: 0.3700 - accuracy: 0.8557 - val_loss: 0.3724 - val_accuracy: 0.8522\n",
      "Epoch 55/100\n",
      "1445/1445 [==============================] - 2s 1ms/step - loss: 0.3556 - accuracy: 0.8627 - val_loss: 0.3835 - val_accuracy: 0.8549\n",
      "Epoch 56/100\n",
      "1445/1445 [==============================] - 2s 1ms/step - loss: 0.3637 - accuracy: 0.8636 - val_loss: 0.4010 - val_accuracy: 0.8545\n",
      "Epoch 57/100\n"
     ]
    },
    {
     "name": "stdout",
     "output_type": "stream",
     "text": [
      "1445/1445 [==============================] - 2s 1ms/step - loss: 0.3607 - accuracy: 0.8609 - val_loss: 0.4002 - val_accuracy: 0.8510\n",
      "Epoch 58/100\n",
      "1445/1445 [==============================] - 2s 1ms/step - loss: 0.3834 - accuracy: 0.8656 - val_loss: 0.4919 - val_accuracy: 0.8514\n",
      "Epoch 59/100\n",
      "1445/1445 [==============================] - 2s 1ms/step - loss: 0.3634 - accuracy: 0.8644 - val_loss: 0.4092 - val_accuracy: 0.8553\n",
      "Epoch 60/100\n",
      "1445/1445 [==============================] - 2s 1ms/step - loss: 0.3694 - accuracy: 0.8657 - val_loss: 0.4534 - val_accuracy: 0.8537\n",
      "Epoch 61/100\n",
      "1445/1445 [==============================] - 2s 1ms/step - loss: 0.3679 - accuracy: 0.8662 - val_loss: 0.4406 - val_accuracy: 0.8553\n",
      "Epoch 62/100\n",
      "1445/1445 [==============================] - 2s 1ms/step - loss: 0.3807 - accuracy: 0.8556 - val_loss: 0.4065 - val_accuracy: 0.8533\n",
      "Epoch 63/100\n",
      "1445/1445 [==============================] - 2s 1ms/step - loss: 0.3658 - accuracy: 0.8628 - val_loss: 0.4731 - val_accuracy: 0.8525\n",
      "Epoch 64/100\n",
      "1445/1445 [==============================] - 2s 1ms/step - loss: 0.3716 - accuracy: 0.8591 - val_loss: 0.4032 - val_accuracy: 0.8471\n",
      "Epoch 65/100\n",
      "1445/1445 [==============================] - 2s 1ms/step - loss: 0.3637 - accuracy: 0.8637 - val_loss: 0.3964 - val_accuracy: 0.8494\n",
      "Epoch 66/100\n",
      "1445/1445 [==============================] - 2s 1ms/step - loss: 0.3667 - accuracy: 0.8624 - val_loss: 0.3945 - val_accuracy: 0.8573\n",
      "Epoch 67/100\n",
      "1445/1445 [==============================] - 2s 1ms/step - loss: 0.3620 - accuracy: 0.8635 - val_loss: 0.3870 - val_accuracy: 0.8604\n",
      "Epoch 68/100\n",
      "1445/1445 [==============================] - 2s 1ms/step - loss: 0.3612 - accuracy: 0.8624 - val_loss: 0.3783 - val_accuracy: 0.8565\n",
      "Epoch 69/100\n",
      "1445/1445 [==============================] - 2s 1ms/step - loss: 0.3675 - accuracy: 0.8628 - val_loss: 0.3676 - val_accuracy: 0.8514\n",
      "Epoch 70/100\n",
      "1445/1445 [==============================] - 2s 1ms/step - loss: 0.3760 - accuracy: 0.8642 - val_loss: 0.4060 - val_accuracy: 0.8569\n",
      "Epoch 71/100\n",
      "1445/1445 [==============================] - 2s 1ms/step - loss: 0.3675 - accuracy: 0.8622 - val_loss: 0.4073 - val_accuracy: 0.8553\n",
      "Epoch 72/100\n",
      "1445/1445 [==============================] - 2s 1ms/step - loss: 0.3668 - accuracy: 0.8621 - val_loss: 0.4079 - val_accuracy: 0.8557\n",
      "Epoch 73/100\n",
      "1445/1445 [==============================] - 2s 1ms/step - loss: 0.3833 - accuracy: 0.8549 - val_loss: 0.4004 - val_accuracy: 0.8498\n",
      "Epoch 74/100\n",
      "1445/1445 [==============================] - 2s 1ms/step - loss: 0.3652 - accuracy: 0.8579 - val_loss: 0.4081 - val_accuracy: 0.8525\n",
      "Epoch 75/100\n",
      "1445/1445 [==============================] - 2s 1ms/step - loss: 0.3617 - accuracy: 0.8624 - val_loss: 0.3996 - val_accuracy: 0.8518\n",
      "Epoch 76/100\n",
      "1445/1445 [==============================] - 2s 1ms/step - loss: 0.3583 - accuracy: 0.8634 - val_loss: 0.3933 - val_accuracy: 0.8557\n",
      "Epoch 77/100\n",
      "1445/1445 [==============================] - 2s 1ms/step - loss: 0.3661 - accuracy: 0.8626 - val_loss: 0.4316 - val_accuracy: 0.8533\n",
      "Epoch 78/100\n",
      "1445/1445 [==============================] - 2s 1ms/step - loss: 0.3680 - accuracy: 0.8624 - val_loss: 0.4284 - val_accuracy: 0.8553\n",
      "Epoch 79/100\n",
      "1445/1445 [==============================] - 2s 1ms/step - loss: 0.3685 - accuracy: 0.8633 - val_loss: 0.3955 - val_accuracy: 0.8561\n",
      "Epoch 80/100\n",
      "1445/1445 [==============================] - 2s 1ms/step - loss: 0.3583 - accuracy: 0.8641 - val_loss: 0.4977 - val_accuracy: 0.8580\n",
      "Epoch 81/100\n",
      "1445/1445 [==============================] - 2s 1ms/step - loss: 0.3887 - accuracy: 0.8530 - val_loss: 0.3877 - val_accuracy: 0.8498\n",
      "Epoch 82/100\n",
      "1445/1445 [==============================] - 2s 1ms/step - loss: 0.3682 - accuracy: 0.8615 - val_loss: 0.4436 - val_accuracy: 0.8596\n",
      "Epoch 83/100\n",
      "1445/1445 [==============================] - 2s 1ms/step - loss: 0.3655 - accuracy: 0.8633 - val_loss: 0.3994 - val_accuracy: 0.8478\n",
      "Epoch 84/100\n",
      "1445/1445 [==============================] - 2s 1ms/step - loss: 0.3631 - accuracy: 0.8635 - val_loss: 0.4194 - val_accuracy: 0.8576\n",
      "Epoch 85/100\n",
      "1445/1445 [==============================] - 2s 1ms/step - loss: 0.3619 - accuracy: 0.8633 - val_loss: 0.4128 - val_accuracy: 0.8569\n",
      "Epoch 86/100\n",
      "1445/1445 [==============================] - 2s 1ms/step - loss: 0.3708 - accuracy: 0.8616 - val_loss: 0.4069 - val_accuracy: 0.8525\n",
      "Epoch 87/100\n",
      "1445/1445 [==============================] - 2s 1ms/step - loss: 0.3612 - accuracy: 0.8615 - val_loss: 0.4098 - val_accuracy: 0.8518\n",
      "Epoch 88/100\n",
      "1445/1445 [==============================] - 2s 1ms/step - loss: 0.3777 - accuracy: 0.8610 - val_loss: 0.3981 - val_accuracy: 0.8506\n",
      "Epoch 89/100\n",
      "1445/1445 [==============================] - 2s 1ms/step - loss: 0.3629 - accuracy: 0.8599 - val_loss: 0.3897 - val_accuracy: 0.8533\n",
      "Epoch 90/100\n",
      "1445/1445 [==============================] - 2s 1ms/step - loss: 0.3690 - accuracy: 0.8615 - val_loss: 0.4207 - val_accuracy: 0.8463\n",
      "Epoch 91/100\n",
      "1445/1445 [==============================] - 2s 1ms/step - loss: 0.3522 - accuracy: 0.8598 - val_loss: 0.4474 - val_accuracy: 0.8506\n",
      "Epoch 92/100\n",
      "1445/1445 [==============================] - 2s 1ms/step - loss: 0.3528 - accuracy: 0.8616 - val_loss: 0.4020 - val_accuracy: 0.8498\n",
      "Epoch 93/100\n",
      "1445/1445 [==============================] - 2s 1ms/step - loss: 0.3610 - accuracy: 0.8621 - val_loss: 0.4059 - val_accuracy: 0.8549\n",
      "Epoch 94/100\n",
      "1445/1445 [==============================] - 2s 1ms/step - loss: 0.3587 - accuracy: 0.8613 - val_loss: 0.3922 - val_accuracy: 0.8471\n",
      "Epoch 95/100\n",
      "1445/1445 [==============================] - 2s 1ms/step - loss: 0.3607 - accuracy: 0.8601 - val_loss: 0.3772 - val_accuracy: 0.8518\n",
      "Epoch 96/100\n",
      "1445/1445 [==============================] - 2s 1ms/step - loss: 0.3703 - accuracy: 0.8631 - val_loss: 0.3999 - val_accuracy: 0.8533\n",
      "Epoch 97/100\n",
      "1445/1445 [==============================] - 2s 1ms/step - loss: 0.3681 - accuracy: 0.8644 - val_loss: 0.3912 - val_accuracy: 0.8541\n",
      "Epoch 98/100\n",
      "1445/1445 [==============================] - 2s 1ms/step - loss: 0.3608 - accuracy: 0.8636 - val_loss: 0.4224 - val_accuracy: 0.8529\n",
      "Epoch 99/100\n",
      "1445/1445 [==============================] - 2s 1ms/step - loss: 0.3624 - accuracy: 0.8637 - val_loss: 0.4137 - val_accuracy: 0.8525\n",
      "Epoch 100/100\n",
      "1445/1445 [==============================] - 2s 1ms/step - loss: 0.3735 - accuracy: 0.8627 - val_loss: 0.3721 - val_accuracy: 0.8522\n",
      "Training of sequential neural networks took 162.10035300254822 seconds\n"
     ]
    }
   ],
   "source": [
    "time0_sequentialnn = time.time()\n",
    "\n",
    "nn_basic = tf.keras.Sequential()\n",
    "\n",
    "nn_basic.add(tf.keras.layers.Dense(6))#, input_shape=(105,)))\n",
    "nn_basic.add(tf.keras.layers.Dense(6))#, input_shape=(105,)))\n",
    "nn_basic.add(tf.keras.layers.Dense(1))#, input_shape=(105,)))\n",
    "\n",
    "#len(nn_basic.weights)\n",
    "\n",
    "nn_basic.compile(optimizer=\"Adam\", loss=\"binary_crossentropy\", metrics=[\"accuracy\"])#[tf.keras.metrics.AUC()])#\n",
    "\n",
    "nn_basic.fit(X_train_np, Y_train_np, batch_size = 10, epochs = 100, validation_data = (X_valid_np, Y_valid_np))\n",
    "\n",
    "time1_sequentialnn = time.time()\n",
    "\n",
    "print(f\"Training of sequential neural networks took {time1_sequentialnn - time0_sequentialnn} seconds\")"
   ]
  },
  {
   "cell_type": "code",
   "execution_count": 16,
   "id": "790803fa",
   "metadata": {},
   "outputs": [
    {
     "name": "stdout",
     "output_type": "stream",
     "text": [
      "94/94 [==============================] - 0s 871us/step\n",
      "Best Threshold=0.454676, with F-Score=0.865\n"
     ]
    },
    {
     "data": {
      "image/png": "[encoded data removed]",
      "text/plain": [
       "<Figure size 432x288 with 1 Axes>"
      ]
     },
     "metadata": {
      "needs_background": "light"
     },
     "output_type": "display_data"
    }
   ],
   "source": [
    "# PR AUC for sequential neural networks\n",
    "# from probabilities to estimation of predicted y (best threshold found with Fscore)\n",
    "Y_proba_np = nn_basic.predict(X_test_np)\n",
    "\n",
    "best_threshold, best_fscore = compute_best_fscore(Y_test, Y_proba_np)\n",
    "\n",
    "Y_pred_np = (Y_proba_np > best_threshold).astype(int)"
   ]
  },
  {
   "cell_type": "code",
   "execution_count": 17,
   "id": "bceb3db6",
   "metadata": {},
   "outputs": [
    {
     "data": {
      "image/png": "[encoded data removed]",
      "text/plain": [
       "<Figure size 432x288 with 1 Axes>"
      ]
     },
     "metadata": {
      "needs_background": "light"
     },
     "output_type": "display_data"
    }
   ],
   "source": [
    "mu, sigma = 200, 25\n",
    "n, bins, patches = plt.hist(Y_proba_np)\n",
    "plt.show()"
   ]
  },
  {
   "cell_type": "code",
   "execution_count": 18,
   "id": "a02afdbd",
   "metadata": {},
   "outputs": [
    {
     "data": {
      "image/png": "[encoded data removed]",
      "text/plain": [
       "<Figure size 432x288 with 1 Axes>"
      ]
     },
     "metadata": {
      "needs_background": "light"
     },
     "output_type": "display_data"
    }
   ],
   "source": [
    "# normalise the results\n",
    "normalized_sequential_nn_preds = (Y_proba_np - np.min(Y_proba_np)) / (np.max(Y_proba_np) - np.min(Y_proba_np))\n",
    "\n",
    "mu, sigma = 200, 25\n",
    "n, bins, patches = plt.hist(normalized_sequential_nn_preds)\n",
    "plt.show()"
   ]
  },
  {
   "cell_type": "code",
   "execution_count": 19,
   "id": "c2941f02",
   "metadata": {
    "scrolled": true
   },
   "outputs": [
    {
     "name": "stdout",
     "output_type": "stream",
     "text": [
      "              precision    recall  f1-score   support\n",
      "\n",
      "           0       0.92      0.75      0.83      1440\n",
      "           1       0.80      0.94      0.86      1560\n",
      "\n",
      "    accuracy                           0.85      3000\n",
      "   macro avg       0.86      0.84      0.84      3000\n",
      "weighted avg       0.86      0.85      0.85      3000\n",
      "\n"
     ]
    }
   ],
   "source": [
    "print (classification_report(Y_test_np, Y_pred_np))\n",
    "cm = confusion_matrix(Y_test_np, Y_pred_np)"
   ]
  },
  {
   "cell_type": "code",
   "execution_count": 20,
   "id": "8e7abc68",
   "metadata": {},
   "outputs": [
    {
     "data": {
      "image/png": "[encoded data removed]",
      "text/plain": [
       "<Figure size 432x288 with 1 Axes>"
      ]
     },
     "metadata": {
      "needs_background": "light"
     },
     "output_type": "display_data"
    },
    {
     "name": "stdout",
     "output_type": "stream",
     "text": [
      "Gini_coefficient = 0.8594261930199427\n"
     ]
    }
   ],
   "source": [
    "# ROC AUC for sequential neural networks\n",
    "false_positive_rate, true_positive_rate, thresholds = roc_curve(Y_test_np, Y_proba_np)\n",
    "roc_auc = auc(false_positive_rate, true_positive_rate)\n",
    "\n",
    "plt.title('ROC AUC for Sequential Neural Network')\n",
    "plt.plot(false_positive_rate, true_positive_rate, 'b',label='AUC = %0.2f'% roc_auc)\n",
    "plt.legend(loc='lower right')\n",
    "plt.plot([0,1],[0,1],'r--')\n",
    "plt.xlim([-0.1,1.2])\n",
    "plt.ylim([-0.1,1.2])\n",
    "plt.ylabel('True Positive Rate')\n",
    "plt.xlabel('False Positive Rate')\n",
    "plt.show()\n",
    "\n",
    "Gini_coefficient=2*roc_auc - 1\n",
    "print (f\"Gini_coefficient = {Gini_coefficient}\")"
   ]
  },
  {
   "cell_type": "code",
   "execution_count": 21,
   "id": "afd75162",
   "metadata": {},
   "outputs": [
    {
     "data": {
      "image/png": "[encoded data removed]",
      "text/plain": [
       "<Figure size 432x288 with 1 Axes>"
      ]
     },
     "metadata": {
      "needs_background": "light"
     },
     "output_type": "display_data"
    },
    {
     "name": "stdout",
     "output_type": "stream",
     "text": [
      "Gini_coefficient = 0.7788273001508297\n"
     ]
    }
   ],
   "source": [
    "false_positive_rate, true_positive_rate, thresholds = roc_curve(Y_train_valid, Y_pred_train_valid)\n",
    "roc_auc = auc(false_positive_rate, true_positive_rate)\n",
    "\n",
    "plt.title('ROC AUC for XGBoost')\n",
    "plt.plot(false_positive_rate, true_positive_rate, 'b',label='AUC = %0.2f'% roc_auc)\n",
    "plt.legend(loc='lower right')\n",
    "plt.plot([0,1],[0,1],'r--')\n",
    "plt.xlim([-0.1,1.2])\n",
    "plt.ylim([-0.1,1.2])\n",
    "plt.ylabel('True Positive Rate')\n",
    "plt.xlabel('False Positive Rate')\n",
    "plt.show()\n",
    "\n",
    "Gini_coefficient=2*roc_auc - 1\n",
    "print (f\"Gini_coefficient = {Gini_coefficient}\")"
   ]
  },
  {
   "cell_type": "code",
   "execution_count": 22,
   "id": "ddc8d9a2",
   "metadata": {},
   "outputs": [
    {
     "name": "stdout",
     "output_type": "stream",
     "text": [
      "\n",
      " Other classification metrics for Sequential Neural Networks \n",
      "\n",
      "              precision    recall  f1-score   support\n",
      "\n",
      "           0       0.92      0.75      0.83      1440\n",
      "           1       0.80      0.94      0.86      1560\n",
      "\n",
      "    accuracy                           0.85      3000\n",
      "   macro avg       0.86      0.84      0.84      3000\n",
      "weighted avg       0.86      0.85      0.85      3000\n",
      "\n"
     ]
    }
   ],
   "source": [
    "# classification reports with other metrics\n",
    "print(f\"\\n Other classification metrics for Sequential Neural Networks \\n\")\n",
    "\n",
    "print (classification_report(Y_test_np, Y_pred_np))"
   ]
  },
  {
   "cell_type": "markdown",
   "id": "b48be396",
   "metadata": {},
   "source": [
    "## Detection alert (on train&valid data to examine if the model learned discriminant behavior)"
   ]
  },
  {
   "cell_type": "code",
   "execution_count": 23,
   "id": "46799a08",
   "metadata": {},
   "outputs": [
    {
     "data": {
      "text/html": [
       "<div>\n",
       "<style scoped>\n",
       "    .dataframe tbody tr th:only-of-type {\n",
       "        vertical-align: middle;\n",
       "    }\n",
       "\n",
       "    .dataframe tbody tr th {\n",
       "        vertical-align: top;\n",
       "    }\n",
       "\n",
       "    .dataframe thead th {\n",
       "        text-align: right;\n",
       "    }\n",
       "</style>\n",
       "<table border=\"1\" class=\"dataframe\">\n",
       "  <thead>\n",
       "    <tr style=\"text-align: right;\">\n",
       "      <th></th>\n",
       "      <th>age</th>\n",
       "      <th>fnlwgt</th>\n",
       "      <th>education-num</th>\n",
       "      <th>capital-gain</th>\n",
       "      <th>capital-loss</th>\n",
       "      <th>hours-per-week</th>\n",
       "      <th>workclass_Private</th>\n",
       "      <th>workclass_Self-emp-not-inc</th>\n",
       "      <th>workclass_Self-emp-inc</th>\n",
       "      <th>workclass_Federal-gov</th>\n",
       "      <th>...</th>\n",
       "      <th>native-country_Trinadad&amp;Tobago</th>\n",
       "      <th>native-country_Peru</th>\n",
       "      <th>native-country_Hong</th>\n",
       "      <th>native-country_Holand-Netherlands</th>\n",
       "      <th>target_train_valid</th>\n",
       "      <th>predicted_uncorrected</th>\n",
       "      <th>true_positive_uncorrected</th>\n",
       "      <th>false_positive_uncorrected</th>\n",
       "      <th>true_negative_uncorrected</th>\n",
       "      <th>false_negative_uncorrected</th>\n",
       "    </tr>\n",
       "  </thead>\n",
       "  <tbody>\n",
       "    <tr>\n",
       "      <th>15075</th>\n",
       "      <td>23.0</td>\n",
       "      <td>241752.0</td>\n",
       "      <td>9.0</td>\n",
       "      <td>0.0</td>\n",
       "      <td>0.0</td>\n",
       "      <td>40.0</td>\n",
       "      <td>1</td>\n",
       "      <td>0</td>\n",
       "      <td>0</td>\n",
       "      <td>0</td>\n",
       "      <td>...</td>\n",
       "      <td>0</td>\n",
       "      <td>0</td>\n",
       "      <td>0</td>\n",
       "      <td>0</td>\n",
       "      <td>0</td>\n",
       "      <td>0</td>\n",
       "      <td>0</td>\n",
       "      <td>1</td>\n",
       "      <td>1</td>\n",
       "      <td>0</td>\n",
       "    </tr>\n",
       "    <tr>\n",
       "      <th>26360</th>\n",
       "      <td>57.0</td>\n",
       "      <td>278228.0</td>\n",
       "      <td>13.0</td>\n",
       "      <td>0.0</td>\n",
       "      <td>0.0</td>\n",
       "      <td>50.0</td>\n",
       "      <td>1</td>\n",
       "      <td>0</td>\n",
       "      <td>0</td>\n",
       "      <td>0</td>\n",
       "      <td>...</td>\n",
       "      <td>0</td>\n",
       "      <td>0</td>\n",
       "      <td>0</td>\n",
       "      <td>0</td>\n",
       "      <td>1</td>\n",
       "      <td>1</td>\n",
       "      <td>1</td>\n",
       "      <td>0</td>\n",
       "      <td>0</td>\n",
       "      <td>1</td>\n",
       "    </tr>\n",
       "    <tr>\n",
       "      <th>19231</th>\n",
       "      <td>27.0</td>\n",
       "      <td>169662.0</td>\n",
       "      <td>13.0</td>\n",
       "      <td>0.0</td>\n",
       "      <td>0.0</td>\n",
       "      <td>42.0</td>\n",
       "      <td>1</td>\n",
       "      <td>0</td>\n",
       "      <td>0</td>\n",
       "      <td>0</td>\n",
       "      <td>...</td>\n",
       "      <td>0</td>\n",
       "      <td>0</td>\n",
       "      <td>0</td>\n",
       "      <td>0</td>\n",
       "      <td>1</td>\n",
       "      <td>1</td>\n",
       "      <td>1</td>\n",
       "      <td>0</td>\n",
       "      <td>0</td>\n",
       "      <td>1</td>\n",
       "    </tr>\n",
       "    <tr>\n",
       "      <th>35090</th>\n",
       "      <td>41.0</td>\n",
       "      <td>220821.0</td>\n",
       "      <td>13.0</td>\n",
       "      <td>7688.0</td>\n",
       "      <td>0.0</td>\n",
       "      <td>40.0</td>\n",
       "      <td>0</td>\n",
       "      <td>0</td>\n",
       "      <td>1</td>\n",
       "      <td>0</td>\n",
       "      <td>...</td>\n",
       "      <td>0</td>\n",
       "      <td>0</td>\n",
       "      <td>0</td>\n",
       "      <td>0</td>\n",
       "      <td>1</td>\n",
       "      <td>1</td>\n",
       "      <td>1</td>\n",
       "      <td>0</td>\n",
       "      <td>0</td>\n",
       "      <td>1</td>\n",
       "    </tr>\n",
       "    <tr>\n",
       "      <th>31123</th>\n",
       "      <td>54.0</td>\n",
       "      <td>171924.0</td>\n",
       "      <td>13.0</td>\n",
       "      <td>0.0</td>\n",
       "      <td>0.0</td>\n",
       "      <td>48.0</td>\n",
       "      <td>1</td>\n",
       "      <td>0</td>\n",
       "      <td>0</td>\n",
       "      <td>0</td>\n",
       "      <td>...</td>\n",
       "      <td>0</td>\n",
       "      <td>0</td>\n",
       "      <td>0</td>\n",
       "      <td>0</td>\n",
       "      <td>0</td>\n",
       "      <td>1</td>\n",
       "      <td>0</td>\n",
       "      <td>1</td>\n",
       "      <td>0</td>\n",
       "      <td>1</td>\n",
       "    </tr>\n",
       "    <tr>\n",
       "      <th>...</th>\n",
       "      <td>...</td>\n",
       "      <td>...</td>\n",
       "      <td>...</td>\n",
       "      <td>...</td>\n",
       "      <td>...</td>\n",
       "      <td>...</td>\n",
       "      <td>...</td>\n",
       "      <td>...</td>\n",
       "      <td>...</td>\n",
       "      <td>...</td>\n",
       "      <td>...</td>\n",
       "      <td>...</td>\n",
       "      <td>...</td>\n",
       "      <td>...</td>\n",
       "      <td>...</td>\n",
       "      <td>...</td>\n",
       "      <td>...</td>\n",
       "      <td>...</td>\n",
       "      <td>...</td>\n",
       "      <td>...</td>\n",
       "      <td>...</td>\n",
       "    </tr>\n",
       "    <tr>\n",
       "      <th>46622</th>\n",
       "      <td>50.0</td>\n",
       "      <td>201513.0</td>\n",
       "      <td>9.0</td>\n",
       "      <td>0.0</td>\n",
       "      <td>0.0</td>\n",
       "      <td>40.0</td>\n",
       "      <td>0</td>\n",
       "      <td>0</td>\n",
       "      <td>0</td>\n",
       "      <td>0</td>\n",
       "      <td>...</td>\n",
       "      <td>0</td>\n",
       "      <td>0</td>\n",
       "      <td>0</td>\n",
       "      <td>0</td>\n",
       "      <td>0</td>\n",
       "      <td>0</td>\n",
       "      <td>0</td>\n",
       "      <td>1</td>\n",
       "      <td>1</td>\n",
       "      <td>0</td>\n",
       "    </tr>\n",
       "    <tr>\n",
       "      <th>48447</th>\n",
       "      <td>42.0</td>\n",
       "      <td>189956.0</td>\n",
       "      <td>13.0</td>\n",
       "      <td>0.0</td>\n",
       "      <td>0.0</td>\n",
       "      <td>30.0</td>\n",
       "      <td>0</td>\n",
       "      <td>0</td>\n",
       "      <td>0</td>\n",
       "      <td>0</td>\n",
       "      <td>...</td>\n",
       "      <td>0</td>\n",
       "      <td>0</td>\n",
       "      <td>0</td>\n",
       "      <td>0</td>\n",
       "      <td>0</td>\n",
       "      <td>0</td>\n",
       "      <td>0</td>\n",
       "      <td>1</td>\n",
       "      <td>1</td>\n",
       "      <td>0</td>\n",
       "    </tr>\n",
       "    <tr>\n",
       "      <th>11007</th>\n",
       "      <td>54.0</td>\n",
       "      <td>146325.0</td>\n",
       "      <td>13.0</td>\n",
       "      <td>0.0</td>\n",
       "      <td>0.0</td>\n",
       "      <td>40.0</td>\n",
       "      <td>1</td>\n",
       "      <td>0</td>\n",
       "      <td>0</td>\n",
       "      <td>0</td>\n",
       "      <td>...</td>\n",
       "      <td>0</td>\n",
       "      <td>0</td>\n",
       "      <td>0</td>\n",
       "      <td>0</td>\n",
       "      <td>1</td>\n",
       "      <td>1</td>\n",
       "      <td>1</td>\n",
       "      <td>0</td>\n",
       "      <td>0</td>\n",
       "      <td>1</td>\n",
       "    </tr>\n",
       "    <tr>\n",
       "      <th>8859</th>\n",
       "      <td>61.0</td>\n",
       "      <td>289950.0</td>\n",
       "      <td>13.0</td>\n",
       "      <td>0.0</td>\n",
       "      <td>0.0</td>\n",
       "      <td>44.0</td>\n",
       "      <td>1</td>\n",
       "      <td>0</td>\n",
       "      <td>0</td>\n",
       "      <td>0</td>\n",
       "      <td>...</td>\n",
       "      <td>0</td>\n",
       "      <td>0</td>\n",
       "      <td>0</td>\n",
       "      <td>0</td>\n",
       "      <td>1</td>\n",
       "      <td>1</td>\n",
       "      <td>1</td>\n",
       "      <td>0</td>\n",
       "      <td>0</td>\n",
       "      <td>1</td>\n",
       "    </tr>\n",
       "    <tr>\n",
       "      <th>26576</th>\n",
       "      <td>17.0</td>\n",
       "      <td>228399.0</td>\n",
       "      <td>7.0</td>\n",
       "      <td>0.0</td>\n",
       "      <td>0.0</td>\n",
       "      <td>7.0</td>\n",
       "      <td>1</td>\n",
       "      <td>0</td>\n",
       "      <td>0</td>\n",
       "      <td>0</td>\n",
       "      <td>...</td>\n",
       "      <td>0</td>\n",
       "      <td>0</td>\n",
       "      <td>0</td>\n",
       "      <td>0</td>\n",
       "      <td>0</td>\n",
       "      <td>0</td>\n",
       "      <td>0</td>\n",
       "      <td>1</td>\n",
       "      <td>1</td>\n",
       "      <td>0</td>\n",
       "    </tr>\n",
       "  </tbody>\n",
       "</table>\n",
       "<p>17000 rows × 111 columns</p>\n",
       "</div>"
      ],
      "text/plain": [
       "        age    fnlwgt  education-num  capital-gain  capital-loss  \\\n",
       "15075  23.0  241752.0            9.0           0.0           0.0   \n",
       "26360  57.0  278228.0           13.0           0.0           0.0   \n",
       "19231  27.0  169662.0           13.0           0.0           0.0   \n",
       "35090  41.0  220821.0           13.0        7688.0           0.0   \n",
       "31123  54.0  171924.0           13.0           0.0           0.0   \n",
       "...     ...       ...            ...           ...           ...   \n",
       "46622  50.0  201513.0            9.0           0.0           0.0   \n",
       "48447  42.0  189956.0           13.0           0.0           0.0   \n",
       "11007  54.0  146325.0           13.0           0.0           0.0   \n",
       "8859   61.0  289950.0           13.0           0.0           0.0   \n",
       "26576  17.0  228399.0            7.0           0.0           0.0   \n",
       "\n",
       "       hours-per-week  workclass_Private  workclass_Self-emp-not-inc  \\\n",
       "15075            40.0                  1                           0   \n",
       "26360            50.0                  1                           0   \n",
       "19231            42.0                  1                           0   \n",
       "35090            40.0                  0                           0   \n",
       "31123            48.0                  1                           0   \n",
       "...               ...                ...                         ...   \n",
       "46622            40.0                  0                           0   \n",
       "48447            30.0                  0                           0   \n",
       "11007            40.0                  1                           0   \n",
       "8859             44.0                  1                           0   \n",
       "26576             7.0                  1                           0   \n",
       "\n",
       "       workclass_Self-emp-inc  workclass_Federal-gov  ...  \\\n",
       "15075                       0                      0  ...   \n",
       "26360                       0                      0  ...   \n",
       "19231                       0                      0  ...   \n",
       "35090                       1                      0  ...   \n",
       "31123                       0                      0  ...   \n",
       "...                       ...                    ...  ...   \n",
       "46622                       0                      0  ...   \n",
       "48447                       0                      0  ...   \n",
       "11007                       0                      0  ...   \n",
       "8859                        0                      0  ...   \n",
       "26576                       0                      0  ...   \n",
       "\n",
       "       native-country_Trinadad&Tobago  native-country_Peru  \\\n",
       "15075                               0                    0   \n",
       "26360                               0                    0   \n",
       "19231                               0                    0   \n",
       "35090                               0                    0   \n",
       "31123                               0                    0   \n",
       "...                               ...                  ...   \n",
       "46622                               0                    0   \n",
       "48447                               0                    0   \n",
       "11007                               0                    0   \n",
       "8859                                0                    0   \n",
       "26576                               0                    0   \n",
       "\n",
       "       native-country_Hong  native-country_Holand-Netherlands  \\\n",
       "15075                    0                                  0   \n",
       "26360                    0                                  0   \n",
       "19231                    0                                  0   \n",
       "35090                    0                                  0   \n",
       "31123                    0                                  0   \n",
       "...                    ...                                ...   \n",
       "46622                    0                                  0   \n",
       "48447                    0                                  0   \n",
       "11007                    0                                  0   \n",
       "8859                     0                                  0   \n",
       "26576                    0                                  0   \n",
       "\n",
       "       target_train_valid  predicted_uncorrected  true_positive_uncorrected  \\\n",
       "15075                   0                      0                          0   \n",
       "26360                   1                      1                          1   \n",
       "19231                   1                      1                          1   \n",
       "35090                   1                      1                          1   \n",
       "31123                   0                      1                          0   \n",
       "...                   ...                    ...                        ...   \n",
       "46622                   0                      0                          0   \n",
       "48447                   0                      0                          0   \n",
       "11007                   1                      1                          1   \n",
       "8859                    1                      1                          1   \n",
       "26576                   0                      0                          0   \n",
       "\n",
       "       false_positive_uncorrected  true_negative_uncorrected  \\\n",
       "15075                           1                          1   \n",
       "26360                           0                          0   \n",
       "19231                           0                          0   \n",
       "35090                           0                          0   \n",
       "31123                           1                          0   \n",
       "...                           ...                        ...   \n",
       "46622                           1                          1   \n",
       "48447                           1                          1   \n",
       "11007                           0                          0   \n",
       "8859                            0                          0   \n",
       "26576                           1                          1   \n",
       "\n",
       "       false_negative_uncorrected  \n",
       "15075                           0  \n",
       "26360                           1  \n",
       "19231                           1  \n",
       "35090                           1  \n",
       "31123                           1  \n",
       "...                           ...  \n",
       "46622                           0  \n",
       "48447                           0  \n",
       "11007                           1  \n",
       "8859                            1  \n",
       "26576                           0  \n",
       "\n",
       "[17000 rows x 111 columns]"
      ]
     },
     "execution_count": 23,
     "metadata": {},
     "output_type": "execute_result"
    }
   ],
   "source": [
    "train_valid_set_with_uncorrected_results = augment_train_valid_set_with_results(\n",
    "    model_name=\"uncorrected\", \n",
    "    previous_train_valid_set=X_train_valid, \n",
    "    Y_train_valid=Y_train_valid,\n",
    "    Y_pred_train_valid=Y_pred_train_valid, \n",
    "    model_task=model_task)"
   ]
  },
  {
   "cell_type": "code",
   "execution_count": 24,
   "id": "88bdacaf",
   "metadata": {},
   "outputs": [
    {
     "ename": "NameError",
     "evalue": "name 'train_valid_set_with_uncorrected_results' is not defined",
     "output_type": "error",
     "traceback": [
      "\u001b[0;31m---------------------------------------------------------------------------\u001b[0m",
      "\u001b[0;31mNameError\u001b[0m                                 Traceback (most recent call last)",
      "Input \u001b[0;32mIn [24]\u001b[0m, in \u001b[0;36m<module>\u001b[0;34m\u001b[0m\n\u001b[0;32m----> 1\u001b[0m df_loan \u001b[38;5;241m=\u001b[39m \u001b[43mtrain_valid_set_with_uncorrected_results\u001b[49m[train_valid_set_with_uncorrected_results[\u001b[38;5;124m'\u001b[39m\u001b[38;5;124mpredicted_uncorrected\u001b[39m\u001b[38;5;124m'\u001b[39m]\u001b[38;5;241m==\u001b[39m\u001b[38;5;241m1\u001b[39m]\n\u001b[1;32m      3\u001b[0m df_female_loan \u001b[38;5;241m=\u001b[39m train_valid_set_with_uncorrected_results[(train_valid_set_with_uncorrected_results[\u001b[38;5;124m'\u001b[39m\u001b[38;5;124msex_Female\u001b[39m\u001b[38;5;124m'\u001b[39m]\u001b[38;5;241m==\u001b[39m\u001b[38;5;241m1\u001b[39m)\u001b[38;5;241m&\u001b[39m(train_valid_set_with_uncorrected_results[\u001b[38;5;124m'\u001b[39m\u001b[38;5;124mpredicted_uncorrected\u001b[39m\u001b[38;5;124m'\u001b[39m]\u001b[38;5;241m==\u001b[39m\u001b[38;5;241m1\u001b[39m)]\n\u001b[1;32m      4\u001b[0m df_female_not_loan \u001b[38;5;241m=\u001b[39m train_valid_set_with_uncorrected_results[(train_valid_set_with_uncorrected_results[\u001b[38;5;124m'\u001b[39m\u001b[38;5;124msex_Female\u001b[39m\u001b[38;5;124m'\u001b[39m]\u001b[38;5;241m==\u001b[39m\u001b[38;5;241m1\u001b[39m)\u001b[38;5;241m&\u001b[39m(train_valid_set_with_uncorrected_results[\u001b[38;5;124m'\u001b[39m\u001b[38;5;124mpredicted_uncorrected\u001b[39m\u001b[38;5;124m'\u001b[39m]\u001b[38;5;241m==\u001b[39m\u001b[38;5;241m0\u001b[39m)]\n",
      "\u001b[0;31mNameError\u001b[0m: name 'train_valid_set_with_uncorrected_results' is not defined"
     ]
    }
   ],
   "source": [
    "df_loan = train_valid_set_with_uncorrected_results[train_valid_set_with_uncorrected_results['predicted_uncorrected']==1]\n",
    "\n",
    "df_female_loan = train_valid_set_with_uncorrected_results[(train_valid_set_with_uncorrected_results['sex_Female']==1)&(train_valid_set_with_uncorrected_results['predicted_uncorrected']==1)]\n",
    "df_female_not_loan = train_valid_set_with_uncorrected_results[(train_valid_set_with_uncorrected_results['sex_Female']==1)&(train_valid_set_with_uncorrected_results['predicted_uncorrected']==0)]"
   ]
  },
  {
   "cell_type": "code",
   "execution_count": null,
   "id": "edd86a89",
   "metadata": {},
   "outputs": [],
   "source": [
    "# mean of people whose loan was predicted to be granted\n",
    "df_loan.shape[0]/train_valid_set_with_uncorrected_results.shape[0]"
   ]
  },
  {
   "cell_type": "code",
   "execution_count": null,
   "id": "bb6547fe",
   "metadata": {},
   "outputs": [],
   "source": [
    "# mean of women whose loan was predicted to be granted\n",
    "df_female_loan.shape[0]/df_female_not_loan.shape[0]"
   ]
  },
  {
   "cell_type": "markdown",
   "id": "f9aa68a5",
   "metadata": {},
   "source": [
    "Further steps deal with fairness assessment and correction of this basic model (see FairDream tool of DreamQuark), not yet deployed here..."
   ]
  },
  {
   "cell_type": "markdown",
   "id": "88bb89f1",
   "metadata": {
    "scrolled": false
   },
   "source": [
    "augmented_train_valid_set = train_valid_set_with_uncorrected_results\n",
    "model_name = \"uncorrected\"\n",
    "\n",
    "fairness_purpose='percentage_positive'\n",
    "injustice_acceptance=1\n",
    "min_individuals_discrimined=0.01\n",
    "\n",
    "discrimination_alert(augmented_train_valid_set, model_name, fairness_purpose, model_task, injustice_acceptance, min_individuals_discrimined)"
   ]
  },
  {
   "cell_type": "markdown",
   "id": "beb6fb59",
   "metadata": {},
   "source": [
    "## Discrimination correction with a new fair model"
   ]
  },
  {
   "cell_type": "markdown",
   "id": "acbadc17",
   "metadata": {},
   "source": [
    "### Generating fairer models with grid search or weights distorsion"
   ]
  },
  {
   "cell_type": "markdown",
   "id": "482480b3",
   "metadata": {
    "scrolled": false
   },
   "source": [
    "# the user determines one's fairness objectives to build new fairer models\n",
    "# on which group and regarding which criteria (purpose, constraint of the models) one aims to erase discrimination\n",
    "\n",
    "protected_attribute = 'education-num'\n",
    "\n",
    "# then the user sets the desired balance between stat and fair performances \n",
    "tradeoff = \"moderate\"\n",
    "weight_method = 'grid_and_weighted_groups'\n",
    "nb_fair_models = 6\n",
    "\n",
    "\n",
    "train_valid_set_with_corrected_results, models_df, best_model_dict = fair_train(\n",
    "    X=X,\n",
    "    Y=Y,\n",
    "    train_valid_set_with_uncorrected_results=train_valid_set_with_uncorrected_results,\n",
    "    protected_attribute=protected_attribute,\n",
    "    fairness_purpose=fairness_purpose,\n",
    "    model_task=model_task,\n",
    "    stat_criteria=stat_criteria,\n",
    "    tradeoff=tradeoff,\n",
    "    weight_method=weight_method,\n",
    "    nb_fair_models=nb_fair_models,\n",
    ")"
   ]
  },
  {
   "cell_type": "markdown",
   "id": "2a35c752",
   "metadata": {},
   "source": [
    "### Evaluating the best fair model"
   ]
  },
  {
   "cell_type": "markdown",
   "id": "28c133ff",
   "metadata": {
    "scrolled": false
   },
   "source": [
    "fair_model_results(train_valid_set_with_corrected_results, models_df, best_model_dict,protected_attribute,fairness_purpose, model_task)"
   ]
  },
  {
   "cell_type": "markdown",
   "id": "11def59f",
   "metadata": {},
   "source": [
    "top_models = models_df.sort_values(by='tradeoff_score',ascending=False)\n",
    "top_models"
   ]
  }
 ],
 "metadata": {
  "kernelspec": {
   "display_name": "Python 3 (ipykernel)",
   "language": "python",
   "name": "python3"
  },
  "language_info": {
   "codemirror_mode": {
    "name": "ipython",
    "version": 3
   },
   "file_extension": ".py",
   "mimetype": "text/x-python",
   "name": "python",
   "nbconvert_exporter": "python",
   "pygments_lexer": "ipython3",
   "version": "3.8.0"
  },
  "toc": {
   "base_numbering": 1,
   "nav_menu": {},
   "number_sections": true,
   "sideBar": true,
   "skip_h1_title": false,
   "title_cell": "Table of Contents",
   "title_sidebar": "Contents",
   "toc_cell": false,
   "toc_position": {
    "height": "calc(100% - 180px)",
    "left": "10px",
    "top": "150px",
    "width": "250.067px"
   },
   "toc_section_display": true,
   "toc_window_display": true
  }
 },
 "nbformat": 4,
 "nbformat_minor": 5
}
